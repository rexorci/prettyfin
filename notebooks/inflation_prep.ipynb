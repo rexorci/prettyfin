{
 "cells": [
  {
   "cell_type": "markdown",
   "metadata": {},
   "source": [
    "### Inflation Rate"
   ]
  },
  {
   "cell_type": "markdown",
   "metadata": {},
   "source": [
    "Source from [here](https://www.laenderdaten.info/Europa/Schweiz/Inflationsraten.php)"
   ]
  },
  {
   "cell_type": "code",
   "execution_count": 74,
   "metadata": {},
   "outputs": [],
   "source": [
    "from pathlib import Path\n",
    "import json\n",
    "import os\n"
   ]
  },
  {
   "cell_type": "code",
   "execution_count": 75,
   "metadata": {},
   "outputs": [],
   "source": [
    "inflation = {\n",
    "2018:1.0094,\n",
    "2017:1.0053,\n",
    "2016:0.9957,\n",
    "2015:0.9886,\n",
    "2014:0.9999,\n",
    "2013:0.9978,\n",
    "2012:0.9931,\n",
    "2011:1.0023,\n",
    "2010:1.0069,\n",
    "2009:0.9952,\n",
    "2008:1.0243,\n",
    "2007:1.0073,\n",
    "2006:1.0106,\n",
    "2005:1.0117,\n",
    "2004:1.008,\n",
    "2003:1.0064,\n",
    "2002:1.0064,\n",
    "2001:1.0099,\n",
    "2000:1.0156,\n",
    "1999:1.0081,\n",
    "1998:1.0002,\n",
    "1997:1.0052,\n",
    "1996:1.0081,\n",
    "1995:1.018,\n",
    "1994:1.0085,\n",
    "1993:1.0329,\n",
    "1992:1.0404,\n",
    "1991:1.0586,\n",
    "1990:1.054,\n",
    "1989:1.0316,\n",
    "1988:1.0187,\n",
    "1987:1.0144,\n",
    "1986:1.0075,\n",
    "1985:1.0344,\n",
    "1984:1.0293,\n",
    "1983:1.0295,\n",
    "1982:1.0566,\n",
    "1981:1.0649,\n",
    "1980:1.0402,\n",
    "1979:1.0365}"
   ]
  },
  {
   "cell_type": "code",
   "execution_count": 76,
   "metadata": {},
   "outputs": [],
   "source": [
    "def inflation_calc(amount,year_from, year_to):\n",
    "    for i in range(year_from, year_to+1):\n",
    "        amount = amount * inflation[i]\n",
    "    return amount"
   ]
  },
  {
   "cell_type": "code",
   "execution_count": 81,
   "metadata": {},
   "outputs": [
    {
     "data": {
      "text/plain": [
       "1972.3828124952422"
      ]
     },
     "execution_count": 81,
     "metadata": {},
     "output_type": "execute_result"
    }
   ],
   "source": [
    "inflation_calc(1000,1979, 2018)"
   ]
  },
  {
   "cell_type": "code",
   "execution_count": 77,
   "metadata": {},
   "outputs": [],
   "source": [
    "folder_preprocessed_data = Path(os.getcwd()).parent / 'data' / 'preprocessed'"
   ]
  },
  {
   "cell_type": "code",
   "execution_count": 79,
   "metadata": {},
   "outputs": [],
   "source": [
    "with open(folder_preprocessed_data / 'inflation_rate.json', 'w') as file:\n",
    "    file.write(json.dumps(inflation))"
   ]
  },
  {
   "cell_type": "code",
   "execution_count": 11,
   "metadata": {},
   "outputs": [],
   "source": []
  }
 ],
 "metadata": {
  "kernelspec": {
   "display_name": "Python 3",
   "language": "python",
   "name": "python3"
  },
  "language_info": {
   "codemirror_mode": {
    "name": "ipython",
    "version": 3
   },
   "file_extension": ".py",
   "mimetype": "text/x-python",
   "name": "python",
   "nbconvert_exporter": "python",
   "pygments_lexer": "ipython3",
   "version": "3.7.3"
  }
 },
 "nbformat": 4,
 "nbformat_minor": 4
}
