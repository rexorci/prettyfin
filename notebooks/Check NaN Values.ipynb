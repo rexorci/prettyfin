{
 "cells": [
  {
   "cell_type": "code",
   "execution_count": 31,
   "metadata": {},
   "outputs": [],
   "source": [
    "from pathlib import Path\n",
    "import os\n",
    "import pandas as pd\n",
    "import json"
   ]
  },
  {
   "cell_type": "code",
   "execution_count": 32,
   "metadata": {},
   "outputs": [],
   "source": [
    "folder_raw_data = Path(os.getcwd()).parent / 'data' / 'raw'\n",
    "folder_preprocessed_data = Path(os.getcwd()).parent / 'data' / 'preprocessed'"
   ]
  },
  {
   "cell_type": "code",
   "execution_count": 33,
   "metadata": {},
   "outputs": [],
   "source": [
    "with open(folder_preprocessed_data / 'funkt_id_map.json', 'r') as file:\n",
    "    funkt_id_map = json.load(file)\n",
    "df_ausgaben = pd.read_csv(folder_preprocessed_data / 'df_ausgaben_all_merged.csv', index_col=0)"
   ]
  },
  {
   "cell_type": "code",
   "execution_count": 35,
   "metadata": {
    "scrolled": true
   },
   "outputs": [
    {
     "name": "stdout",
     "output_type": "stream",
     "text": [
      "03 - Beziehungen zum Ausland : 702\n",
      "78 - F&E in Umweltschutz : 702\n",
      "38 - F&E in Kultur, Sport und Freizeit, Kirche : 702\n",
      "97 - Rückverteilungen : 702\n",
      "08 - F&E in allgemeine Verwaltung : 702\n",
      "58 - F&E in soziale Sicherheit : 702\n",
      "68 - F&E in Verkehr und Nachrichtenübermittlung : 702\n",
      "18 - F&E in Öffentliche Ordnung und Sicherheit, Verteidigung : 702\n",
      "94 - Ertragsanteile an Bundeseinnahmen ohne Zweckbindung : 702\n",
      "95 - Ertragsanteile, übrige, ohne Zweckbindung : 702\n",
      "88 - F&E in Volkswirtschaft : 700\n",
      "48 - F&E in Gesundheit : 698\n",
      "99 - Nicht aufgeteilte Posten : 694\n",
      "28 - Forschung : 682\n",
      "86 - Banken und Versicherungen : 667\n",
      "64 - Nachrichtenübermittlung : 629\n",
      "92 - Steuerabkommen : 554\n",
      "13 - Strafvollzug : 528\n",
      "26 - Höhere Berufsbildung : 510\n",
      "76 - Bekämpfung von Umweltverschmutzung : 489\n",
      "91 - Steuern : 418\n",
      "27 - Hochschulen : 345\n",
      "93 - Finanz- und Lastenausgleich : 314\n",
      "12 - Rechtssprechung : 257\n",
      "51 - Krankheit und Unfall : 244\n",
      "25 - Allgemeinbildende Schulen : 213\n",
      "89 - Sonstige gewerbliche Betriebe : 203\n",
      "83 - Jagd und Fischerei : 189\n",
      "35 - Kirchen und religiöse Angelegenheiten : 156\n",
      "63 - Verkehr, übrige : 145\n",
      "23 - Berufliche Grundbildung : 101\n",
      "55 - Arbeitslosigkeit : 85\n",
      "41 - Spitäler, Kranken- und Pflegeheime : 82\n",
      "87 - Brennstoffe und Energie : 77\n",
      "33 - Medien : 68\n",
      "29 - Übriges Bildungswesen : 64\n",
      "52 - Invalidität : 55\n",
      "22 - Sonderschulen : 53\n",
      "56 - Sozialer Wohnungsbau : 53\n",
      "75 - Arten- und Landschaftsschutz : 46\n",
      "85 - Industrie, Gewerbe, Handel : 40\n",
      "11 - Öffentliche Sicherheit : 37\n",
      "42 - Ambulante Krankenpflege : 34\n",
      "74 - Verbauungen : 33\n",
      "84 - Tourismus : 33\n",
      "49 - Gesundheitswesen n.a.g. : 30\n",
      "82 - Forstwirtschaft : 27\n",
      "59 - Soziale Wohlfahrt n.a.g. : 26\n",
      "15 - Feuerwehr : 13\n",
      "54 - Familie und Jugend : 11\n",
      "81 - Landwirtschaft : 10\n",
      "43 - Gesundheitsprävention : 8\n",
      "53 - Alter + Hinterlassene : 7\n",
      "16 - Verteidigung : 4\n",
      "71 - Wasserversorgung : 1\n",
      "4 - Gesundheit : 1\n",
      "migration_international : 0\n",
      "14 - Allgemeines Rechtswesen : 0\n",
      "death : 0\n",
      "1 - Öffentliche Ordnung und Sicherheit, Verteidigung : 0\n",
      "migration_national : 0\n",
      "year : 0\n",
      "Unnamed: 8 : 0\n",
      "population : 0\n",
      "0 - Allgemeine Verwaltung : 0\n",
      "01 - Legislative und Exekutive : 0\n",
      "02 - Allgemeine Dienste : 0\n",
      "birth : 0\n",
      "5 - Soziale Sicherheit : 0\n",
      "2 - Bildung : 0\n",
      "7 - Umweltschutz und Raumordnung : 0\n",
      "96 - Vermögens- und Schuldenverwaltung : 0\n",
      "9 - Finanzen und Steuern : 0\n",
      "8 - Volkswirtschaft : 0\n",
      "79 - Raumordnung : 0\n",
      "77 - Übriger Umweltschutz : 0\n",
      "73 - Abfallwirtschaft : 0\n",
      "72 - Abwasserbeseitigung : 0\n",
      "62 - Öffentlicher Verkehr : 0\n",
      "21 - Obligatorische Schule : 0\n",
      "61 - Strassenverkehr : 0\n",
      "6 - Verkehr und Nachrichtenübermittlung : 0\n",
      "57 - Sozialhilfe und Asylwesen : 0\n",
      "34 - Sport und Freizeit : 0\n",
      "32 - Kultur, übrige : 0\n",
      "31 - Kulturerbe : 0\n",
      "3 - Kultur, Sport und Freizeit, Kirche : 0\n",
      "canton : 0\n"
     ]
    }
   ],
   "source": [
    "for kvp in df_ausgaben.isnull().sum().sort_values(ascending=False).items():\n",
    "    try:\n",
    "        print(f'{kvp[0]} - {funkt_id_map[kvp[0]]} : {kvp[1]}')\n",
    "    except:\n",
    "        print(f'{kvp[0]} : {kvp[1]}')"
   ]
  },
  {
   "cell_type": "markdown",
   "metadata": {},
   "source": [
    "# List to grey out because they are NaN too often"
   ]
  },
  {
   "cell_type": "code",
   "execution_count": 57,
   "metadata": {},
   "outputs": [],
   "source": [
    "null_occurencies = df_ausgaben.isnull().sum()\n",
    "greyed_out = list(null_occurencies[null_occurencies > 300].index.values)"
   ]
  },
  {
   "cell_type": "code",
   "execution_count": 58,
   "metadata": {},
   "outputs": [
    {
     "data": {
      "text/plain": [
       "['03',\n",
       " '08',\n",
       " '13',\n",
       " '18',\n",
       " '26',\n",
       " '27',\n",
       " '28',\n",
       " '38',\n",
       " '48',\n",
       " '58',\n",
       " '64',\n",
       " '68',\n",
       " '76',\n",
       " '78',\n",
       " '86',\n",
       " '88',\n",
       " '91',\n",
       " '92',\n",
       " '93',\n",
       " '94',\n",
       " '95',\n",
       " '97',\n",
       " '99']"
      ]
     },
     "execution_count": 58,
     "metadata": {},
     "output_type": "execute_result"
    }
   ],
   "source": [
    "greyed_out"
   ]
  },
  {
   "cell_type": "code",
   "execution_count": null,
   "metadata": {},
   "outputs": [],
   "source": []
  }
 ],
 "metadata": {
  "kernelspec": {
   "display_name": "Python 3",
   "language": "python",
   "name": "python3"
  },
  "language_info": {
   "codemirror_mode": {
    "name": "ipython",
    "version": 3
   },
   "file_extension": ".py",
   "mimetype": "text/x-python",
   "name": "python",
   "nbconvert_exporter": "python",
   "pygments_lexer": "ipython3",
   "version": "3.7.6"
  }
 },
 "nbformat": 4,
 "nbformat_minor": 4
}
