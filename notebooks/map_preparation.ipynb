{
 "cells": [
  {
   "cell_type": "markdown",
   "metadata": {},
   "source": [
    "# Showcase how to use SVG Path"
   ]
  },
  {
   "cell_type": "markdown",
   "metadata": {},
   "source": [
    "https://plot.ly/python/shapes/\n",
    "\n",
    "https://plot.ly/python/reference/#layout-shapes\n",
    "\n",
    "\n",
    "Hovertext via workaround:\n",
    "https://community.plot.ly/t/possible-to-add-tooltips-hovertext-to-shapes/10476"
   ]
  },
  {
   "cell_type": "code",
   "execution_count": 74,
   "metadata": {},
   "outputs": [],
   "source": [
    "import plotly.graph_objects as go\n",
    "import xml.etree.ElementTree as ET\n",
    "from pathlib import Path\n",
    "\n",
    "import svg.path\n",
    "import os"
   ]
  },
  {
   "cell_type": "code",
   "execution_count": 209,
   "metadata": {},
   "outputs": [
    {
     "data": {
      "application/vnd.plotly.v1+json": {
       "config": {
        "plotlyServerURL": "https://plot.ly"
       },
       "data": [],
       "layout": {
        "shapes": [
         {
          "fillcolor": "PaleTurquoise",
          "line": {
           "color": "LightSeaGreen"
          },
          "name": "a",
          "path": "M 600,700L700,400L200,324.78 Z",
          "type": "path"
         },
         {
          "fillcolor": "PaleTurquoise",
          "line": {
           "color": "LightSeaGreen"
          },
          "path": "M 400,800L500,400L200,424.78 Z",
          "type": "path"
         }
        ],
        "template": {
         "data": {
          "bar": [
           {
            "error_x": {
             "color": "#2a3f5f"
            },
            "error_y": {
             "color": "#2a3f5f"
            },
            "marker": {
             "line": {
              "color": "#E5ECF6",
              "width": 0.5
             }
            },
            "type": "bar"
           }
          ],
          "barpolar": [
           {
            "marker": {
             "line": {
              "color": "#E5ECF6",
              "width": 0.5
             }
            },
            "type": "barpolar"
           }
          ],
          "carpet": [
           {
            "aaxis": {
             "endlinecolor": "#2a3f5f",
             "gridcolor": "white",
             "linecolor": "white",
             "minorgridcolor": "white",
             "startlinecolor": "#2a3f5f"
            },
            "baxis": {
             "endlinecolor": "#2a3f5f",
             "gridcolor": "white",
             "linecolor": "white",
             "minorgridcolor": "white",
             "startlinecolor": "#2a3f5f"
            },
            "type": "carpet"
           }
          ],
          "choropleth": [
           {
            "colorbar": {
             "outlinewidth": 0,
             "ticks": ""
            },
            "type": "choropleth"
           }
          ],
          "contour": [
           {
            "colorbar": {
             "outlinewidth": 0,
             "ticks": ""
            },
            "colorscale": [
             [
              0,
              "#0d0887"
             ],
             [
              0.1111111111111111,
              "#46039f"
             ],
             [
              0.2222222222222222,
              "#7201a8"
             ],
             [
              0.3333333333333333,
              "#9c179e"
             ],
             [
              0.4444444444444444,
              "#bd3786"
             ],
             [
              0.5555555555555556,
              "#d8576b"
             ],
             [
              0.6666666666666666,
              "#ed7953"
             ],
             [
              0.7777777777777778,
              "#fb9f3a"
             ],
             [
              0.8888888888888888,
              "#fdca26"
             ],
             [
              1,
              "#f0f921"
             ]
            ],
            "type": "contour"
           }
          ],
          "contourcarpet": [
           {
            "colorbar": {
             "outlinewidth": 0,
             "ticks": ""
            },
            "type": "contourcarpet"
           }
          ],
          "heatmap": [
           {
            "colorbar": {
             "outlinewidth": 0,
             "ticks": ""
            },
            "colorscale": [
             [
              0,
              "#0d0887"
             ],
             [
              0.1111111111111111,
              "#46039f"
             ],
             [
              0.2222222222222222,
              "#7201a8"
             ],
             [
              0.3333333333333333,
              "#9c179e"
             ],
             [
              0.4444444444444444,
              "#bd3786"
             ],
             [
              0.5555555555555556,
              "#d8576b"
             ],
             [
              0.6666666666666666,
              "#ed7953"
             ],
             [
              0.7777777777777778,
              "#fb9f3a"
             ],
             [
              0.8888888888888888,
              "#fdca26"
             ],
             [
              1,
              "#f0f921"
             ]
            ],
            "type": "heatmap"
           }
          ],
          "heatmapgl": [
           {
            "colorbar": {
             "outlinewidth": 0,
             "ticks": ""
            },
            "colorscale": [
             [
              0,
              "#0d0887"
             ],
             [
              0.1111111111111111,
              "#46039f"
             ],
             [
              0.2222222222222222,
              "#7201a8"
             ],
             [
              0.3333333333333333,
              "#9c179e"
             ],
             [
              0.4444444444444444,
              "#bd3786"
             ],
             [
              0.5555555555555556,
              "#d8576b"
             ],
             [
              0.6666666666666666,
              "#ed7953"
             ],
             [
              0.7777777777777778,
              "#fb9f3a"
             ],
             [
              0.8888888888888888,
              "#fdca26"
             ],
             [
              1,
              "#f0f921"
             ]
            ],
            "type": "heatmapgl"
           }
          ],
          "histogram": [
           {
            "marker": {
             "colorbar": {
              "outlinewidth": 0,
              "ticks": ""
             }
            },
            "type": "histogram"
           }
          ],
          "histogram2d": [
           {
            "colorbar": {
             "outlinewidth": 0,
             "ticks": ""
            },
            "colorscale": [
             [
              0,
              "#0d0887"
             ],
             [
              0.1111111111111111,
              "#46039f"
             ],
             [
              0.2222222222222222,
              "#7201a8"
             ],
             [
              0.3333333333333333,
              "#9c179e"
             ],
             [
              0.4444444444444444,
              "#bd3786"
             ],
             [
              0.5555555555555556,
              "#d8576b"
             ],
             [
              0.6666666666666666,
              "#ed7953"
             ],
             [
              0.7777777777777778,
              "#fb9f3a"
             ],
             [
              0.8888888888888888,
              "#fdca26"
             ],
             [
              1,
              "#f0f921"
             ]
            ],
            "type": "histogram2d"
           }
          ],
          "histogram2dcontour": [
           {
            "colorbar": {
             "outlinewidth": 0,
             "ticks": ""
            },
            "colorscale": [
             [
              0,
              "#0d0887"
             ],
             [
              0.1111111111111111,
              "#46039f"
             ],
             [
              0.2222222222222222,
              "#7201a8"
             ],
             [
              0.3333333333333333,
              "#9c179e"
             ],
             [
              0.4444444444444444,
              "#bd3786"
             ],
             [
              0.5555555555555556,
              "#d8576b"
             ],
             [
              0.6666666666666666,
              "#ed7953"
             ],
             [
              0.7777777777777778,
              "#fb9f3a"
             ],
             [
              0.8888888888888888,
              "#fdca26"
             ],
             [
              1,
              "#f0f921"
             ]
            ],
            "type": "histogram2dcontour"
           }
          ],
          "mesh3d": [
           {
            "colorbar": {
             "outlinewidth": 0,
             "ticks": ""
            },
            "type": "mesh3d"
           }
          ],
          "parcoords": [
           {
            "line": {
             "colorbar": {
              "outlinewidth": 0,
              "ticks": ""
             }
            },
            "type": "parcoords"
           }
          ],
          "pie": [
           {
            "automargin": true,
            "type": "pie"
           }
          ],
          "scatter": [
           {
            "marker": {
             "colorbar": {
              "outlinewidth": 0,
              "ticks": ""
             }
            },
            "type": "scatter"
           }
          ],
          "scatter3d": [
           {
            "line": {
             "colorbar": {
              "outlinewidth": 0,
              "ticks": ""
             }
            },
            "marker": {
             "colorbar": {
              "outlinewidth": 0,
              "ticks": ""
             }
            },
            "type": "scatter3d"
           }
          ],
          "scattercarpet": [
           {
            "marker": {
             "colorbar": {
              "outlinewidth": 0,
              "ticks": ""
             }
            },
            "type": "scattercarpet"
           }
          ],
          "scattergeo": [
           {
            "marker": {
             "colorbar": {
              "outlinewidth": 0,
              "ticks": ""
             }
            },
            "type": "scattergeo"
           }
          ],
          "scattergl": [
           {
            "marker": {
             "colorbar": {
              "outlinewidth": 0,
              "ticks": ""
             }
            },
            "type": "scattergl"
           }
          ],
          "scattermapbox": [
           {
            "marker": {
             "colorbar": {
              "outlinewidth": 0,
              "ticks": ""
             }
            },
            "type": "scattermapbox"
           }
          ],
          "scatterpolar": [
           {
            "marker": {
             "colorbar": {
              "outlinewidth": 0,
              "ticks": ""
             }
            },
            "type": "scatterpolar"
           }
          ],
          "scatterpolargl": [
           {
            "marker": {
             "colorbar": {
              "outlinewidth": 0,
              "ticks": ""
             }
            },
            "type": "scatterpolargl"
           }
          ],
          "scatterternary": [
           {
            "marker": {
             "colorbar": {
              "outlinewidth": 0,
              "ticks": ""
             }
            },
            "type": "scatterternary"
           }
          ],
          "surface": [
           {
            "colorbar": {
             "outlinewidth": 0,
             "ticks": ""
            },
            "colorscale": [
             [
              0,
              "#0d0887"
             ],
             [
              0.1111111111111111,
              "#46039f"
             ],
             [
              0.2222222222222222,
              "#7201a8"
             ],
             [
              0.3333333333333333,
              "#9c179e"
             ],
             [
              0.4444444444444444,
              "#bd3786"
             ],
             [
              0.5555555555555556,
              "#d8576b"
             ],
             [
              0.6666666666666666,
              "#ed7953"
             ],
             [
              0.7777777777777778,
              "#fb9f3a"
             ],
             [
              0.8888888888888888,
              "#fdca26"
             ],
             [
              1,
              "#f0f921"
             ]
            ],
            "type": "surface"
           }
          ],
          "table": [
           {
            "cells": {
             "fill": {
              "color": "#EBF0F8"
             },
             "line": {
              "color": "white"
             }
            },
            "header": {
             "fill": {
              "color": "#C8D4E3"
             },
             "line": {
              "color": "white"
             }
            },
            "type": "table"
           }
          ]
         },
         "layout": {
          "annotationdefaults": {
           "arrowcolor": "#2a3f5f",
           "arrowhead": 0,
           "arrowwidth": 1
          },
          "coloraxis": {
           "colorbar": {
            "outlinewidth": 0,
            "ticks": ""
           }
          },
          "colorscale": {
           "diverging": [
            [
             0,
             "#8e0152"
            ],
            [
             0.1,
             "#c51b7d"
            ],
            [
             0.2,
             "#de77ae"
            ],
            [
             0.3,
             "#f1b6da"
            ],
            [
             0.4,
             "#fde0ef"
            ],
            [
             0.5,
             "#f7f7f7"
            ],
            [
             0.6,
             "#e6f5d0"
            ],
            [
             0.7,
             "#b8e186"
            ],
            [
             0.8,
             "#7fbc41"
            ],
            [
             0.9,
             "#4d9221"
            ],
            [
             1,
             "#276419"
            ]
           ],
           "sequential": [
            [
             0,
             "#0d0887"
            ],
            [
             0.1111111111111111,
             "#46039f"
            ],
            [
             0.2222222222222222,
             "#7201a8"
            ],
            [
             0.3333333333333333,
             "#9c179e"
            ],
            [
             0.4444444444444444,
             "#bd3786"
            ],
            [
             0.5555555555555556,
             "#d8576b"
            ],
            [
             0.6666666666666666,
             "#ed7953"
            ],
            [
             0.7777777777777778,
             "#fb9f3a"
            ],
            [
             0.8888888888888888,
             "#fdca26"
            ],
            [
             1,
             "#f0f921"
            ]
           ],
           "sequentialminus": [
            [
             0,
             "#0d0887"
            ],
            [
             0.1111111111111111,
             "#46039f"
            ],
            [
             0.2222222222222222,
             "#7201a8"
            ],
            [
             0.3333333333333333,
             "#9c179e"
            ],
            [
             0.4444444444444444,
             "#bd3786"
            ],
            [
             0.5555555555555556,
             "#d8576b"
            ],
            [
             0.6666666666666666,
             "#ed7953"
            ],
            [
             0.7777777777777778,
             "#fb9f3a"
            ],
            [
             0.8888888888888888,
             "#fdca26"
            ],
            [
             1,
             "#f0f921"
            ]
           ]
          },
          "colorway": [
           "#636efa",
           "#EF553B",
           "#00cc96",
           "#ab63fa",
           "#FFA15A",
           "#19d3f3",
           "#FF6692",
           "#B6E880",
           "#FF97FF",
           "#FECB52"
          ],
          "font": {
           "color": "#2a3f5f"
          },
          "geo": {
           "bgcolor": "white",
           "lakecolor": "white",
           "landcolor": "#E5ECF6",
           "showlakes": true,
           "showland": true,
           "subunitcolor": "white"
          },
          "hoverlabel": {
           "align": "left"
          },
          "hovermode": "closest",
          "mapbox": {
           "style": "light"
          },
          "paper_bgcolor": "white",
          "plot_bgcolor": "#E5ECF6",
          "polar": {
           "angularaxis": {
            "gridcolor": "white",
            "linecolor": "white",
            "ticks": ""
           },
           "bgcolor": "#E5ECF6",
           "radialaxis": {
            "gridcolor": "white",
            "linecolor": "white",
            "ticks": ""
           }
          },
          "scene": {
           "xaxis": {
            "backgroundcolor": "#E5ECF6",
            "gridcolor": "white",
            "gridwidth": 2,
            "linecolor": "white",
            "showbackground": true,
            "ticks": "",
            "zerolinecolor": "white"
           },
           "yaxis": {
            "backgroundcolor": "#E5ECF6",
            "gridcolor": "white",
            "gridwidth": 2,
            "linecolor": "white",
            "showbackground": true,
            "ticks": "",
            "zerolinecolor": "white"
           },
           "zaxis": {
            "backgroundcolor": "#E5ECF6",
            "gridcolor": "white",
            "gridwidth": 2,
            "linecolor": "white",
            "showbackground": true,
            "ticks": "",
            "zerolinecolor": "white"
           }
          },
          "shapedefaults": {
           "line": {
            "color": "#2a3f5f"
           }
          },
          "ternary": {
           "aaxis": {
            "gridcolor": "white",
            "linecolor": "white",
            "ticks": ""
           },
           "baxis": {
            "gridcolor": "white",
            "linecolor": "white",
            "ticks": ""
           },
           "bgcolor": "#E5ECF6",
           "caxis": {
            "gridcolor": "white",
            "linecolor": "white",
            "ticks": ""
           }
          },
          "title": {
           "x": 0.05
          },
          "xaxis": {
           "automargin": true,
           "gridcolor": "white",
           "linecolor": "white",
           "ticks": "",
           "title": {
            "standoff": 15
           },
           "zerolinecolor": "white",
           "zerolinewidth": 2
          },
          "yaxis": {
           "automargin": true,
           "gridcolor": "white",
           "linecolor": "white",
           "ticks": "",
           "title": {
            "standoff": 15
           },
           "zerolinecolor": "white",
           "zerolinewidth": 2
          }
         }
        },
        "xaxis": {
         "range": [
          0,
          1000
         ],
         "zeroline": false
        },
        "yaxis": {
         "range": [
          0,
          1000
         ],
         "zeroline": false
        }
       }
      },
      "text/html": [
       "<div>\n",
       "        \n",
       "        \n",
       "            <div id=\"1eba933f-f60b-4c30-9d20-6f7cfd1398c9\" class=\"plotly-graph-div\" style=\"height:525px; width:100%;\"></div>\n",
       "            <script type=\"text/javascript\">\n",
       "                require([\"plotly\"], function(Plotly) {\n",
       "                    window.PLOTLYENV=window.PLOTLYENV || {};\n",
       "                    \n",
       "                if (document.getElementById(\"1eba933f-f60b-4c30-9d20-6f7cfd1398c9\")) {\n",
       "                    Plotly.newPlot(\n",
       "                        '1eba933f-f60b-4c30-9d20-6f7cfd1398c9',\n",
       "                        [],\n",
       "                        {\"shapes\": [{\"fillcolor\": \"PaleTurquoise\", \"line\": {\"color\": \"LightSeaGreen\"}, \"name\": \"a\", \"path\": \"M 600,700L700,400L200,324.78 Z\", \"type\": \"path\"}, {\"fillcolor\": \"PaleTurquoise\", \"line\": {\"color\": \"LightSeaGreen\"}, \"path\": \"M 400,800L500,400L200,424.78 Z\", \"type\": \"path\"}], \"template\": {\"data\": {\"bar\": [{\"error_x\": {\"color\": \"#2a3f5f\"}, \"error_y\": {\"color\": \"#2a3f5f\"}, \"marker\": {\"line\": {\"color\": \"#E5ECF6\", \"width\": 0.5}}, \"type\": \"bar\"}], \"barpolar\": [{\"marker\": {\"line\": {\"color\": \"#E5ECF6\", \"width\": 0.5}}, \"type\": \"barpolar\"}], \"carpet\": [{\"aaxis\": {\"endlinecolor\": \"#2a3f5f\", \"gridcolor\": \"white\", \"linecolor\": \"white\", \"minorgridcolor\": \"white\", \"startlinecolor\": \"#2a3f5f\"}, \"baxis\": {\"endlinecolor\": \"#2a3f5f\", \"gridcolor\": \"white\", \"linecolor\": \"white\", \"minorgridcolor\": \"white\", \"startlinecolor\": \"#2a3f5f\"}, \"type\": \"carpet\"}], \"choropleth\": [{\"colorbar\": {\"outlinewidth\": 0, \"ticks\": \"\"}, \"type\": \"choropleth\"}], \"contour\": [{\"colorbar\": {\"outlinewidth\": 0, \"ticks\": \"\"}, \"colorscale\": [[0.0, \"#0d0887\"], [0.1111111111111111, \"#46039f\"], [0.2222222222222222, \"#7201a8\"], [0.3333333333333333, \"#9c179e\"], [0.4444444444444444, \"#bd3786\"], [0.5555555555555556, \"#d8576b\"], [0.6666666666666666, \"#ed7953\"], [0.7777777777777778, \"#fb9f3a\"], [0.8888888888888888, \"#fdca26\"], [1.0, \"#f0f921\"]], \"type\": \"contour\"}], \"contourcarpet\": [{\"colorbar\": {\"outlinewidth\": 0, \"ticks\": \"\"}, \"type\": \"contourcarpet\"}], \"heatmap\": [{\"colorbar\": {\"outlinewidth\": 0, \"ticks\": \"\"}, \"colorscale\": [[0.0, \"#0d0887\"], [0.1111111111111111, \"#46039f\"], [0.2222222222222222, \"#7201a8\"], [0.3333333333333333, \"#9c179e\"], [0.4444444444444444, \"#bd3786\"], [0.5555555555555556, \"#d8576b\"], [0.6666666666666666, \"#ed7953\"], [0.7777777777777778, \"#fb9f3a\"], [0.8888888888888888, \"#fdca26\"], [1.0, \"#f0f921\"]], \"type\": \"heatmap\"}], \"heatmapgl\": [{\"colorbar\": {\"outlinewidth\": 0, \"ticks\": \"\"}, \"colorscale\": [[0.0, \"#0d0887\"], [0.1111111111111111, \"#46039f\"], [0.2222222222222222, \"#7201a8\"], [0.3333333333333333, \"#9c179e\"], [0.4444444444444444, \"#bd3786\"], [0.5555555555555556, \"#d8576b\"], [0.6666666666666666, \"#ed7953\"], [0.7777777777777778, \"#fb9f3a\"], [0.8888888888888888, \"#fdca26\"], [1.0, \"#f0f921\"]], \"type\": \"heatmapgl\"}], \"histogram\": [{\"marker\": {\"colorbar\": {\"outlinewidth\": 0, \"ticks\": \"\"}}, \"type\": \"histogram\"}], \"histogram2d\": [{\"colorbar\": {\"outlinewidth\": 0, \"ticks\": \"\"}, \"colorscale\": [[0.0, \"#0d0887\"], [0.1111111111111111, \"#46039f\"], [0.2222222222222222, \"#7201a8\"], [0.3333333333333333, \"#9c179e\"], [0.4444444444444444, \"#bd3786\"], [0.5555555555555556, \"#d8576b\"], [0.6666666666666666, \"#ed7953\"], [0.7777777777777778, \"#fb9f3a\"], [0.8888888888888888, \"#fdca26\"], [1.0, \"#f0f921\"]], \"type\": \"histogram2d\"}], \"histogram2dcontour\": [{\"colorbar\": {\"outlinewidth\": 0, \"ticks\": \"\"}, \"colorscale\": [[0.0, \"#0d0887\"], [0.1111111111111111, \"#46039f\"], [0.2222222222222222, \"#7201a8\"], [0.3333333333333333, \"#9c179e\"], [0.4444444444444444, \"#bd3786\"], [0.5555555555555556, \"#d8576b\"], [0.6666666666666666, \"#ed7953\"], [0.7777777777777778, \"#fb9f3a\"], [0.8888888888888888, \"#fdca26\"], [1.0, \"#f0f921\"]], \"type\": \"histogram2dcontour\"}], \"mesh3d\": [{\"colorbar\": {\"outlinewidth\": 0, \"ticks\": \"\"}, \"type\": \"mesh3d\"}], \"parcoords\": [{\"line\": {\"colorbar\": {\"outlinewidth\": 0, \"ticks\": \"\"}}, \"type\": \"parcoords\"}], \"pie\": [{\"automargin\": true, \"type\": \"pie\"}], \"scatter\": [{\"marker\": {\"colorbar\": {\"outlinewidth\": 0, \"ticks\": \"\"}}, \"type\": \"scatter\"}], \"scatter3d\": [{\"line\": {\"colorbar\": {\"outlinewidth\": 0, \"ticks\": \"\"}}, \"marker\": {\"colorbar\": {\"outlinewidth\": 0, \"ticks\": \"\"}}, \"type\": \"scatter3d\"}], \"scattercarpet\": [{\"marker\": {\"colorbar\": {\"outlinewidth\": 0, \"ticks\": \"\"}}, \"type\": \"scattercarpet\"}], \"scattergeo\": [{\"marker\": {\"colorbar\": {\"outlinewidth\": 0, \"ticks\": \"\"}}, \"type\": \"scattergeo\"}], \"scattergl\": [{\"marker\": {\"colorbar\": {\"outlinewidth\": 0, \"ticks\": \"\"}}, \"type\": \"scattergl\"}], \"scattermapbox\": [{\"marker\": {\"colorbar\": {\"outlinewidth\": 0, \"ticks\": \"\"}}, \"type\": \"scattermapbox\"}], \"scatterpolar\": [{\"marker\": {\"colorbar\": {\"outlinewidth\": 0, \"ticks\": \"\"}}, \"type\": \"scatterpolar\"}], \"scatterpolargl\": [{\"marker\": {\"colorbar\": {\"outlinewidth\": 0, \"ticks\": \"\"}}, \"type\": \"scatterpolargl\"}], \"scatterternary\": [{\"marker\": {\"colorbar\": {\"outlinewidth\": 0, \"ticks\": \"\"}}, \"type\": \"scatterternary\"}], \"surface\": [{\"colorbar\": {\"outlinewidth\": 0, \"ticks\": \"\"}, \"colorscale\": [[0.0, \"#0d0887\"], [0.1111111111111111, \"#46039f\"], [0.2222222222222222, \"#7201a8\"], [0.3333333333333333, \"#9c179e\"], [0.4444444444444444, \"#bd3786\"], [0.5555555555555556, \"#d8576b\"], [0.6666666666666666, \"#ed7953\"], [0.7777777777777778, \"#fb9f3a\"], [0.8888888888888888, \"#fdca26\"], [1.0, \"#f0f921\"]], \"type\": \"surface\"}], \"table\": [{\"cells\": {\"fill\": {\"color\": \"#EBF0F8\"}, \"line\": {\"color\": \"white\"}}, \"header\": {\"fill\": {\"color\": \"#C8D4E3\"}, \"line\": {\"color\": \"white\"}}, \"type\": \"table\"}]}, \"layout\": {\"annotationdefaults\": {\"arrowcolor\": \"#2a3f5f\", \"arrowhead\": 0, \"arrowwidth\": 1}, \"coloraxis\": {\"colorbar\": {\"outlinewidth\": 0, \"ticks\": \"\"}}, \"colorscale\": {\"diverging\": [[0, \"#8e0152\"], [0.1, \"#c51b7d\"], [0.2, \"#de77ae\"], [0.3, \"#f1b6da\"], [0.4, \"#fde0ef\"], [0.5, \"#f7f7f7\"], [0.6, \"#e6f5d0\"], [0.7, \"#b8e186\"], [0.8, \"#7fbc41\"], [0.9, \"#4d9221\"], [1, \"#276419\"]], \"sequential\": [[0.0, \"#0d0887\"], [0.1111111111111111, \"#46039f\"], [0.2222222222222222, \"#7201a8\"], [0.3333333333333333, \"#9c179e\"], [0.4444444444444444, \"#bd3786\"], [0.5555555555555556, \"#d8576b\"], [0.6666666666666666, \"#ed7953\"], [0.7777777777777778, \"#fb9f3a\"], [0.8888888888888888, \"#fdca26\"], [1.0, \"#f0f921\"]], \"sequentialminus\": [[0.0, \"#0d0887\"], [0.1111111111111111, \"#46039f\"], [0.2222222222222222, \"#7201a8\"], [0.3333333333333333, \"#9c179e\"], [0.4444444444444444, \"#bd3786\"], [0.5555555555555556, \"#d8576b\"], [0.6666666666666666, \"#ed7953\"], [0.7777777777777778, \"#fb9f3a\"], [0.8888888888888888, \"#fdca26\"], [1.0, \"#f0f921\"]]}, \"colorway\": [\"#636efa\", \"#EF553B\", \"#00cc96\", \"#ab63fa\", \"#FFA15A\", \"#19d3f3\", \"#FF6692\", \"#B6E880\", \"#FF97FF\", \"#FECB52\"], \"font\": {\"color\": \"#2a3f5f\"}, \"geo\": {\"bgcolor\": \"white\", \"lakecolor\": \"white\", \"landcolor\": \"#E5ECF6\", \"showlakes\": true, \"showland\": true, \"subunitcolor\": \"white\"}, \"hoverlabel\": {\"align\": \"left\"}, \"hovermode\": \"closest\", \"mapbox\": {\"style\": \"light\"}, \"paper_bgcolor\": \"white\", \"plot_bgcolor\": \"#E5ECF6\", \"polar\": {\"angularaxis\": {\"gridcolor\": \"white\", \"linecolor\": \"white\", \"ticks\": \"\"}, \"bgcolor\": \"#E5ECF6\", \"radialaxis\": {\"gridcolor\": \"white\", \"linecolor\": \"white\", \"ticks\": \"\"}}, \"scene\": {\"xaxis\": {\"backgroundcolor\": \"#E5ECF6\", \"gridcolor\": \"white\", \"gridwidth\": 2, \"linecolor\": \"white\", \"showbackground\": true, \"ticks\": \"\", \"zerolinecolor\": \"white\"}, \"yaxis\": {\"backgroundcolor\": \"#E5ECF6\", \"gridcolor\": \"white\", \"gridwidth\": 2, \"linecolor\": \"white\", \"showbackground\": true, \"ticks\": \"\", \"zerolinecolor\": \"white\"}, \"zaxis\": {\"backgroundcolor\": \"#E5ECF6\", \"gridcolor\": \"white\", \"gridwidth\": 2, \"linecolor\": \"white\", \"showbackground\": true, \"ticks\": \"\", \"zerolinecolor\": \"white\"}}, \"shapedefaults\": {\"line\": {\"color\": \"#2a3f5f\"}}, \"ternary\": {\"aaxis\": {\"gridcolor\": \"white\", \"linecolor\": \"white\", \"ticks\": \"\"}, \"baxis\": {\"gridcolor\": \"white\", \"linecolor\": \"white\", \"ticks\": \"\"}, \"bgcolor\": \"#E5ECF6\", \"caxis\": {\"gridcolor\": \"white\", \"linecolor\": \"white\", \"ticks\": \"\"}}, \"title\": {\"x\": 0.05}, \"xaxis\": {\"automargin\": true, \"gridcolor\": \"white\", \"linecolor\": \"white\", \"ticks\": \"\", \"title\": {\"standoff\": 15}, \"zerolinecolor\": \"white\", \"zerolinewidth\": 2}, \"yaxis\": {\"automargin\": true, \"gridcolor\": \"white\", \"linecolor\": \"white\", \"ticks\": \"\", \"title\": {\"standoff\": 15}, \"zerolinecolor\": \"white\", \"zerolinewidth\": 2}}}, \"xaxis\": {\"range\": [0, 1000], \"zeroline\": false}, \"yaxis\": {\"range\": [0, 1000], \"zeroline\": false}},\n",
       "                        {\"responsive\": true}\n",
       "                    ).then(function(){\n",
       "                            \n",
       "var gd = document.getElementById('1eba933f-f60b-4c30-9d20-6f7cfd1398c9');\n",
       "var x = new MutationObserver(function (mutations, observer) {{\n",
       "        var display = window.getComputedStyle(gd).display;\n",
       "        if (!display || display === 'none') {{\n",
       "            console.log([gd, 'removed!']);\n",
       "            Plotly.purge(gd);\n",
       "            observer.disconnect();\n",
       "        }}\n",
       "}});\n",
       "\n",
       "// Listen for the removal of the full notebook cells\n",
       "var notebookContainer = gd.closest('#notebook-container');\n",
       "if (notebookContainer) {{\n",
       "    x.observe(notebookContainer, {childList: true});\n",
       "}}\n",
       "\n",
       "// Listen for the clearing of the current output cell\n",
       "var outputEl = gd.closest('.output');\n",
       "if (outputEl) {{\n",
       "    x.observe(outputEl, {childList: true});\n",
       "}}\n",
       "\n",
       "                        })\n",
       "                };\n",
       "                });\n",
       "            </script>\n",
       "        </div>"
      ]
     },
     "metadata": {},
     "output_type": "display_data"
    }
   ],
   "source": [
    "fig = go.Figure()\n",
    "\n",
    "# Create scatter trace of text labels\n",
    "# fig.add_trace(go.Scatter(\n",
    "#     x=[2, 1, 8, 8],\n",
    "#     y=[0.25, 9, 2, 6],\n",
    "#     text=[\"Filled Triangle\",\n",
    "#           \"Filled Polygon\",\n",
    "#           \"Quadratic Bezier Curves\",\n",
    "#           \"Cubic Bezier Curves\"],\n",
    "#     mode=\"text\",\n",
    "# ))\n",
    "\n",
    "# Update axes properties\n",
    "fig.update_xaxes(\n",
    "    range=[0, 1000],\n",
    "    zeroline=False,\n",
    ")\n",
    "\n",
    "fig.update_yaxes(\n",
    "    range=[0, 1000],\n",
    "    zeroline=False,\n",
    ")\n",
    "\n",
    "# Add shapes\n",
    "fig.update_layout(shapes=[\n",
    "    # canton1\n",
    "    go.layout.Shape(\n",
    "        name='a',\n",
    "        type=\"path\",\n",
    "        path=\"M 600,700L700,400L200,324.78 Z\",\n",
    "        fillcolor=\"PaleTurquoise\",\n",
    "        line_color=\"LightSeaGreen\",\n",
    "    ),\n",
    "    go.layout.Shape(\n",
    "        type=\"path\",\n",
    "        path=\"M 400,800L500,400L200,424.78 Z\",\n",
    "        fillcolor=\"PaleTurquoise\",\n",
    "        line_color=\"LightSeaGreen\",\n",
    "    ),\n",
    "])\n",
    "\n",
    "fig.show()"
   ]
  },
  {
   "cell_type": "markdown",
   "metadata": {},
   "source": [
    "# Parse Swiss map with cantons"
   ]
  },
  {
   "cell_type": "markdown",
   "metadata": {},
   "source": [
    "https://upload.wikimedia.org/wikipedia/commons/f/f8/Suisse_cantons.svg\n",
    "\n",
    "Important: Convert the file from inkscape-svg to plain svg! (by using e.g. inkscape)"
   ]
  },
  {
   "cell_type": "markdown",
   "metadata": {},
   "source": [
    "* layer6 : Cantons\n",
    "* layer4 : Rivers\n",
    "* layer3 : Lakes\n",
    "* layer2 : Frontiers"
   ]
  },
  {
   "cell_type": "code",
   "execution_count": 172,
   "metadata": {},
   "outputs": [],
   "source": [
    "switzerland_xml = Path(\n",
    "    os.getcwd()).parent / 'data' / 'map' / 'Suisse_cantons_plain.svg'\n",
    "root = ET.parse(switzerland_xml).getroot()"
   ]
  },
  {
   "cell_type": "markdown",
   "metadata": {},
   "source": [
    "Parse Path string:\n",
    "1. remove tabs & newlines\n",
    "2. transform to absolute paths (from lowercase to uppercase letters) because Plotly - Paths only understand absolute coordinates"
   ]
  },
  {
   "cell_type": "markdown",
   "metadata": {},
   "source": [
    "https://github.com/regebro/svg.path/blob/master/src/svg/path/path.py"
   ]
  },
  {
   "cell_type": "code",
   "execution_count": 202,
   "metadata": {},
   "outputs": [],
   "source": [
    "def transform_canton_path(path):\n",
    "    path = path.replace('\\t', '')\n",
    "    path = path.replace('\\n', '')\n",
    "    canton_parsed = svg.path.parse_path(path)\n",
    "    path_string_absolute = ''\n",
    "    for subpath in canton_parsed:\n",
    "        if type(subpath) == svg.path.path.Move:\n",
    "            path_string_absolute += f'M{subpath.start.real},{subpath.start.imag}'\n",
    "        elif type(subpath) == svg.path.path.Line:\n",
    "            path_string_absolute += f'L{subpath.end.real},{subpath.end.imag}'\n",
    "        elif type(subpath) == svg.path.path.Close:\n",
    "            path_string_absolute += 'Z'\n",
    "        elif type(subpath) == svg.path.path.CubicBezier:            \n",
    "            path_string_absolute += 'C'\n",
    "            path_string_absolute += f' {subpath.control1.real},{subpath.control1.imag}'\n",
    "            path_string_absolute += f' {subpath.control2.real},{subpath.control2.imag}'\n",
    "            path_string_absolute += f' {subpath.end.real},{subpath.end.imag}'\n",
    "        else:\n",
    "            print(type(subpath))\n",
    "    return path_string_absolute"
   ]
  },
  {
   "cell_type": "code",
   "execution_count": 205,
   "metadata": {},
   "outputs": [],
   "source": [
    "cantons_border = {}\n",
    "for child in root.findall('{http://www.w3.org/2000/svg}g'):\n",
    "    if child.attrib['id'] == 'layer6':\n",
    "        for canton in child:\n",
    "            if canton.attrib['id'] == 'AG':\n",
    "                cantonAGpath = canton.attrib['d']\n",
    "            cantons_border[canton.attrib['id']] = transform_canton_path(canton.attrib['d'])"
   ]
  },
  {
   "cell_type": "code",
   "execution_count": 224,
   "metadata": {},
   "outputs": [
    {
     "data": {
      "application/vnd.plotly.v1+json": {
       "config": {
        "plotlyServerURL": "https://plot.ly"
       },
       "data": [],
       "layout": {
        "height": 630,
        "plot_bgcolor": "rgba(0,0,0,0)",
        "shapes": [
         {
          "fillcolor": "PaleTurquoise",
          "line": {
           "color": "LightSeaGreen"
          },
          "path": "M570.112,346.181L560.261,337.928L561.54,336.1L563.003,332.627L562.637,328.788L562.637,324.218L563.735,316.175L564.465,310.509L565.562,303.745L563.369,303.38L560.627,304.477L557.52,303.014L555.509,302.101L554.595,299.359L554.23,297.713L555.509,295.52L558.069,290.584L557.886,288.208L553.682,286.745L546.553,285.283L539.488,287.461L533.758,289.67L531.93,288.208L527.726,288.573L522.608,292.777L524.984,297.895L521.877,300.455L519.318,303.38L517.855,306.853L515.662,311.241L513.834,310.692L514.2,308.133L511.275,306.305L509.812,308.316L506.887,311.606L505.242,313.068L504.693,320.197L503.963,322.574L502.5,325.499L500.124,327.326L498.844,330.251L498.844,332.993L503.414,340.122L503.779,341.768L500.672,344.509L499.181,347.436L501.206,347.744L508.996,348.835L511.8,349.614L518.811,355.222L525.043,357.404L530.496,355.066L533.456,354.131L539.064,353.976L542.492,353.353L547.166,355.222L551.996,358.338L558.384,353.664L561.812,350.548L565.434,349.028L569.407,347.314ZM593.147,324.78L597.459,324.767L598.738,325.315L600.841,325.956L601.206,328.515L597.368,330.526L594.808,333.268L593.254,337.747L594.442,338.844L595.356,340.306L594.807,341.86L593.619,342.317L591.791,342.226L591.699,343.323L595.903,344.328L595.538,346.248L597.0,347.527L598.463,349.903L598.646,350.817L595.629,353.65L594.532,352.92L592.705,352.463L591.242,352.28L588.448,352.571L582.762,349.848L578.672,353.08L577.208,351.174L580.349,348.578L580.995,347.156L580.995,345.993L579.831,344.7L578.28,343.925L575.825,342.115L574.403,339.53L572.722,337.333L571.817,334.748L571.042,330.352L570.784,326.475L570.525,323.115L571.429,321.434L573.11,321.434L574.532,322.597L574.661,323.502L573.239,324.148L573.369,325.182L575.179,325.828L576.73,325.569L578.927,324.277L580.737,322.08L583.968,325.311Z",
          "type": "path"
         },
         {
          "fillcolor": "PaleTurquoise",
          "line": {
           "color": "LightSeaGreen"
          },
          "path": "M593.144,324.772L593.125,318.094L594.687,314.032L594.0,312.844L593.312,313.032L593.124,311.532L591.312,311.657L593.687,308.219L596.062,307.031L599.812,305.656L603.124,303.656L605.312,301.844L606.624,301.282L609.749,299.22L612.187,296.158L615.812,293.533L617.0,292.033L616.75,289.221L616.938,286.783L618.5,284.845L619.875,283.407L619.625,282.282L618.994,280.277L611.823,282.973L604.134,284.21L594.942,281.381L594.432,278.812L592.589,277.488C 592.004,276.976 590.777,277.563 590.0,277.577C 589.115,277.593 587.937,277.539 587.053,277.577C 586.436,277.604 585.617,277.729 585.0,277.756C 584.277,277.787 583.306,277.852 582.589,277.755L579.705,278.392L576.216,278.392L575.828,274.126L573.372,274.256L571.045,275.548L567.943,278.522L564.97,277.358L562.773,278.78L561.739,277.746L559.671,278.005L555.664,277.876L549.848,275.679L546.745,277.359L543.514,276.842L537.44,279.686L539.482,287.468L546.552,285.285L553.681,286.747L557.885,288.21L558.068,290.586L555.508,295.522L554.229,297.715L554.594,299.361L555.508,302.103L557.519,303.016L560.626,304.479L563.368,303.382L565.561,303.747L564.464,310.511L563.734,316.177L562.636,324.22L562.636,328.79L563.002,332.629L561.539,336.102L560.26,337.93L570.108,346.186L575.831,349.809L577.217,351.179L580.352,348.578L580.998,347.156L580.998,345.993L579.834,344.7L578.283,343.925L575.828,342.115L574.406,339.53L572.725,337.333L571.82,334.748L571.045,330.352L570.787,326.475L570.528,323.115L571.432,321.434L573.113,321.434L574.535,322.597L574.664,323.502L573.242,324.148L573.372,325.182L575.182,325.828L576.733,325.569L578.93,324.277L580.74,322.08L583.971,325.311Z",
          "type": "path"
         },
         {
          "fillcolor": "PaleTurquoise",
          "line": {
           "color": "LightSeaGreen"
          },
          "path": "M641.996,223.203L639.033,225.009L635.93,224.75L635.155,223.846L634.38,221.002L633.475,220.873L629.856,220.484L628.564,219.967L627.789,218.545L627.659,216.348L627.013,214.28L626.495,211.954L626.366,209.886L625.073,209.369L623.651,209.628L622.617,207.172L620.162,207.56L618.869,205.879L617.835,204.845L613.699,205.104L610.468,204.845L608.4,205.621L606.203,207.559L603.101,208.722L598.448,208.981L595.345,209.239L591.468,208.076L590.046,206.913L585.753,207.037C 585.105,206.013 584.639,204.436 584.074,203.368C 583.613,202.497 582.822,201.435 582.385,200.554C 581.981,199.739 581.539,198.604 581.259,197.739C 581.153,197.408 580.982,196.894 580.98,196.894C 580.798,197.746 579.944,198.643 579.571,199.428C 579.18,200.249 578.422,201.333 578.445,202.242C 578.476,203.451 579.668,204.786 580.133,205.901C 580.411,206.567 580.821,207.449 580.978,208.153C 581.215,209.228 581.217,210.712 581.259,211.812C 581.305,212.994 581.087,214.583 581.259,215.752C 581.387,216.625 581.89,217.712 582.104,218.567C 582.312,219.402 582.387,220.567 582.666,221.381C 582.911,222.096 583.775,222.878 583.792,223.633C 583.812,224.464 582.893,225.366 582.666,226.166C 582.319,227.395 582.49,229.171 582.097,230.406L584.847,234.922L586.675,237.663L588.686,238.304L590.148,236.933L591.062,236.659L591.519,238.213L591.844,241.223L594.441,239.872L597.285,238.321L598.965,237.933L600.387,242.844L601.292,245.041L602.972,245.687L606.979,247.238L609.435,246.204L612.408,245.946L616.027,245.816L616.802,249.177L619.517,249.306L622.102,248.013L624.17,246.462L626.496,245.687L627.918,244.783L631.408,245.687L634.252,246.204L635.415,245.429L635.544,244.137L635.803,241.422L637.095,239.742L639.034,238.32L640.326,236.123L641.102,231.986L643.04,227.204L642.781,225.911Z",
          "type": "path"
         },
         {
          "fillcolor": "PaleTurquoise",
          "line": {
           "color": "LightSeaGreen"
          },
          "path": "M499.186,347.442L500.67,344.508L503.777,341.767L503.412,340.121L498.842,332.992L498.842,330.25L500.122,327.325L502.498,325.498L503.961,322.573L504.691,320.196L505.24,313.067L506.885,311.605L509.81,308.315L511.273,306.304L514.198,308.132L513.832,310.691L515.66,311.24L517.853,306.852L519.316,303.379L521.875,300.454L524.982,297.894L522.606,292.776L527.724,288.572L531.928,288.207L533.756,289.669L539.48,287.465L537.44,279.683L543.514,276.839L546.745,277.356L549.848,275.676L555.664,277.873L559.671,278.002L561.739,277.743L562.773,278.777L564.97,277.355L567.943,278.519L571.045,275.545L573.372,274.253L575.828,274.123L576.216,278.389L579.705,278.389L582.589,277.752C 583.306,277.849 584.277,277.784 585.0,277.753C 585.617,277.727 586.436,277.602 587.053,277.574C 587.937,277.536 589.115,277.59 590.0,277.574C 590.776,277.56 592.004,276.973 592.589,277.485L594.442,278.823L596.203,277.946L599.471,278.381L600.751,277.97L601.848,276.873L601.664,270.201L600.11,269.424L598.511,268.464L596.865,266.637L593.894,263.986L592.307,261.974L590.626,261.522L589.204,261.845L586.619,261.974L583.566,261.335L579.545,260.421L577.26,258.867L576.803,258.227L578.265,256.673L579.636,255.119L580.642,252.651L580.733,251.921L584.297,248.63L588.228,243.694L589.964,242.415L591.837,241.182L591.518,238.211L591.061,236.657L590.147,236.931L588.685,238.302L586.674,237.661L584.846,234.92L581.998,230.293L577.16,231.817L571.762,233.138L569.449,233.469L567.907,230.935L565.813,226.748L563.831,222.562L561.627,216.723L560.856,212.205L559.093,206.917L556.999,200.087L556.008,195.46L555.787,192.155L555.127,190.062L554.466,189.621L550.169,188.409L549.178,186.646L545.763,185.875L543.56,185.985L539.042,191.823L536.509,193.256L535.517,195.9L534.746,199.867L534.415,202.29L533.313,204.494L531.44,206.036L529.458,206.366L527.145,205.706L525.382,204.163L525.161,202.842L525.161,201.299L527.695,200.087L527.364,198.655L525.601,199.095L520.534,199.646L515.246,200.086L512.602,199.535L512.492,196.671L511.61,194.468L511.28,193.917L509.628,193.586L507.094,193.035L504.561,193.806L503.349,194.688L502.798,196.891L502.027,199.204L499.383,199.975L496.849,200.196L493.985,199.975L492.112,199.975L492.333,198.764L492.553,195.018L492.553,192.264L491.892,190.281L490.35,187.417L488.587,188.078L485.612,188.959L484.18,188.959L482.307,188.959L480.985,187.747L479.664,187.527L479.554,189.62L479.554,198.323L479.003,199.425L478.121,200.417L476.799,201.188L472.833,200.968L470.961,200.086L467.655,199.646L463.359,200.197L461.376,200.748L459.393,202.07L455.217,202.426L455.207,203.501L454.986,205.925L456.088,210.112L458.733,215.62L460.715,218.265L462.367,220.689L462.698,222.452L462.037,227.519L462.037,230.824L464.24,234.13L465.231,236.663L464.24,239.197L462.367,241.29L461.486,243.824L462.257,247.569L462.477,249.663L462.587,252.527L462.036,254.951L461.596,259.468L460.494,262.222L462.697,264.316L465.01,267.07L465.891,269.053L466.222,272.027L466.993,275.222L470.188,274.782L473.713,275.002L476.137,275.773L476.797,278.748L478.119,282.493L478.34,284.806L476.797,288.001L474.704,291.416L473.933,294.831L472.831,296.925L470.518,299.348L466.773,298.908L464.79,300.781L462.146,302.213L459.282,304.526L461.045,305.848L462.036,307.942L461.926,313.009L460.714,315.542L457.189,315.433L457.629,322.593L458.951,326.229L459.942,328.322L465.781,332.509L471.29,335.704L477.569,340.992L481.535,345.728L485.116,351.399L488.038,350.036L494.659,348.089Z",
          "type": "path"
         },
         {
          "fillcolor": "PaleTurquoise",
          "line": {
           "color": "LightSeaGreen"
          },
          "path": "M581.528,89.076L580.223,91.134L580.869,91.877L580.611,95.755L578.284,101.7L574.148,105.836L570.788,108.68L570.788,112.817L568.978,116.177L566.91,122.64L568.72,128.069L570.271,129.361L570.659,131.042L571.177,133.886L572.081,138.927L572.34,139.831L574.537,140.865L578.156,142.933L578.802,146.035L578.027,147.845L571.952,155.083L572.34,157.28L579.191,160.899L578.617,163.485L579.09,171.254L580.8,173.333L582.17,174.454L584.892,174.955L586.867,172.157L587.824,172.603L586.063,175.621L584.301,178.807L581.925,181.458L579.549,182.555L576.263,183.212C 576.669,183.918 577.535,184.92 577.884,185.636C 578.318,186.525 578.705,187.792 579.01,188.733C 579.199,189.317 579.384,190.118 579.573,190.703C 579.878,191.643 580.483,192.835 580.699,193.8C 580.902,194.71 581.173,195.984 580.98,196.896C 580.8,197.748 579.946,198.645 579.573,199.43C 579.182,200.251 578.424,201.335 578.447,202.244C 578.478,203.453 579.67,204.788 580.135,205.903C 580.413,206.569 580.823,207.451 580.98,208.155C 581.217,209.23 581.219,210.714 581.261,211.814C 581.307,212.996 581.089,214.585 581.261,215.754C 581.389,216.627 581.892,217.714 582.106,218.569C 582.314,219.404 582.389,220.569 582.668,221.383C 582.913,222.098 583.777,222.88 583.794,223.635C 583.814,224.466 582.895,225.368 582.668,226.168C 582.321,227.397 582.492,229.173 582.092,230.361L577.163,231.821L571.765,233.142L569.452,233.473L567.91,230.939L565.816,226.752L563.834,222.566L561.63,216.727L560.859,212.209L559.096,206.921L557.002,200.091L556.011,195.464L555.79,192.159L555.13,190.066L554.469,189.625L550.172,188.413L549.181,186.65L545.766,185.879L543.563,185.989L539.045,191.827L536.512,193.26L535.52,195.904L534.749,199.871L534.418,202.294L533.316,204.498L531.443,206.04L529.461,206.37L527.148,205.71L525.385,204.167L525.164,202.846L525.164,201.303L527.698,200.091L527.367,198.659L525.604,199.099L520.537,199.65L515.249,200.09L512.605,199.539L512.495,196.675L511.613,194.472L511.283,193.921L509.631,193.59L507.097,193.039L504.564,193.81L503.352,194.692L502.801,196.895L502.03,199.208L499.386,199.979L496.852,200.2L493.988,199.979L492.115,199.979L492.336,198.768L492.556,195.022L492.556,192.268L491.895,190.285L490.353,187.421L488.59,188.082L485.615,188.963L484.183,188.963L482.31,188.963L480.988,187.751L479.667,187.531L479.557,189.624L479.557,198.327L479.006,199.429L478.124,200.421L476.802,201.192L472.836,200.972L470.964,200.09L467.658,199.65L463.362,200.201L461.379,200.752L459.396,202.074L455.205,202.414L454.769,198.935L454.714,193.482L455.485,190.176L455.964,189.074C 456.792,188.779 457.539,187.696 458.101,186.976C 458.944,185.896 459.79,184.262 460.45,183.062C 460.829,182.372 461.163,181.353 461.624,180.713C 462.158,179.973 463.26,179.314 463.776,178.561C 464.103,178.084 464.211,177.261 464.559,176.8C 465.112,176.069 466.327,175.553 466.907,174.843C 467.456,174.172 468.158,173.157 468.277,172.299C 468.425,171.227 467.362,169.851 467.495,168.777C 467.575,168.126 468.188,167.412 468.383,166.765L470.247,168.087L472.175,169.629L474.544,170.566L477.573,171.227L483.412,171.723L487.213,171.998L488.865,171.723L490.132,171.227L491.344,169.464L492.336,165.993L494.264,160.54L496.137,156.739L498.065,152.222L497.625,150.074L494.87,147.43L492.502,147.044L490.685,146.218L488.647,145.006L485.397,143.243L483.524,141.426L485.948,139.993L485.838,137.404L485.122,134.375L483.524,133.935L482.808,131.566L482.752,129.803L480.604,129.583L479.53,129.39L476.803,127.6L476.252,124.075L476.473,121.762L473.609,121.432L471.185,121.322L469.312,120.22L466.889,117.025L465.786,112.949L462.702,107.441L460.168,104.026L458.075,101.381L457.083,100.169L455.431,99.067L453.889,98.957L452.456,99.839L451.685,101.271L451.134,103.695L450.583,105.678L449.812,108.102L447.609,110.195L445.296,111.847L441.881,112.068L441.66,109.755L441.99,108.212L441.33,107.001L439.787,106.23L436.537,103.366L433.673,101.879L430.754,100.832L430.461,99.199C 431.227,99.021 432.361,98.837 433.203,98.656C 434.305,98.419 435.788,98.148 436.863,97.811C 437.73,97.54 438.817,96.979 439.677,96.685C 440.84,96.288 442.472,96.005 443.617,95.559C 444.497,95.217 445.682,94.726 446.432,94.152C 447.239,93.534 448.162,92.492 448.684,91.619C 449.19,90.77 449.446,89.441 449.809,88.522C 450.046,87.924 450.293,87.084 450.654,86.552C 450.855,86.255 451.168,85.844 451.499,85.707C 451.889,85.545 452.495,85.609 452.906,85.707C 453.641,85.881 454.437,86.607 455.158,86.833C 455.728,87.011 456.531,87.121 457.129,87.114C 457.643,87.108 458.323,86.971 458.817,86.833C 459.255,86.71 459.817,86.472 460.224,86.27C 460.665,86.051 461.165,85.583 461.631,85.426C 462.356,85.181 463.401,85.123 464.165,85.144C 464.678,85.159 465.369,85.253 465.853,85.426C 466.495,85.654 467.342,86.071 467.824,86.552C 468.306,87.033 468.646,87.912 468.95,88.522C 469.236,89.098 469.548,89.898 469.794,90.493C 469.968,90.913 470.24,91.461 470.357,91.9C 470.511,92.477 470.513,93.287 470.638,93.871C 470.766,94.472 470.919,95.295 471.2,95.841C 471.448,96.321 471.892,96.927 472.326,97.249C 473.056,97.79 474.42,97.821 475.141,98.374C 475.476,98.631 475.589,99.353 475.985,99.5C 476.715,99.771 477.877,99.378 478.519,98.938C 479.021,98.594 479.298,97.75 479.645,97.25C 480.057,96.651 480.406,95.611 481.052,95.279C 481.728,94.931 482.825,95.248 483.585,95.279C 484.601,95.321 485.949,95.476 486.963,95.56C 487.976,95.645 489.361,95.567 490.341,95.841C 490.886,95.994 491.487,96.522 492.029,96.686C 492.68,96.883 493.601,96.925 494.281,96.967C 495.377,97.035 496.85,97.102 497.94,96.967C 498.631,96.882 499.568,96.713 500.192,96.405C 500.676,96.165 501.177,95.617 501.599,95.279C 502.021,94.941 502.624,94.535 503.006,94.153C 503.389,93.77 503.677,93.038 504.132,92.746C 504.425,92.558 504.913,92.413 505.258,92.465C 505.745,92.537 506.257,93.034 506.665,93.309C 507.016,93.544 507.391,94.02 507.791,94.154C 508.593,94.421 509.762,94.154 510.606,94.154C 510.944,94.154 511.438,94.32 511.732,94.154C 512.16,93.912 512.339,93.178 512.576,92.747C 512.848,92.25 513.291,91.609 513.421,91.058C 513.557,90.483 513.421,89.679 513.421,89.088C 513.421,88.919 513.363,88.684 513.421,88.525C 513.646,87.905 514.232,87.116 514.828,86.837C 515.211,86.657 515.816,86.889 516.235,86.837C 516.926,86.752 517.835,86.516 518.487,86.274C 518.665,86.209 518.894,86.098 519.05,85.993C 519.892,85.423 520.806,84.397 521.583,83.741C 521.996,83.392 522.48,82.794 522.99,82.615C 523.707,82.364 524.769,82.708 525.523,82.615C 525.869,82.573 526.323,82.455 526.649,82.334C 527.358,82.072 528.225,81.546 528.901,81.208C 529.408,80.955 530.236,80.806 530.589,80.363C 530.808,80.092 530.693,79.536 530.871,79.237C 531.515,78.16 532.977,77.195 533.967,76.423C 534.447,76.048 535.207,75.708 535.656,75.297C 536.054,74.932 536.277,74.083 536.782,73.89C 537.261,73.706 538.057,73.867 538.47,74.171C 538.774,74.396 538.787,75.01 539.033,75.297C 539.505,75.85 540.344,76.4 541.003,76.704C 541.319,76.85 541.783,76.943 542.129,76.985C 542.465,77.027 542.919,77.016 543.255,76.985C 544.195,76.901 545.411,76.507 546.352,76.423C 546.941,76.37 547.739,76.328 548.322,76.423C 548.849,76.509 549.484,76.901 550.011,76.985C 550.761,77.107 551.79,76.892 552.544,76.985C 553.235,77.071 554.236,77.133 554.796,77.548C 555.192,77.841 555.485,78.488 555.641,78.955C 555.908,79.761 555.559,81.003 555.922,81.77C 556.382,82.741 557.695,83.542 558.455,84.303C 559.384,85.232 559.862,87.117 561.552,87.399C 563.24,87.68 562.912,88.412 563.522,88.806C 564.507,89.444 565.774,90.777 566.9,90.777C 568.026,90.777 569.452,91.256 570.559,91.34C 571.57,91.417 572.923,91.34 573.937,91.34C 574.866,91.34 576.301,91.911 577.034,91.34C 577.308,91.125 577.143,90.517 577.315,90.214C 577.668,89.59 578.341,88.799 579.003,88.525C 579.315,88.396 579.798,88.462 580.129,88.525C 580.58,88.61 581.114,88.89 581.528,89.076Z",
          "type": "path"
         },
         {
          "fillcolor": "PaleTurquoise",
          "line": {
           "color": "LightSeaGreen"
          },
          "path": "M353.717,141.851L354.13,143.88L355.221,145.827L360.44,150.501L362.038,152.916L364.959,153.462L366.832,153.166L367.062,151.514L367.918,149.489L369.477,148.476L372.67,148.321L376.253,148.399L376.721,150.58L380.071,152.839L382.876,150.58L386.459,149.489L387.005,147.698L388.251,144.27L395.885,143.179L396.976,139.284L404.22,138.738L404.454,135.778L406.168,132.896L407.414,129.157L406.791,126.508L404.766,123.86L404.921,120.277L409.751,120.121L412.399,119.966L414.581,117.473L415.827,117.941L417.852,120.901L422.136,121.602L425.408,121.29L428.29,122.614L427.822,123.86L425.641,128.145L423.849,130.482L421.357,132.974L420.811,136.09L420.578,140.141L419.565,142.634L417.306,143.802L415.358,144.659L410.295,144.971L410.529,150.034L411.152,153.695L412.087,157.824L415.826,157.824L421.357,157.512L427.433,156.656L429.692,158.058L430.783,160.317L432.574,162.732L434.756,164.757L436.548,166.237L439.04,167.327L441.611,167.717L443.948,167.484L443.948,165.225L444.337,162.81L447.453,160.473L452.205,158.681L455.711,157.201L458.749,155.176L462.41,151.515L465.058,148.322L467.863,147.699L472.381,148.244L475.809,146.608L479.938,143.57L480.25,140.922C 479.86,140.922 478.926,138.818 478.926,138.818L477.446,136.948L477.758,133.911L478.771,131.651L479.487,129.318L476.801,127.605L476.25,124.08L476.471,121.767L473.607,121.437L471.183,121.327L469.31,120.225L466.887,117.03L465.784,112.954L462.7,107.446L460.166,104.031L458.073,101.386L457.081,100.174L455.429,99.072L453.887,98.962L452.454,99.844L451.683,101.276L451.132,103.7L450.581,105.683L449.81,108.107L447.607,110.2L445.294,111.852L441.879,112.073L441.658,109.76L441.988,108.217L441.328,107.006L439.785,106.235L436.535,103.371L433.671,101.884L430.752,100.837L430.385,99.224C 429.45,99.446 428.167,99.669 427.29,100.069C 426.736,100.321 426.151,100.933 425.602,101.195C 424.565,101.687 423.041,101.987 421.943,102.321C 421.099,102.577 420.009,103.178 419.129,103.166C 418.327,103.153 417.335,102.628 416.595,102.321C 415.723,101.96 414.525,101.495 413.781,100.914C 413.168,100.435 412.585,99.546 412.093,98.943C 411.484,98.197 410.636,97.224 410.122,96.41C 409.619,95.611 409.459,94.276 408.906,93.655L406.326,95.665L406.949,100.495L405.235,102.209L401.964,102.832L400.095,100.495L397.758,100.807L397.29,96.445L394.36,95.135L391.569,96.551L388.731,96.897L385.547,97.633L381.951,98.847L379.202,102.442L379.837,106.883L381.74,109.209L381.74,113.017L379.377,116.402C 380.562,116.483 380.645,116.491 381.319,116.543L383.423,117.867L383.579,119.503L383.734,120.905L382.255,123.242L381.476,124.878L380.307,126.202L379.139,126.047L376.957,125.969L375.088,125.736L372.128,126.982L370.024,127.294L367.999,126.593L366.597,126.048L365.786,124.578L364.186,125.919L362.706,127.399L360.802,131.42L361.923,132.123L363.637,131.422L364.728,132.59L367.532,134.694L370.18,137.342L371.349,139.679L371.193,142.094L370.415,143.964L369.48,144.899L367.142,145.132L364.338,143.73L360.521,142.795ZM353.056,136.69L353.721,141.855L348.132,141.31L344.003,137.493L344.128,134.646C 345.186,134.775 346.481,135.437 347.52,135.637C 348.756,135.875 350.479,135.723 351.7,136.034C 352.14,136.148 352.707,136.453 353.056,136.69Z",
          "type": "path"
         },
         {
          "fillcolor": "PaleTurquoise",
          "line": {
           "color": "LightSeaGreen"
          },
          "path": "M575.026,455.193L576.611,448.856L576.689,445.974L576.456,441.689L578.481,442.235L582.376,442.235L585.414,442.547L586.972,442.079L588.219,439.82L589.154,437.172L592.815,433.822L594.449,430.465L591.646,430.005L589.387,428.759L587.128,427.435L585.804,425.487L584.635,422.76L583.7,420.579L581.207,416.528L580.272,414.503L581.986,409.518L584.168,403.831L584.713,393.158L584.401,390.821L582.135,389.365L580.345,388.879L576.455,393.236L573.962,396.664L571.625,400.715L570.379,406.323L570.379,411.621L569.6,414.736L566.016,418.008L562.901,420.189L559.317,422.059L557.915,424.396L550.437,429.07L545.607,430.784L535.325,433.432L530.027,434.367L526.444,430.939L520.056,429.693L514.135,425.797L509.617,424.084L505.721,424.396L500.736,422.059L496.997,420.034L493.881,420.189L491.077,422.059L487.181,424.084L482.819,425.797L482.041,435.769L475.029,439.197L472.848,442.157L467.551,446.519L461.786,447.454L452.282,447.922L439.35,459.14L424.549,471.291L420.031,464.437L412.241,458.828L406.632,457.738L403.984,460.386L401.803,464.437L398.842,468.176L393.857,468.02L389.339,468.02L387.002,469.266L385.132,471.136L389.651,474.096L388.56,475.81L385.912,478.615L381.705,480.64L377.343,482.042L369.241,479.393L364.412,478.303C 364.412,478.303 356.466,480.328 355.843,480.64C 355.22,480.952 349.144,485.625 349.144,485.625L344.625,488.741L340.107,491.545L337.302,490.455L335.9,488.273L335.9,481.885L331.849,481.106L327.954,483.599L325.306,485.624L324.527,489.986L323.281,493.881L320.32,495.906L314.466,495.778L310.24,498.727L307.412,501.379L309.533,505.975L307.765,509.158L305.821,512.87L301.932,518.527L297.159,522.946L291.149,528.78L285.669,533.199L278.496,537.535L272.704,541.684L272.034,542.349C 271.331,540.308 269.806,537.797 269.266,535.707C 269.078,534.979 269.089,533.962 268.99,533.217C 268.777,531.634 268.761,529.439 268.159,527.958C 267.51,526.357 265.845,524.658 264.839,523.254C 264.181,522.336 263.44,520.992 262.625,520.21C 262.193,519.795 261.36,519.552 260.965,519.103C 260.228,518.268 259.744,516.805 259.304,515.783C 258.92,514.889 258.366,513.695 258.198,512.738C 258.025,511.758 258.198,510.414 258.198,509.418C 258.198,508.671 258.306,507.666 258.198,506.927C 258.072,506.07 257.675,504.971 257.368,504.16C 256.947,503.048 256.222,501.634 255.707,500.562C 255.306,499.725 254.837,498.568 254.323,497.794C 253.9,497.156 253.076,496.501 252.663,495.856C 252.021,494.856 251.638,493.263 251.003,492.258C 250.31,491.161 249.2,489.804 248.235,488.937C 247.567,488.337 246.319,487.967 245.745,487.277C 245.34,486.791 245.16,485.923 244.914,485.339C 244.494,484.345 243.87,483.043 243.53,482.019C 243.315,481.369 243.314,480.401 242.977,479.805C 242.572,479.089 241.601,478.468 241.039,477.867C 240.436,477.222 239.649,476.346 239.101,475.653C 238.764,475.226 238.047,474.177 237.975,474.057L234.63,465.991L221.159,464.976L222.06,473.597L222.906,479.096L221.426,481.634L219.1,483.96L215.081,485.229L215.927,487.344L218.465,490.516L220.157,494.112L221.426,496.015L223.117,496.438L226.713,498.976L228.193,501.09L229.673,502.994L232.634,503.84L234.537,506.589L234.537,511.665L233.691,516.317L230.941,520.97L226.712,526.68L223.751,532.602L224.386,537.889L224.809,543.599L221.213,545.714L218.252,549.943L217.406,552.269L219.521,553.961L221.847,556.71L227.557,556.498L230.518,556.075L233.479,555.652L237.708,557.344L242.784,558.613L244.475,561.574L242.996,564.112L243.63,570.245L243.207,573.418L241.092,575.109L240.458,579.761L240.669,582.722L243.207,582.299L244.687,580.608L246.167,577.647L246.802,576.167L250.397,575.955L252.3,576.59L254.203,580.397L256.107,581.032L258.856,585.051L262.451,590.972L267.104,596.683L270.488,602.816L271.546,607.257L270.066,611.276L273.45,612.122L276.834,612.968L277.257,617.832L277.257,622.485L280.006,625.445C 280.006,625.445 283.39,630.31 284.447,631.579C 285.504,632.848 286.773,635.598 286.773,635.598L289.1,639.405L290.58,643.634L291.426,645.537L293.117,645.326L295.232,641.307L297.77,638.558L302.634,638.134L306.863,641.518L309.189,644.479L311.092,644.902L311.092,640.462L311.304,637.712L313.841,635.386L316.591,635.386L320.398,634.963L322.71,634.624L325.701,634.025L327.496,632.231L329.889,628.642L331.085,625.95L335.593,626.599L340.656,627.745L344.668,627.533L349.03,629.24L352.918,631.035L354.713,629.539L356.508,628.643L359.199,628.044L360.695,625.053L364.583,623.259L369.368,620.567L371.462,619.671L370.864,618.774L372.359,614.288L374.453,613.988L376.547,612.493L378.641,611.596L382.23,610.998L384.921,610.998L387.613,609.203L387.014,606.81L388.809,603.221L390.4,602.818L392.303,601.972L395.475,603.452L398.859,607.259L402.667,607.894L408.8,606.836L413.875,607.47L416.836,609.374L418.316,611.277L421.277,613.391L424.661,615.506L425.931,620.793L427.622,621.639L428.68,621.216L433.544,618.89L436.717,618.678L440.946,619.948L445.598,624.389L449.617,621.639L454.058,622.486L457.865,622.697L460.614,621.217L460.614,620.159L459.98,612.546L461.249,607.894L465.268,603.453L469.497,600.703L486.839,599.646L489.589,597.108L492.126,591.821L494.241,587.168L497.202,584.631L495.299,581.035L495.51,572.998L496.78,570.884L500.587,567.288L506.297,564.327L510.738,563.904L514.545,563.904L515.18,560.943L517.295,557.348L520.467,554.598L523.428,553.752L523.64,552.061L522.793,547.408L525.966,544.447L525.331,540.429L523.005,538.102L521.525,533.027L521.102,529.22L517.929,524.779L513.911,521.395L508.412,518.645L508.835,515.05L511.796,512.3L515.392,506.802L518.776,503.418L521.948,502.148L525.755,502.571L529.562,504.051L533.581,502.994L538.233,497.072L540.137,493.899L540.137,491.996L542.04,490.516L545.847,489.247L548.173,485.44L551.557,483.325L559.17,480.153L560.862,476.769L559.804,473.808L556.42,472.961L553.882,470.635L554.94,466.406L556.843,463.868L561.284,462.81L566.148,459.426Z",
          "type": "path"
         },
         {
          "fillcolor": "PaleTurquoise",
          "line": {
           "color": "LightSeaGreen"
          },
          "path": "M320.34,422.462L323.148,418.825L327.92,415.112L331.456,413.168L336.759,413.698L340.295,411.577L336.936,406.274L337.29,399.379L337.644,394.075L338.175,391.424L341.18,389.48L344.892,391.071L346.483,390.717L349.489,390.894L350.019,385.944L349.842,377.989L347.19,375.338L342.948,371.626L340.12,369.858L335.146,368.014C 334.552,367.395 333.077,367.356 332.643,366.619C 332.222,365.903 332.394,364.643 332.643,363.851C 332.948,362.884 334.16,362.005 334.581,361.083C 334.865,360.46 335.276,359.539 335.135,358.869C 334.94,357.942 333.668,357.199 333.197,356.378C 332.53,355.215 331.718,353.557 331.537,352.228C 331.435,351.483 331.431,350.383 331.813,349.737C 332.331,348.866 334.064,348.672 334.581,347.8C 334.965,347.153 334.782,346.057 334.857,345.309C 334.95,344.397 334.849,343.137 335.134,342.265C 335.435,341.344 336.404,340.383 336.794,339.497C 337.145,338.704 337.305,337.535 337.624,336.729C 338.035,335.694 338.69,334.351 339.285,333.409C 339.789,332.608 340.507,331.538 341.222,330.918L340.473,330.435L338.175,329.021C 338.175,329.021 335.523,326.9 335.699,326.193C 335.875,325.486 336.583,323.895 336.583,323.895L338.528,321.243L339.235,322.834L341.71,324.779L342.606,326.215C 343.24,324.761 345.53,323.887 346.481,322.617C 346.703,322.319 347.093,321.877 347.034,321.51C 346.94,320.931 345.905,320.656 345.65,320.126C 345.325,319.448 345.416,318.387 345.374,317.636C 345.333,316.89 345.66,315.835 345.374,315.145C 345.015,314.278 343.967,313.414 343.16,312.931C 342.416,312.487 341.259,312.142 340.392,312.101C 339.546,312.061 338.317,312.167 337.624,312.655C 337.228,312.934 337.256,313.893 336.794,314.039C 336.015,314.285 335.043,313.281 334.304,312.932C 333.8,312.695 333.196,312.17 332.643,312.102C 331.884,312.008 330.857,312.355 330.153,312.656C 329.878,312.773 329.616,313.149 329.323,313.21C 328.414,313.398 327.134,313.018 326.279,312.656C 324.963,312.099 323.796,310.211 322.404,309.888C 321.912,309.775 321.24,310.259 320.744,310.165C 320.268,310.074 319.716,309.663 319.36,309.334C 318.836,308.85 317.976,307.397 318.007,307.408L313.779,307.102L314.84,298.97L314.486,293.136L312.895,287.303L314.663,285.004L318.728,282.353L318.021,278.818L314.486,274.928L312.188,276.342L303.172,280.585L293.449,282.176L289.029,282.353L282.175,284.378L281.429,283.943L277.539,282.706L272.313,280.055L267.11,275.2C 267.11,275.223 267.985,273.293 268.379,272.473C 268.748,271.706 269.279,270.702 269.649,269.936C 270.043,269.117 270.398,267.931 270.918,267.186C 271.38,266.524 272.197,265.794 272.821,265.283C 273.529,264.703 274.583,264.076 275.359,263.592C 276.107,263.125 277.098,262.486 277.897,262.112C 278.569,261.797 279.499,261.427 280.223,261.265C 280.907,261.113 281.855,261.149 282.549,261.054C 283.252,260.958 284.856,260.622 284.856,260.622L287.76,259.249L288.695,254.419L289.007,250.68L288.072,247.409L281.529,243.047L274.517,239.308L272.803,238.217L266.883,238.373L258.47,239.463L253.328,241.956L248.966,244.138L245.538,245.696L241.955,247.254L241.332,243.515L243.513,240.711L244.604,236.504L244.137,230.584L242.384,226.806L248.188,226.144L251.459,224.04L256.211,219.834L258.938,217.185L264.858,217.809L267.974,217.497L269.532,215.004L269.844,212.511L275.765,211.576L279.504,206.591L282.619,199.736L283.243,196.308L290.721,197.867L303.808,196.932L302.562,190.388L306.301,188.206L305.989,183.844L307.547,180.417L311.286,179.793L315.337,179.793L318.453,183.221L324.373,184.468L331.54,184.156L337.772,182.91L343.069,180.105L348.366,175.743L352.105,170.758L353.663,171.381L354.599,176.367L358.961,176.055L367.997,176.991L373.294,177.614L379.526,179.795L382.954,177.303L386.069,173.564L392.613,173.564L394.409,173.767L392.145,177.225L390.12,179.017L388.641,181.198L386.304,182.757L380.228,184.471L377.345,185.561L374.853,187.665L374.152,190.548L373.529,191.638L372.127,192.106L367.842,193.041L364.181,193.509L364.103,196.624L360.598,199.585L356.625,202.0L350.626,204.726L345.251,206.908L346.108,213.763L347.744,215.71L351.094,216.723L352.418,217.346L353.587,222.098L354.493,223.818C 354.924,223.461 355.715,223.324 356.167,222.999C 356.548,222.725 356.887,222.158 357.273,221.892C 357.948,221.429 359.108,221.274 359.764,220.786C 360.378,220.329 361.073,219.529 361.424,218.848C 361.738,218.24 361.641,217.23 361.978,216.634C 362.209,216.226 362.642,215.683 363.085,215.528C 363.794,215.279 364.829,215.897 365.575,215.804C 366.279,215.716 367.176,215.33 367.789,214.974C 368.35,214.648 368.915,213.956 369.449,213.59C 370.154,213.107 371.142,212.515 371.94,212.206C 372.616,211.944 373.716,212.094 374.242,211.615L374.54,215.789L374.852,219.84L377.89,224.514L376.02,228.175L374.384,228.643L371.502,228.487L367.451,228.254L365.426,230.902L363.946,233.083L363.946,235.966L363.245,238.07L358.649,238.382L356.389,238.615L354.987,237.446L352.105,236.979L351.014,237.757L350.859,240.017L351.872,242.432L353.196,245.314L355.455,249.131L356.0,249.832L356.857,249.209L359.895,247.027L362.31,245.703L364.725,245.002L364.647,247.339L364.414,249.131L365.738,250.922L368.542,250.767L371.425,249.676L373.139,248.352L373.529,246.248L372.438,244.69L371.425,242.82L371.892,241.73L375.631,239.938L378.747,238.146L381.785,236.121L383.889,232.148L384.98,227.786L385.525,224.436L388.563,223.501L390.667,222.722L393.237,223.267L395.807,224.904L397.989,227.007L403.364,228.02L408.739,228.332L411.777,227.397L415.438,224.281L417.775,221.166L417.853,218.906L417.463,216.024L415.126,213.765L412.634,212.518L410.764,210.571L409.128,208.156L406.558,203.093L406.713,201.847L406.168,199.822L404.064,198.653L402.662,197.563L400.793,197.64L398.923,197.251L398.923,194.524L398.067,191.876L398.457,189.539L398.379,187.902L398.145,186.033L400.56,186.266L408.117,187.045L410.142,186.733L413.18,185.487L416.218,184.474L418.243,183.305L421.671,183.695L422.761,185.019L425.566,188.914L427.358,193.354L430.786,193.822L434.291,193.432L437.875,191.718L439.199,190.862L441.03,193.677C 441.616,193.18 442.308,192.364 442.926,191.865C 443.403,191.482 444.146,191.113 444.6,190.704C 445.001,190.341 445.325,189.636 445.774,189.334C 446.083,189.127 446.58,188.983 446.948,188.942C 448.063,188.821 449.545,189.315 450.667,189.334C 451.49,189.348 452.583,189.168 453.406,189.139C 454.169,189.112 455.245,189.431 455.942,189.139L455.486,190.186L454.715,193.492L454.77,198.945L455.211,202.415L455.211,203.517L454.99,205.941L456.092,210.128L458.737,215.636L460.719,218.281L462.371,220.705L462.702,222.468L462.041,227.535L462.041,230.84L464.244,234.146L465.235,236.679L464.244,239.213L462.371,241.306L461.49,243.84L462.261,247.585L462.481,249.679L462.591,252.543L462.04,254.967L461.6,259.484L460.498,262.238L462.701,264.332L465.014,267.086L465.895,269.069L466.226,272.043L466.997,275.238L470.192,274.798L473.717,275.018L476.141,275.789L476.801,278.764L478.123,282.509L478.344,284.822L476.801,288.017L474.708,291.432L473.937,294.847L472.835,296.941L470.522,299.364L466.777,298.924L464.794,300.797L462.15,302.229L459.286,304.542L461.049,305.864L462.04,307.958L461.93,313.025L460.718,315.558L457.193,315.449L457.633,322.609L458.955,326.245L459.946,328.338L465.785,332.525L471.294,335.72L477.573,341.008L481.539,345.744L485.12,351.415L488.042,350.052L494.663,348.105L499.184,347.451L501.207,347.755L508.997,348.846L511.801,349.625L518.812,355.233L525.044,357.415L530.497,355.077L533.457,354.142L539.065,353.987L542.493,353.364L547.167,355.233L551.997,358.349L558.385,353.675L561.813,350.559L565.435,349.039L569.408,347.325L570.112,346.193L575.835,349.818L577.203,351.186L578.679,353.089L582.769,349.857L588.457,352.576L586.352,356.556L586.119,358.503L586.587,363.801L588.378,367.151L589.547,370.967L589.702,374.005L589.702,377.043L588.846,378.679L586.976,379.848L584.406,379.536L581.836,378.601L578.72,378.055L576.616,377.822L576.849,379.769L577.472,383.275L578.408,385.69L580.36,388.893L576.461,393.246L573.968,396.674L571.631,400.725L570.385,406.333L570.385,411.631L569.606,414.746L566.022,418.018L562.907,420.199L559.323,422.069L557.921,424.406L550.443,429.08L545.613,430.794L535.331,433.442L530.033,434.377L526.45,430.949L520.062,429.703L514.141,425.807L509.623,424.094L505.727,424.406L500.742,422.069L497.003,420.044L493.887,420.199L491.083,422.069L487.187,424.094L482.825,425.807L482.047,435.779L475.035,439.207L472.854,442.167L467.557,446.529L461.792,447.464L452.288,447.932L439.356,459.15L424.555,471.301L420.037,464.447L412.247,458.838L406.638,457.748L403.99,460.396L401.809,464.447L398.848,468.186L393.863,468.03L389.345,468.03L387.008,469.276L385.138,471.146L389.657,474.106L388.566,475.82L385.918,478.625L381.711,480.65L377.349,482.052L369.247,479.403L364.418,478.313C 364.418,478.313 356.472,480.338 355.849,480.65C 355.226,480.962 349.15,485.635 349.15,485.635L344.631,488.751L340.113,491.555L337.308,490.465L335.906,488.283L335.906,481.895L331.855,481.116L327.96,483.609L325.312,485.634L324.533,489.996L323.287,493.891L320.326,495.916L314.467,495.792L315.551,492.904L314.137,486.54L314.314,483.712L310.955,480.706L310.955,473.282L312.724,470.099L312.547,466.741L310.425,463.736L310.248,460.2L311.486,458.609C 311.486,458.609 314.491,458.609 315.198,458.079C 315.905,457.549 317.673,455.604 317.673,455.604C 317.673,455.604 317.496,452.245 317.673,451.184C 317.85,450.123 317.143,445.881 317.143,445.881L320.326,441.815L322.624,438.457L322.27,432.8L321.563,426.613ZM417.891,226.687L419.215,225.558L420.812,224.622L422.097,224.817L423.617,226.336L423.539,227.427L422.643,229.297C 422.643,229.297 421.358,230.621 421.202,230.66C 421.047,230.698 419.021,231.556 419.021,231.556L417.658,231.439L416.957,230.465L416.957,228.361Z",
          "type": "path"
         },
         {
          "fillcolor": "PaleTurquoise",
          "line": {
           "color": "LightSeaGreen"
          },
          "path": "M394.405,173.715L392.145,177.221L390.12,179.013L388.641,181.194L386.304,182.753L380.228,184.467L377.345,185.557L374.853,187.661L374.152,190.544L373.529,191.634L372.127,192.102L367.842,193.037L364.181,193.505L364.103,196.62L360.598,199.581L356.625,201.996L350.626,204.722L345.251,206.904L346.108,213.759L347.744,215.706L351.094,216.719L352.418,217.342L353.587,222.094L354.493,223.814C 354.924,223.457 355.715,223.32 356.167,222.995C 356.548,222.721 356.887,222.154 357.273,221.888C 357.948,221.425 359.108,221.27 359.764,220.782C 360.378,220.325 361.073,219.525 361.424,218.844C 361.738,218.236 361.641,217.226 361.978,216.63C 362.209,216.222 362.642,215.679 363.085,215.524C 363.794,215.275 364.829,215.893 365.575,215.8C 366.279,215.712 367.176,215.326 367.789,214.97C 368.35,214.644 368.915,213.952 369.449,213.586C 370.154,213.103 371.142,212.511 371.94,212.202C 372.616,211.94 373.716,212.09 374.242,211.611L374.54,215.785L374.852,219.836L377.89,224.51L376.02,228.171L374.384,228.639L371.502,228.483L367.451,228.25L365.426,230.898L363.946,233.079L363.946,235.962L363.245,238.066L358.649,238.378L356.389,238.611L354.987,237.442L352.105,236.975L351.014,237.753L350.859,240.013L351.872,242.428L353.196,245.31L355.455,249.127L356.0,249.828L356.857,249.205L359.895,247.023L362.31,245.699L364.725,244.998L364.647,247.335L364.414,249.127L365.738,250.918L368.542,250.763L371.425,249.672L373.139,248.348L373.529,246.244L372.438,244.686L371.425,242.816L371.892,241.726L375.631,239.934L378.747,238.142L381.785,236.117L383.889,232.144L384.98,227.782L385.525,224.432L388.563,223.497L390.667,222.718L393.237,223.263L395.807,224.9L397.989,227.003L403.364,228.016L408.739,228.328L411.777,227.393L415.438,224.277L417.775,221.162L417.853,218.902L417.463,216.02L415.126,213.761L412.634,212.514L410.764,210.567L409.128,208.152L406.558,203.089L406.713,201.843L406.168,199.818L404.064,198.649L402.662,197.559L400.793,197.636L398.923,197.247L398.923,194.52L398.067,191.872L398.457,189.535L398.379,187.898L398.145,186.029L400.56,186.262L408.117,187.041L410.142,186.729L413.18,185.483L416.218,184.47L418.243,183.301L421.671,183.691L422.761,185.015L425.566,188.91L427.358,193.35L430.786,193.818L434.291,193.428L437.875,191.714L439.199,190.858L441.03,193.673C 441.616,193.176 442.308,192.36 442.926,191.861C 443.403,191.478 444.146,191.109 444.6,190.7C 445.001,190.337 445.325,189.632 445.774,189.33C 446.083,189.123 446.58,188.979 446.948,188.938C 448.063,188.817 449.545,189.311 450.667,189.33C 451.49,189.344 452.583,189.164 453.406,189.135C 454.169,189.108 455.245,189.427 455.95,189.135C 456.794,188.785 457.541,187.702 458.102,186.983C 458.945,185.903 459.791,184.269 460.451,183.069C 460.83,182.379 461.164,181.36 461.625,180.72C 462.159,179.98 463.261,179.321 463.777,178.568C 464.104,178.091 464.212,177.268 464.56,176.807C 465.113,176.076 466.328,175.56 466.908,174.85C 467.457,174.179 468.159,173.164 468.278,172.306C 468.426,171.234 467.363,169.858 467.496,168.784C 467.576,168.133 468.189,167.419 468.384,166.772L470.248,168.094L472.176,169.636L474.545,170.573L477.574,171.234L483.413,171.73L487.214,172.005L488.866,171.73L490.133,171.234L491.345,169.471L492.337,166.0L494.265,160.547L496.138,156.746L498.066,152.229L497.626,150.081L494.871,147.437L492.503,147.051L490.686,146.225L488.648,145.013L485.398,143.25L483.525,141.433L485.949,140.0L485.839,137.411L485.123,134.382L483.525,133.942L482.809,131.573L482.753,129.81L480.605,129.59L479.49,129.37L478.774,131.652L477.761,133.912L477.449,136.949L478.929,138.819C 478.929,138.819 479.864,140.923 480.253,140.923L479.941,143.571L475.812,146.609L472.384,148.245L467.866,147.7L465.061,148.323L462.413,151.516L458.752,155.177L455.714,157.202L452.208,158.682L447.456,160.474L444.34,162.811L443.951,165.226L443.951,167.485L441.614,167.718L439.043,167.328L436.551,166.238L434.759,164.758L432.577,162.733L430.786,160.318L429.695,158.059L427.436,156.657L421.36,157.513L415.829,157.825L412.09,157.825L411.155,153.696L410.532,150.035L410.298,144.972L415.361,144.66L417.309,143.803L419.568,142.635L420.581,140.142L420.814,136.091L421.36,132.975L423.852,130.483L425.644,128.146L427.825,123.861L428.293,122.615L425.411,121.291L422.139,121.603L417.855,120.902L415.83,117.942L414.584,117.474L412.402,119.967L409.754,120.122L404.924,120.278L404.769,123.861L406.794,126.509L407.417,129.158L406.171,132.897L404.457,135.779L404.223,138.739L396.979,139.285L395.888,143.18L388.254,144.271L387.008,147.699L386.462,149.49L382.879,150.581L380.074,152.84L376.724,150.581L376.256,148.4L372.673,148.322L369.48,148.477L367.921,149.49L367.065,151.515L366.792,153.074L369.714,157.981L375.945,159.383L381.398,157.981L385.76,158.449L385.76,162.889L386.15,165.927L387.63,169.51L388.331,171.068L395.107,170.991L394.679,173.756M360.805,131.413L361.92,132.117L363.634,131.416L364.725,132.584L367.529,134.688L370.177,137.336L371.346,139.673L371.19,142.088L370.412,143.958L369.477,144.893L367.139,145.126L364.335,143.724L360.518,142.789L353.682,141.835L353.078,136.713L353.056,136.69L356.782,134.795ZM417.891,226.687L419.215,225.558L420.812,224.622L422.097,224.817L423.617,226.336L423.539,227.427L422.643,229.297C 422.643,229.297 421.358,230.621 421.202,230.66C 421.047,230.698 419.021,231.556 419.021,231.556L417.658,231.439L416.957,230.465L416.957,228.361ZM379.351,116.389L381.317,116.537L383.421,117.861L383.577,119.497L383.732,120.899L382.253,123.236L381.474,124.872L380.305,126.196L379.137,126.041L376.955,125.963L375.086,125.73L372.126,126.976L370.022,127.288L367.997,126.587L366.595,126.042L365.802,124.645L366.299,124.01L367.991,122.318L365.453,119.992L363.127,118.512L361.224,117.878L363.55,115.128L365.453,114.917L367.356,115.974L369.894,118.512C 369.894,118.512 370.529,120.204 372.009,120.415C 373.489,120.627 377.084,119.146 377.084,119.146Z",
          "type": "path"
         },
         {
          "fillcolor": "PaleTurquoise",
          "line": {
           "color": "LightSeaGreen"
          },
          "path": "M344.099,134.651C 342.321,134.425 339.953,134.712 338.164,134.841C 337.086,134.918 335.643,135.036 334.582,135.238C 333.913,135.366 333.051,135.663 332.393,135.836C 331.678,136.023 330.708,136.21 330.004,136.433C 329.211,136.684 328.164,137.064 327.416,137.428C 326.79,137.734 325.958,138.173 325.426,138.622C 325.005,138.977 324.558,139.571 324.141,140.101L320.829,138.178L319.138,135.852L314.908,136.275L310.679,134.372L306.66,133.102L305.391,132.044L305.391,127.815L306.871,124.431L308.985,121.259L308.985,117.875L305.813,119.144L302.429,118.086L300.737,115.971L297.565,113.645L294.604,113.645L291.009,115.125L286.99,117.028L281.068,115.759L275.781,114.49L272.185,112.798L266.898,113.221L264.784,114.491L263.726,116.394L263.091,119.143L265.629,123.162L267.109,126.969L266.051,129.083L263.09,129.93L259.495,132.468L257.591,134.159L255.054,134.794L253.784,136.697L252.726,141.349L251.035,142.195L248.497,144.31L247.863,148.329L245.113,150.867L243.844,154.039L244.69,158.058L253.996,158.481L258.015,158.693L261.822,157.213L264.994,155.733L269.647,154.463L274.299,154.886L276.202,156.578L278.528,158.904L281.066,163.557L279.586,165.248L279.375,167.363L278.105,169.477L273.664,170.535L271.338,172.65L270.069,175.611L269.57,178.292C 269.183,178.492 267.546,179.501 267.052,179.818C 266.455,180.203 265.536,180.522 264.838,180.648C 264.103,180.782 263.056,180.413 262.347,180.648C 261.56,180.911 260.84,181.873 260.133,182.309C 259.659,182.602 259.008,182.984 258.473,183.139C 257.671,183.37 256.358,182.895 255.705,183.415C 255.5,183.579 255.471,183.986 255.429,184.245C 255.375,184.573 255.302,185.046 255.429,185.352C 255.654,185.894 256.588,186.194 256.813,186.736C 257.29,187.886 256.865,189.643 256.813,190.887C 256.771,191.885 256.515,193.208 256.536,194.207C 256.551,194.876 256.827,195.752 256.813,196.421C 256.802,196.926 256.803,197.653 256.536,198.082C 256.158,198.687 255.126,198.983 254.599,199.465C 254.035,199.983 253.487,200.868 252.938,201.403C 251.712,202.597 249.888,203.985 248.51,205.001C 247.306,205.889 245.462,206.757 244.36,207.769C 243.184,208.847 241.927,210.596 241.039,211.92C 240.562,212.63 240.115,213.69 239.655,214.41C 239.048,215.362 238.302,216.724 237.441,217.454C 236.875,217.934 235.95,218.391 235.227,218.561C 234.743,218.675 234.027,218.371 233.567,218.561C 233.024,218.786 232.183,219.358 232.183,219.945C 232.183,220.532 232.992,221.211 233.567,221.329C 234.005,221.419 234.561,220.556 234.951,220.775C 235.39,221.023 235.185,221.932 235.227,222.435C 235.268,222.932 235.423,223.638 235.22,224.154L239.849,224.075L242.381,226.811L248.185,226.139L251.456,224.035L256.208,219.829L258.935,217.18L264.855,217.804L267.971,217.492L269.529,214.999L269.841,212.506L275.762,211.571L279.501,206.586L282.616,199.731L283.24,196.303L290.718,197.862L303.805,196.927L302.559,190.383L306.298,188.201L305.986,183.839L307.544,180.412L311.283,179.788L315.334,179.788L318.45,183.216L324.37,184.463L331.537,184.151L337.769,182.905L343.066,180.1L348.363,175.738L352.102,170.753L353.66,171.376L354.596,176.362L358.958,176.05L367.994,176.986L373.291,177.609L379.523,179.79L382.951,177.298L386.066,173.559L392.61,173.559L394.773,173.825L395.102,170.989L388.326,171.066L387.625,169.508L386.145,165.925L385.755,162.887L385.755,158.447L381.393,157.979L375.94,159.381L369.709,157.979L366.787,153.168L364.957,153.461L362.036,152.915L360.438,150.5L355.219,145.826L354.128,143.879L353.75,141.814L348.13,141.309L344.001,137.492Z",
          "type": "path"
         },
         {
          "fillcolor": "PaleTurquoise",
          "line": {
           "color": "LightSeaGreen"
          },
          "path": "M272.333,280.071L277.539,282.708L281.429,283.945L282.193,284.363L281.252,288.188L281.252,293.667L282.49,295.258L286.909,303.036L289.737,308.87L286.732,311.521L283.02,314.349L282.49,319.653L280.898,323.011L277.893,325.84L276.125,327.961L274.181,326.724L275.772,322.658L275.595,317.709L273.12,315.941L270.821,313.465L266.756,310.107L265.165,305.865L263.928,301.092L260.745,299.501L260.568,299.324L254.521,294.335L254.52,294.326ZM215.49,357.837L213.546,361.02L214.076,363.848L216.374,365.616L218.143,364.025L219.027,360.49L218.85,357.484ZM227.512,359.605L231.401,354.656L233.522,350.943L232.815,349.352L234.406,348.468L236.705,351.474L239.887,354.656L240.948,356.247L238.12,361.551L236.176,364.556L234.054,364.202L231.756,361.904ZM224.329,360.49L226.981,360.844L229.279,362.435L227.335,365.263L225.036,366.324L223.975,364.733ZM88.75,490.774L94.631,494.161L88.402,506.382L87.714,506.034L83.261,503.325L78.134,500.32L73.954,497.542L72.751,497.499L75.5,492.846L78.038,488.828L78.25,484.809L76.77,481.425L70.213,474.657L63.445,469.793L58.581,466.62L60.696,463.025L61.542,458.796L61.119,451.394L63.657,446.953L67.252,441.454L70.213,437.013L72.963,434.052L76.77,430.88L75.5,424.958L73.386,422.209L67.675,415.864L70.213,412.269L75.077,407.828L85.228,398.522L97.917,386.89L102.146,382.449L106.587,378.43L111.663,376.316L121.814,369.547L129.216,362.779L129.85,360.03L131.754,358.972L136.618,357.914L140.213,355.8L143.174,352.627L146.135,348.398L144.866,345.226L141.481,343.534L140.002,341.843L139.155,339.728L141.27,338.248L141.693,333.172L141.905,330.846L144.019,328.943L147.258,325.169L163.691,322.837L172.883,316.827L178.539,314.175L186.317,312.054L190.03,307.282L196.57,303.039L201.874,298.09L205.056,296.853L207.354,302.332L205.94,306.398L209.123,308.342L209.83,315.59L212.481,317.534L214.982,325.35L215.481,336.48L217.431,338.04L221.496,341.045L219.905,342.107L224.501,345.465L229.451,347.586L231.572,347.94L233.87,346.703L236.169,344.228L238.997,345.996L242.886,347.587L245.892,347.587L248.013,345.466L249.074,341.576L249.074,337.687L249.958,335.389L248.721,334.682L246.953,334.859L246.423,336.627L243.947,336.45L245.716,331.677L245.893,329.733L248.191,324.254L250.842,321.955L247.484,316.829L244.125,318.243L243.948,317.182L249.075,314.353L246.6,311.702L244.478,311.879L239.263,307.153L246.915,300.855L252.256,308.343L257.029,313.646L261.094,317.005L263.216,317.889L263.216,323.192L264.807,326.728L264.63,332.916L260.564,335.921L259.68,340.163L258.089,345.82L255.614,348.648L251.194,353.598L250.31,356.249L252.961,358.547L252.431,362.26L244.122,372.513L237.935,379.231L237.581,383.827L236.167,386.478L232.808,386.655L231.217,385.241L229.096,385.064L226.445,387.008L222.909,390.367L221.318,390.897L221.318,397.085L222.202,402.741L222.202,411.58L222.909,413.701L226.091,412.287L227.86,411.58L229.274,414.055L232.632,412.287L235.46,411.757L238.643,414.585L241.825,416.0L244.831,416.707L246.293,417.815L245.361,419.358L242.355,422.009L240.587,424.484L239.35,426.075L237.759,426.252L236.875,428.021L237.052,430.672L233.516,429.611L230.334,426.606L226.445,426.429L225.56,428.727L225.03,431.732L228.036,433.676L228.92,435.62L230.511,438.979L234.046,439.509L237.936,437.388L239.88,434.382L243.769,431.024L245.184,431.554L247.659,434.029L252.078,437.919L256.144,439.863L260.74,441.1L261.094,444.813L262.685,451.707L263.923,456.834L263.216,458.955L267.458,457.541L270.64,454.89C 270.64,454.89 273.823,451.177 273.646,450.293C 273.469,449.409 276.828,445.874 276.828,445.874L280.186,442.691L283.899,441.807L290.086,441.1L293.799,438.802L297.864,434.382L300.515,430.14L303.874,428.372L306.702,426.781L310.06,423.952L313.773,425.896L320.371,422.446L321.552,426.604L322.259,432.791L322.613,438.448L320.315,441.806L317.132,445.872C 317.132,445.872 317.839,450.114 317.662,451.175C 317.485,452.236 317.662,455.595 317.662,455.595C 317.662,455.595 315.894,457.539 315.187,458.07C 314.48,458.601 311.475,458.6 311.475,458.6L310.237,460.191L310.414,463.727L312.536,466.732L312.713,470.09L310.944,473.273L310.944,480.697L314.303,483.703L314.126,486.531L315.54,492.895L314.465,495.771L310.236,498.728L307.408,501.38L309.529,505.976L307.761,509.159L305.817,512.871L301.928,518.528L297.155,522.947L291.145,528.781L285.665,533.2L278.492,537.536L272.7,541.685L272.03,542.35C 271.327,540.309 269.802,537.798 269.262,535.708C 269.074,534.98 269.085,533.963 268.986,533.218C 268.773,531.635 268.757,529.44 268.155,527.959C 267.506,526.358 265.841,524.659 264.835,523.255C 264.177,522.337 263.436,520.993 262.621,520.211C 262.189,519.796 261.356,519.553 260.961,519.104C 260.224,518.269 259.74,516.806 259.3,515.784C 258.916,514.89 258.362,513.696 258.194,512.739C 258.021,511.759 258.194,510.415 258.194,509.419C 258.194,508.672 258.302,507.667 258.194,506.928C 258.068,506.071 257.671,504.972 257.364,504.161C 256.943,503.049 256.218,501.635 255.703,500.563C 255.302,499.726 254.833,498.569 254.319,497.795C 253.896,497.157 253.072,496.502 252.659,495.857C 252.017,494.857 251.634,493.264 250.999,492.259C 250.306,491.162 249.196,489.805 248.231,488.938C 247.563,488.338 246.315,487.968 245.741,487.278C 245.336,486.792 245.156,485.924 244.91,485.34C 244.49,484.346 243.866,483.044 243.526,482.02C 243.311,481.37 243.31,480.402 242.973,479.806C 242.568,479.09 241.597,478.469 241.035,477.868C 240.432,477.223 239.645,476.347 239.097,475.654C 238.76,475.227 238.043,474.178 237.971,474.058L234.626,465.992L221.201,464.941L187.584,457.525L153.322,459.217L116.1,472.54L98.343,487.14L91.203,484.037L85.905,481.048L81.133,479.634L80.072,483.7L82.547,484.761L86.436,486.529L86.082,489.711L88.733,490.773",
          "type": "path"
         },
         {
          "fillcolor": "PaleTurquoise",
          "line": {
           "color": "LightSeaGreen"
          },
          "path": "M254.552,294.311L260.569,299.325L260.746,299.502L263.929,301.093L265.166,305.866L266.757,310.108L270.822,313.466L273.121,315.942L275.596,317.71L275.773,322.659L274.182,326.725L276.126,327.962L277.894,325.841L280.899,323.012L282.491,319.654L283.021,314.35L286.733,311.522L289.738,308.871L286.91,303.037L282.491,295.259L281.253,293.668L281.253,288.189L282.169,284.379L289.031,282.355L293.451,282.178L303.174,280.587L312.19,276.344L314.488,274.93L318.023,278.82L318.73,282.355L314.665,285.006L312.897,287.305L314.488,293.138L314.842,298.972L313.781,307.104L318.009,307.41C 317.978,307.399 318.837,308.851 319.362,309.336C 319.717,309.665 320.27,310.076 320.746,310.167C 321.242,310.261 321.914,309.776 322.406,309.89C 323.798,310.212 324.965,312.101 326.281,312.658C 327.135,313.019 328.416,313.399 329.325,313.212C 329.618,313.151 329.88,312.775 330.155,312.658C 330.859,312.357 331.886,312.011 332.645,312.104C 333.198,312.172 333.802,312.697 334.306,312.934C 335.045,313.284 336.017,314.288 336.796,314.041C 337.258,313.895 337.231,312.937 337.626,312.657C 338.318,312.17 339.548,312.063 340.394,312.103C 341.26,312.144 342.417,312.489 343.162,312.933C 343.969,313.415 345.016,314.28 345.376,315.147C 345.662,315.837 345.335,316.892 345.376,317.638C 345.418,318.389 345.327,319.45 345.652,320.128C 345.907,320.657 346.942,320.933 347.036,321.512C 347.096,321.879 346.705,322.322 346.483,322.619C 345.532,323.889 343.242,324.763 342.608,326.217L341.712,324.781L339.237,322.836L338.53,321.245L336.585,323.897C 336.585,323.897 335.878,325.488 335.701,326.195C 335.524,326.902 338.177,329.023 338.177,329.023L340.475,330.437L341.224,330.92C 340.509,331.54 339.791,332.61 339.287,333.411C 338.692,334.353 338.037,335.696 337.626,336.731C 337.307,337.537 337.147,338.706 336.796,339.499C 336.405,340.385 335.437,341.346 335.136,342.267C 334.851,343.139 334.951,344.399 334.859,345.311C 334.784,346.059 334.966,347.155 334.583,347.802C 334.066,348.673 332.333,348.867 331.815,349.739C 331.432,350.385 331.437,351.485 331.539,352.23C 331.72,353.559 332.532,355.217 333.199,356.38C 333.67,357.201 334.941,357.944 335.137,358.871C 335.279,359.541 334.867,360.462 334.583,361.085C 334.162,362.007 332.95,362.886 332.645,363.853C 332.396,364.645 332.224,365.905 332.645,366.621C 333.079,367.357 334.554,367.396 335.148,368.016L340.122,369.86L342.95,371.628L347.192,375.34L349.844,377.991L350.021,385.946L349.491,390.896L346.485,390.719L344.894,391.073L341.182,389.482L338.177,391.426L337.646,394.077L337.292,399.381L336.938,406.276L340.297,411.579L336.761,413.7L331.458,413.17L327.922,415.114L323.15,418.827L320.379,422.439L313.78,425.897L310.067,423.953L306.709,426.782L303.881,428.373L300.522,430.141L297.871,434.383L293.806,438.803L290.093,441.101L283.906,441.808L280.193,442.692L276.835,445.875C 276.835,445.875 273.477,449.41 273.653,450.294C 273.829,451.178 270.647,454.891 270.647,454.891L267.465,457.542L263.223,458.956L263.93,456.835L262.692,451.708L261.101,444.814L260.747,441.101L256.151,439.864L252.085,437.92L247.666,434.03L245.191,431.555L243.776,431.025L239.887,434.383L237.943,437.389L234.053,439.51L230.518,438.98L228.927,435.621L228.043,433.677L225.037,431.733L225.567,428.728L226.452,426.43L230.341,426.607L233.523,429.612L237.059,430.673L236.882,428.022L237.766,426.253L239.357,426.076L240.594,424.485L242.362,422.01L245.368,419.359L246.3,417.816L244.838,416.708L241.832,416.001L238.65,414.586L235.467,411.758L232.639,412.288L229.281,414.056L227.867,411.581L226.098,412.288L222.916,413.702L222.209,411.581L222.209,402.742L221.325,397.086L221.325,390.898L222.916,390.368L226.452,387.009L229.103,385.065L231.224,385.242L232.815,386.656L236.174,386.479L237.588,383.828L237.942,379.232L244.129,372.514L252.438,362.261L252.968,358.548L250.317,356.25L251.201,353.599L255.621,348.649L258.096,345.821L259.687,340.164L260.571,335.922L264.637,332.917L264.814,326.729L263.223,323.193L263.223,317.89L261.101,317.006L257.036,313.647L252.263,308.344L246.904,300.873ZM239.271,307.148L244.482,311.876L246.604,311.699L249.079,314.35L243.952,317.179L244.129,318.24L247.488,316.826L250.846,321.952L248.195,324.251L245.897,329.73L245.72,331.674L243.951,336.447L246.427,336.624L246.957,334.856L248.725,334.679L249.962,335.386L249.078,337.684L249.078,341.573L248.017,345.463L245.896,347.584L242.89,347.584L239.001,345.993L236.173,344.225L233.874,346.7L231.576,347.937L229.455,347.583L224.505,345.462L219.909,342.104L221.5,341.042L217.435,338.037L215.485,336.477L214.965,325.305ZM215.49,357.837L213.546,361.02L214.076,363.848L216.374,365.616L218.143,364.025L219.027,360.49L218.85,357.484ZM224.329,360.49L226.981,360.844L229.279,362.435L227.335,365.263L225.036,366.324L223.975,364.733ZM227.512,359.605L231.401,354.656L233.522,350.943L232.815,349.352L234.406,348.468L236.705,351.474L239.887,354.656L240.948,356.247L238.12,361.551L236.176,364.556L234.054,364.202L231.756,361.904Z",
          "type": "path"
         },
         {
          "fillcolor": "PaleTurquoise",
          "line": {
           "color": "LightSeaGreen"
          },
          "path": "M394.357,95.13L397.287,96.44L397.755,100.802L400.092,100.49L401.961,102.827L405.232,102.204L406.946,100.49L406.323,95.66L408.938,93.623L410.5,91.862L411.347,89.747L411.981,88.478L414.096,88.69L415.999,87.21L415.999,86.152L415.576,85.306L413.884,84.671L413.673,82.345L415.576,80.442L415.788,79.172L414.308,78.961L411.981,80.652L409.867,81.71L407.052,82.834L403.947,83.18L401.453,84.371L398.024,88.055L397.278,92.205Z",
          "type": "path"
         },
         {
          "fillcolor": "PaleTurquoise",
          "line": {
           "color": "LightSeaGreen"
          },
          "path": "M91.214,484.048L98.351,487.142L94.631,494.161L88.746,490.774L86.09,489.712L86.444,486.53L82.555,484.762L80.08,483.701L81.141,479.635L85.913,481.049ZM73.955,497.541L72.752,497.498L70.214,499.824L69.58,505.111L68.31,506.591L66.83,509.552L66.83,512.936L68.522,515.051L68.733,518.646L67.675,520.761L65.349,521.819L61.754,523.088C 61.754,523.088 59.216,523.3 57.946,523.723C 56.677,524.146 56.043,524.358 56.043,524.358L54.14,526.049L52.026,526.261L48.853,526.049L47.373,525.838L45.47,526.472L43.99,528.164L42.721,530.067L41.663,531.547L38.914,532.182L36.799,535.565L36.164,537.469L38.067,538.526L39.97,539.161L40.605,540.641L40.394,544.237L39.124,547.409L37.644,550.793L37.221,553.119L41.45,552.908L45.68,553.754L49.909,554.812L51.812,551.639L53.504,550.16L54.984,549.948L57.733,550.794L62.385,551.006L66.192,551.852L69.577,552.275L71.903,551.217L73.806,549.526L76.767,547.834L79.516,546.565L82.265,544.662L85.226,541.278L87.764,538.317L90.725,534.933L92.84,532.818L96.224,531.972L99.185,530.492L102.78,529.012L105.741,527.532L107.433,524.994L108.913,523.303L108.701,520.765L108.489,518.862L106.586,517.804L105.317,517.804L104.894,519.073L102.991,519.708L100.03,519.708L98.127,517.805L94.954,515.479L93.032,511.508L88.398,506.385L87.71,506.037L83.257,503.328L78.13,500.323Z",
          "type": "path"
         },
         {
          "fillcolor": "PaleTurquoise",
          "line": {
           "color": "LightSeaGreen"
          },
          "path": "M284.856,260.622C 284.856,260.622 283.252,260.958 282.549,261.054C 281.855,261.149 280.906,261.113 280.223,261.265C 279.498,261.427 278.569,261.796 277.897,262.112C 277.098,262.486 276.107,263.126 275.359,263.592C 274.583,264.076 273.529,264.703 272.821,265.283C 272.197,265.795 271.38,266.524 270.918,267.186C 270.398,267.931 270.043,269.117 269.649,269.936C 269.28,270.703 268.749,271.707 268.379,272.473C 267.985,273.292 267.11,275.223 267.11,275.2L272.297,280.037L254.551,294.302L246.879,300.86L239.277,307.143L214.965,325.429L212.485,317.533L209.834,315.589L209.127,308.341L205.944,306.397L207.358,302.331L205.06,296.852L201.878,298.089L196.574,303.038L190.034,307.281L186.321,312.053L178.543,314.174L172.887,316.826L163.695,322.836L147.262,325.168C 147.979,322.076 147.407,318.368 147.407,318.368L148.042,312.234L145.504,309.908L142.755,306.101L140.217,302.929L144.024,297.218L149.735,290.873L152.907,287.489L154.598,287.913L157.348,286.855L162.0,285.163L167.711,283.049L173.844,280.722L176.593,279.242L182.303,279.031L184.207,277.761L187.167,273.109L190.128,267.187L193.512,265.284L196.05,265.073L198.588,264.015L198.8,262.112L198.165,260.209L195.627,259.362L195.627,257.459L196.473,255.556L199.857,255.556L200.915,253.865L201.761,252.173L202.185,249.212L203.242,248.366L207.05,248.578L210.434,247.731L211.28,245.828L209.377,241.809L210.326,241.535C 210.93,241.155 211.758,240.656 212.263,240.151C 212.768,239.646 213.122,238.698 213.647,238.213C 214.002,237.885 214.56,237.494 215.031,237.383C 216.085,237.134 217.588,237.954 218.629,237.659C 219.716,237.351 220.746,236.091 221.673,235.445C 222.902,234.59 224.628,233.578 225.824,232.677C 226.954,231.827 228.37,230.577 229.422,229.633C 231.213,228.025 234.285,226.312 235.227,224.156L239.856,224.077L242.427,226.852L244.141,230.581L244.608,236.501L243.517,240.708L241.336,243.512L241.959,247.251L245.542,245.693L248.97,244.135L253.332,241.953L258.474,239.46L266.887,238.37L272.807,238.214L274.521,239.305L281.533,243.044L288.076,247.406L289.011,250.677L288.699,254.416L287.764,259.246Z",
          "type": "path"
         },
         {
          "fillcolor": "PaleTurquoise",
          "line": {
           "color": "LightSeaGreen"
          },
          "path": "M684.342,337.91L687.729,338.286L691.492,339.133L692.715,341.955L696.478,341.955L700.618,340.167L703.722,339.227L710.778,337.816L714.634,336.405L717.268,333.584L717.926,330.48L719.243,325.588C 719.243,325.588 721.125,322.014 721.219,321.637C 721.313,321.261 722.066,318.533 722.066,318.533L724.888,316.84L727.804,316.558L730.72,317.969L732.789,321.261L734.105,323.519L735.893,324.553L737.585,323.237L740.314,320.979L742.948,318.063L744.83,316.276L747.464,315.523L752.449,315.335L754.801,315.993L756.024,312.606L757.624,310.537L760.352,307.433L763.081,304.612L766.132,303.911L769.979,308.02L771.094,307.412L772.918,306.094L774.945,305.79L777.479,305.892L780.318,306.906L784.068,307.818L789.745,308.528L796.232,308.933L800.49,309.947L803.632,311.163L808.498,313.799L811.944,315.523L812.654,314.915L813.566,313.394L813.768,311.468L813.059,309.035L816.607,308.933L816.505,306.703L815.491,304.676L815.795,301.635L817.519,297.378L821.269,293.222L825.223,286.329L826.439,283.592L828.568,282.578L831.978,280.734C 831.371,279.82 830.226,278.851 829.591,277.951C 829.036,277.164 828.408,276.036 827.999,275.165C 827.131,273.317 826.497,270.634 825.61,268.796C 824.702,266.914 822.859,264.741 822.027,262.824C 821.681,262.026 821.713,260.762 821.287,260.07L823.997,261.365L827.586,261.216L828.782,259.87L829.978,257.926L833.716,258.075L836.408,260.019L837.305,261.813L840.146,262.113L843.884,260.916L845.231,259.72L846.876,258.973L850.615,259.87L854.353,260.318L857.792,258.972L865.867,260.766L871.55,264.056L878.729,265.252L884.113,265.851L889.496,268.542L893.086,272.132L896.974,273.926L900.563,274.823L906.844,271.832L907.443,275.122L908.938,277.814L909.835,281.104L908.04,283.497L906.246,289.777L907.142,292.171L907.442,296.657L907.142,298.75L908.638,300.246L912.825,302.34L918.807,306.228L922.396,308.322L929.874,307.425L934.061,311.911L937.95,312.51L943.931,316.099L946.922,322.08L949.315,324.772L953.801,324.473L956.194,328.66L967.56,329.259L972.644,327.165L976.832,323.276L980.72,321.183L987.899,321.482L988.198,311.013L989.693,308.023L990.292,304.134L992.386,302.04L994.779,303.536L998.069,304.134L1003.154,304.134L1006.144,302.04L1006.444,298.451L1005.845,295.76L1007.939,295.46L1010.332,291.871L1012.127,287.086L1013.023,282.301L1017.211,280.506L1021.697,279.31L1023.791,279.909L1029.474,286.189L1029.578,290.354C 1030.058,290.629 1031.006,290.385 1031.636,290.629C 1032.916,291.128 1033.749,293.185 1035.013,293.726C 1036.181,294.225 1038.028,293.618 1039.236,294.007C 1039.994,294.252 1040.896,294.881 1041.488,295.414C 1042.203,296.06 1043.049,297.077 1043.458,297.948C 1043.79,298.652 1043.86,299.719 1044.021,300.481C 1044.199,301.324 1044.584,303.295 1044.584,303.295L1044.76,303.533C 1044.76,303.533 1044.372,304.54 1044.021,304.984C 1043.612,305.501 1042.742,305.874 1042.333,306.391C 1041.746,307.131 1041.312,308.344 1040.925,309.205C 1040.553,310.035 1040.079,311.154 1039.799,312.019C 1039.478,313.013 1039.147,314.371 1038.955,315.397C 1038.83,316.067 1038.929,317.018 1038.673,317.649L1039.794,320.133L1039.346,323.423L1039.945,325.366L1039.645,327.76L1038.749,331.648L1036.954,334.789L1035.907,337.78L1036.056,340.322L1034.411,342.565L1032.168,344.06L1030.373,345.706L1029.925,347.949L1030.523,351.388L1032.169,353.781L1034.112,356.922L1033.963,358.417L1030.973,360.063L1027.084,362.456L1024.542,364.699L1023.943,366.344L1024.84,368.587L1026.635,369.933L1027.382,372.176L1020.802,378.457L1019.456,380.103L1019.905,386.383L1021.101,388.029L1022.596,393.712L1023.493,396.853L1025.287,398.049L1028.129,397.6L1032.914,396.404L1037.551,398.199L1039.494,400.592L1042.784,404.181L1042.933,411.06L1042.037,416.294L1040.391,419.733L1039.344,423.471L1036.653,427.21L1033.961,426.91L1032.018,425.714L1028.428,424.817L1023.195,425.266L1020.353,424.369L1014.221,424.07L1011.38,425.117L1003.902,425.266L1003.304,423.322L1002.108,421.079L1000.761,418.089L997.92,416.443L993.732,416.144L992.087,415.545L990.292,413.9L990.591,411.208L992.984,409.265L992.835,405.826L992.387,404.18L990.293,401.489L989.246,398.647L988.798,397.301L986.106,397.152L985.209,399.096L985.209,400.143L984.313,401.788L982.817,401.788L980.275,400.741L978.032,400.592L974.742,401.489L973.845,403.583L971.303,404.33L969.657,405.976L965.769,407.172L964.722,407.77L962.031,407.172L958.741,407.77L957.245,411.06L957.993,415.846L955.002,417.192L952.759,419.136L951.863,422.276L947.226,427.061L946.628,429.753L946.628,434.389L946.329,438.127L945.432,439.773L943.637,443.212L944.385,449.044L945.132,451.437L944.385,453.831L944.085,458.167L946.329,461.457L948.123,464.896L950.067,465.345L952.908,466.691L955.151,466.392L959.189,465.943C 959.189,465.943 960.984,465.644 962.031,465.196C 963.078,464.747 965.47,463.85 965.47,463.85L966.217,465.793L967.264,468.036L969.956,471.027L970.703,473.27L970.105,474.616L966.216,477.607L963.375,478.803L961.58,480.448L961.431,481.047L960.587,484.6L959.529,488.619L958.26,492.638L958.895,496.022L961.009,500.463L963.97,504.482L966.508,506.596L969.469,510.403L971.372,513.787L973.487,517.594L969.891,521.402L965.45,527.112L963.547,527.535L960.163,527.323L956.356,526.266L952.972,526.477L951.28,528.803L950.222,530.073L948.953,528.593L946.838,527.113L947.05,523.306L947.685,518.019L946.627,514.212L941.974,511.039L936.476,508.713L934.784,507.655L935.207,503.426L935.207,500.253L933.727,498.35L933.516,494.121L934.996,493.486L934.573,488.834L930.765,485.238L928.862,482.489L926.959,479.739L924.845,477.836L922.307,479.106L919.558,480.586L915.962,479.739L912.578,480.586L909.617,482.066L907.714,483.123L905.176,484.181L898.831,484.181L894.812,485.451L893.121,488.623L890.583,490.315L888.257,491.795L885.931,492.218L881.278,489.892L877.894,487.777L874.51,489.892L873.03,492.218L872.607,498.14L872.819,501.312L871.761,504.273L869.858,505.753L868.378,505.118L864.359,504.272L859.918,505.963L855.266,507.233L852.093,507.656L849.556,506.81L844.692,506.598L841.308,504.695L835.174,501.734L832.002,498.562L829.253,494.755L828.406,492.005L826.715,487.141L823.965,485.238L820.37,482.912L816.986,481.009L817.832,478.048L818.255,473.184L815.506,467.474L814.448,463.878L814.448,459.226L814.871,455.842L816.563,451.401L817.62,445.691L817.409,442.095L815.506,439.557L810.642,439.134L808.95,440.614L806.201,443.786L805.778,446.959L804.086,449.497L803.663,450.555L800.914,449.92L799.222,448.017L795.415,444.844L795.415,442.095L795.204,439.134L791.608,437.865L785.475,438.711L780.399,439.557L775.747,441.46L772.574,444.844L772.786,448.44L773.42,453.727L772.363,456.053L768.979,458.168L766.652,460.283L766.864,465.146L774.266,471.703L774.266,480.797L774.9,486.719L776.803,490.103L777.227,496.66L774.689,501.735L770.67,509.983L766.651,514.847L766.228,522.037L766.017,524.364L763.902,525.421L760.729,527.959L760.306,530.285L758.403,533.246L756.923,534.516L754.597,538.534L753.962,541.918L753.751,544.668L748.712,545.56L744.833,541.857L740.693,536.025L737.119,532.638L732.227,529.064L731.474,525.3L732.227,520.221L730.345,515.141L727.335,510.062L726.018,506.487L727.711,503.477L729.404,498.585L729.216,493.317L730.344,490.307L732.602,488.425L734.671,485.038L733.542,479.206L733.73,474.879L735.235,470.928L735.799,467.918L732.977,464.531L732.225,461.145L734.106,457.382L734.577,452.113L731.285,448.445L727.805,447.316L725.641,447.128L722.349,443.836L719.903,440.167L717.175,433.959L716.799,428.973L717.646,421.731L719.809,420.131L722.819,416.933L722.255,414.864L721.221,414.3L717.364,413.36L714.26,409.315L712.378,407.433L707.863,408.75L704.1,408.373L703.536,406.021L703.159,402.823L702.689,398.12L702.125,394.922L701.467,395.674L699.774,396.898L693.847,397.368L690.555,400.002L689.426,402.448L691.402,406.493L692.249,408.186L692.154,410.82L689.615,413.265L686.886,415.147L684.158,416.37L680.301,417.028L676.445,418.063L674.469,418.063L672.964,417.216L669.201,420.038L665.814,419.474L662.522,417.592L660.264,416.369L655.655,415.522L652.081,416.275L648.467,416.111L644.343,414.249L640.418,413.366L641.733,407.15L638.346,402.071L635.525,398.308L635.525,392.099L637.97,388.712L639.851,387.583L637.782,383.068L637.406,380.81L639.099,377.236L641.921,375.543L647.0,375.355L650.387,371.781L654.526,369.523L656.031,364.443L656.595,361.809L659.982,361.433L661.864,364.631L665.438,364.819L668.26,362.185L669.2,357.858L672.398,354.66L673.903,350.333L672.587,345.441L674.656,343.748L677.478,342.431L680.299,342.055L684.391,337.893",
          "type": "path"
         },
         {
          "fillcolor": "PaleTurquoise",
          "line": {
           "color": "LightSeaGreen"
          },
          "path": "M861.615,151.858C 861.503,151.497 861.254,151.051 861.053,150.732C 860.539,149.917 859.787,148.854 859.082,148.198C 858.859,147.991 858.382,147.904 858.237,147.636C 857.959,147.115 858.173,146.253 858.237,145.665C 858.323,144.892 858.74,143.908 858.8,143.132C 858.905,141.782 858.777,139.957 858.519,138.628C 858.213,137.056 856.746,135.162 856.83,133.562C 856.884,132.543 858.296,131.485 858.237,130.466C 858.21,129.974 857.675,129.462 857.393,129.058C 857.084,128.615 856.729,127.932 856.267,127.651C 855.532,127.204 854.239,127.44 853.452,127.089C 852.681,126.744 851.868,125.917 851.201,125.4C 850.773,125.069 850.325,124.37 849.793,124.274C 849.53,124.227 849.199,124.464 848.949,124.556C 848.521,124.712 847.988,125.033 847.542,125.118C 847.459,125.134 847.345,125.118 847.26,125.118C 846.838,125.118 846.228,125.311 845.853,125.118C 845.207,124.786 844.858,123.746 844.446,123.147C 844.273,122.897 844.041,122.563 843.883,122.303C 843.336,121.397 842.828,120.054 842.195,119.206C 841.694,118.537 840.793,117.849 840.224,117.235C 839.696,116.664 838.905,115.951 838.536,115.265C 838.245,114.723 837.973,113.294 837.995,113.378L830.128,98.357L818.688,91.485L807.079,107.618L805.457,108.935L802.518,111.672L799.375,112.989L798.361,116.435L797.651,119.679L796.029,119.071L792.989,118.159L792.482,115.625L789.846,111.976L787.514,111.571L784.676,109.037L784.98,108.732L785.893,106.806L784.169,106.401L785.386,103.968L782.649,102.447L781.534,103.562L778.899,103.866L775.959,104.373L773.73,104.778L772.513,106.907L770.384,108.022L769.27,108.529L769.067,109.745L771.905,110.353L773.527,109.542L776.163,109.339L778.697,112.278L779.609,116.637L780.014,118.765L777.176,119.982L773.02,120.489L768.864,122.111L766.026,123.327L762.681,123.023L758.93,120.387L756.903,119.171L752.545,119.576L751.126,118.055L750.416,116.23L748.895,116.129L746.666,115.521L742.915,112.378L741.8,115.622L738.151,119.068L735.415,119.98L730.043,120.487L727.103,118.763L725.177,116.736L720.717,114.608L717.778,114.101L714.94,115.418L711.087,116.33L709.364,118.155L709.262,120.588L711.188,123.933L713.012,125.251L716.865,128.292L718.386,129.305L717.879,133.36L716.561,135.59L712.608,135.59L707.438,136.198L706.324,137.719L705.411,142.686L703.384,144.409L702.27,147.653L701.648,149.749L700.429,150.25L699.068,152.042L697.14,153.11L698.186,155.512L700.749,160.991L703.843,165.852L704.639,171.686L703.755,175.575L699.601,176.282L696.684,179.022L694.651,181.32L695.27,183.353L696.684,182.912L697.125,184.06L695.446,187.773L695.534,190.778L689.789,192.281L685.132,193.901L682.944,195.526L681.382,196.464L679.132,196.464L675.132,195.902L672.882,194.652L670.32,194.09L667.945,194.84L666.007,196.84L664.757,198.902L665.257,200.59L665.351,205.121L673.632,208.527L686.032,208.545L693.854,207.176L699.378,205.187L701.146,206.999L702.782,207.972L703.003,215.927L703.666,218.269L706.185,217.828L709.092,218.558C 709.622,220.52 712.052,222.271 713.563,223.632C 716.575,226.346 721.272,229.114 724.541,231.514C 725.222,232.013 726.074,232.758 726.793,233.202C 727.757,233.798 729.06,234.67 730.171,234.891C 731.333,235.121 732.81,234.077 733.953,233.763C 734.863,233.513 737.19,232.884 737.19,232.884L749.912,236.754L749.912,239.795L750.115,243.241L750.52,250.945L750.722,253.681L747.58,257.736L745.046,258.649L741.498,259.763L740.484,260.371L740.179,262.297L740.889,264.324L742.206,266.048L744.842,266.859L750.113,267.164L752.342,266.15L754.471,265.035L756.802,264.325L758.829,265.035L761.566,266.961L762.58,271.928L763.897,279.125L764.303,289.464L762.073,292.1L761.262,293.012L763.39,294.837L765.215,296.966L766.836,300.614L766.114,303.947L769.978,308.014L771.093,307.406L772.917,306.088L774.944,305.784L777.478,305.886L780.317,306.9L784.067,307.812L789.744,308.522L796.231,308.927L800.489,309.941L803.631,311.157L808.497,313.793L811.943,315.517L812.653,314.909L813.565,313.388L813.767,311.462L813.058,309.029L816.606,308.927L816.504,306.697L815.49,304.67L815.794,301.629L817.518,297.372L821.268,293.216L825.222,286.323L826.438,283.586L828.567,282.572L831.977,280.728C 831.37,279.814 830.225,278.845 829.59,277.945C 829.035,277.158 828.407,276.03 827.998,275.159C 827.13,273.311 826.496,270.628 825.609,268.79C 824.701,266.908 822.858,264.735 822.026,262.818C 821.68,262.02 821.712,260.756 821.237,260.029C 820.709,259.324 819.501,259.158 819.24,258.439C 819.014,257.819 819.3,256.826 819.676,256.284C 820.13,255.629 821.363,255.437 821.928,254.876C 822.709,254.101 823.253,252.672 823.899,251.78C 824.602,250.807 825.869,249.743 826.432,248.683C 826.846,247.905 827.054,246.721 827.276,245.869C 827.473,245.115 827.755,244.109 827.839,243.336C 827.941,242.412 827.997,241.154 827.839,240.239C 827.625,239.002 826.876,237.472 826.432,236.299C 826.11,235.448 825.627,234.334 825.306,233.484C 824.862,232.31 824.373,230.706 823.899,229.544C 823.442,228.425 822.552,227.044 822.21,225.885C 822.041,225.313 822.044,224.5 821.929,223.914C 821.728,222.89 821.314,221.556 821.084,220.536C 820.896,219.696 820.677,218.568 820.522,217.722C 820.336,216.711 820.083,215.364 819.959,214.344C 819.826,213.251 819.567,211.781 819.678,210.685C 819.74,210.074 819.959,209.261 820.24,208.714C 820.736,207.753 821.844,206.765 822.492,205.9C 823.11,205.075 823.868,203.927 824.463,203.086C 825.302,201.899 826.51,200.378 827.277,199.145C 827.937,198.087 828.877,196.676 829.248,195.486C 829.476,194.757 829.453,193.714 829.529,192.953C 829.623,192.025 829.468,190.724 829.811,189.857C 830.164,188.961 831.019,187.912 831.781,187.323C 832.291,186.93 833.219,186.84 833.752,186.479C 834.444,186.01 835.291,185.224 835.723,184.508C 836.315,183.524 836.522,181.95 836.848,180.849C 837.024,180.259 837.124,179.422 837.411,178.878C 837.72,178.295 838.273,177.562 838.818,177.19C 839.259,176.889 840.059,176.918 840.507,176.627C 841.66,175.88 842.879,174.418 843.603,173.25C 844.222,172.25 844.501,170.65 845.01,169.59C 845.518,168.533 846.453,167.261 846.981,166.213C 847.559,165.064 848.044,163.396 848.669,162.272C 849.171,161.372 850.088,160.328 850.64,159.458C 851.004,158.883 851.445,158.088 851.766,157.487C 852.122,156.821 852.213,155.567 852.892,155.235C 853.279,155.047 853.871,155.474 854.299,155.517C 855.308,155.617 856.666,155.588 857.677,155.517C 858.273,155.474 859.086,155.44 859.648,155.235C 860.396,154.962 861.564,154.55 861.9,153.828C 862.148,153.286 861.793,152.427 861.615,151.858ZM807.683,111.774L809.407,108.632L811.637,107.01L814.07,107.922L816.908,110.152L816.503,111.773L814.982,114.916L812.245,117.045L809.711,116.538L807.583,114.713ZM843.008,138.34L841.192,139.871L837.571,141.19L835.001,143.218L831.001,144.093L829.251,145.968L827.668,146.961L824.929,146.588L822.366,146.323L819.627,146.234L818.563,146.927L817.377,150.092L815.752,154.217L815.752,156.467L817.002,158.967L817.418,161.266L818.301,165.591L818.213,170.452L816.887,177.788L814.766,183.445L811.142,188.306L804.867,194.405L802.038,196.526L797.619,199.089L796.116,199.973L792.669,199.884L789.752,198.736L783.577,194.924L780.878,197.091L776.753,194.966L771.753,191.716L769.253,189.716L766.878,191.216L763.878,191.716L760.503,191.216L757.503,189.716L754.378,187.841L757.128,181.966L755.253,181.091L754.128,175.716L754.503,173.091L757.753,170.466L759.253,168.966L756.253,166.466L753.878,168.216L753.128,167.591L753.128,165.091L750.878,162.716L750.753,161.091L753.378,159.716L756.003,156.966L756.628,153.966L756.878,152.091L759.878,150.091L762.628,147.341L766.878,146.591L772.253,146.216L777.628,144.841L781.128,142.341L785.628,141.591L790.128,141.716L791.753,141.716L796.753,140.841L800.503,139.091L802.878,139.091L804.253,134.466L808.628,133.591L813.378,132.216L818.378,129.966L821.628,126.341L824.378,123.716L827.878,123.841L831.128,126.216L835.253,128.466L839.753,129.966L844.753,132.716L846.878,133.966Z",
          "type": "path"
         },
         {
          "fillcolor": "PaleTurquoise",
          "line": {
           "color": "LightSeaGreen"
          },
          "path": "M695.696,303.747L686.512,308.87L680.678,310.638L679.176,311.787L678.115,313.731L676.523,314.968L675.816,306.659L672.988,308.427L672.015,306.218L672.9,302.947L673.254,299.853L672.016,297.82L668.834,296.848L666.359,297.202L665.21,298.086L663.266,299.588L661.852,299.765L659.819,297.821L658.671,297.38L655.047,298.441L652.484,299.855L649.213,303.037L647.18,303.833L644.705,305.07L643.202,302.419L643.556,300.032L642.672,292.961L636.839,294.464L634.01,294.905L632.439,294.719L629.251,293.531L624.376,293.906L623.876,288.094L623.501,282.719L621.376,279.469L619.003,280.27L611.824,282.973L604.135,284.21L594.943,281.381L594.434,278.826L596.204,277.948L599.472,278.383L600.752,277.972L601.849,276.875L601.665,270.203L600.111,269.426L598.512,268.466L596.866,266.639L593.895,263.988L592.308,261.976L590.627,261.524L589.205,261.847L586.62,261.976L583.567,261.337L579.546,260.423L577.261,258.869L576.804,258.229L578.266,256.675L579.637,255.121L580.643,252.653L580.734,251.923L584.298,248.632L588.229,243.696L589.965,242.417L591.877,241.142L594.44,239.872L597.284,238.321L598.964,237.933L600.386,242.844L601.291,245.041L602.971,245.687L606.978,247.238L609.434,246.204L612.407,245.946L616.026,245.816L616.801,249.177L619.516,249.306L622.101,248.013L624.169,246.462L626.495,245.687L627.917,244.783L631.407,245.687L634.251,246.204L635.414,245.429L635.543,244.137L635.802,241.422L637.094,239.742L639.033,238.32L640.325,236.123L641.101,231.986L643.039,227.204L642.78,225.911L641.996,223.208L641.53,221.561L640.374,219.123L640.562,217.217L642.624,215.717L644.749,213.092L646.187,210.404L646.937,208.842L649.187,208.592L658.669,205.454L665.382,205.1L673.624,208.53L686.024,208.548L693.846,207.179L699.37,205.19L701.138,207.002L702.774,207.975L702.995,215.93L703.658,218.272L706.177,217.831L709.119,218.555L708.255,220.306L701.184,235.686L703.305,237.896L704.101,240.812L703.482,242.404L701.891,243.199L699.77,245.055L699.416,246.558L700.831,247.795L702.686,248.149L704.189,248.59L701.979,254.601L699.187,259.72L694.875,263.658L692.25,263.47L690.312,263.095L688.437,263.283L688.749,268.158L687.311,269.283L688.561,270.971L689.999,272.346L691.437,274.908L692.062,276.096L693.0,275.784L693.438,277.096L695.626,279.658L696.938,280.908L695.688,282.533L696.626,284.033L699.064,287.221L702.189,289.971L703.925,291.106L701.981,292.698L700.833,294.553L700.656,296.144L700.921,297.47L701.54,299.061L702.247,299.768L699.772,300.83L698.976,302.155Z",
          "type": "path"
         },
         {
          "fillcolor": "PaleTurquoise",
          "line": {
           "color": "LightSeaGreen"
          },
          "path": "M783.594,195.0L782.75,190.219L780.875,185.594L778.5,183.594L776.375,179.344L777.5,172.969L778.25,167.094L781.375,163.594L785.5,159.969L787.25,157.219L786.125,155.719L784.625,152.094L787.125,151.344L790.625,150.594L794.5,152.219L800.75,154.719L805.875,156.969L807.875,160.969L810.625,162.219L814.0,162.094L817.404,161.306L818.299,165.593L818.211,170.454L816.885,177.79L814.764,183.447L811.14,188.308L804.865,194.407L802.036,196.528L797.617,199.091L796.114,199.975L792.667,199.886L789.75,198.738ZM843.016,138.344L840.032,135.813L836.626,133.157L833.782,132.063L829.97,133.157L830.251,136.345L833.001,138.283L835.22,139.814L837.613,141.194L841.193,139.873ZM827.683,146.915L827.469,144.125L832.25,141.594L830.188,139.813L828.032,136.469L826.938,134.469L825.313,135.125L822.5,136.0L821.219,136.969L820.031,138.531L822.781,140.469L821.687,141.907L819.312,143.126L817.75,145.095L818.547,146.973L819.625,146.237L822.364,146.326L824.927,146.591Z",
          "type": "path"
         },
         {
          "fillcolor": "PaleTurquoise",
          "line": {
           "color": "LightSeaGreen"
          },
          "path": "M843.008,138.348L840.031,135.813L836.625,133.157L833.781,132.063L829.969,133.157L830.25,136.345L833.0,138.283L835.219,139.814L837.615,141.187L835.0,143.219L831.0,144.094L829.25,145.969L827.672,146.922L827.469,144.125L832.25,141.594L830.188,139.813L828.032,136.469L826.938,134.469L825.313,135.125L822.5,136.0L821.219,136.969L820.031,138.531L822.781,140.469L821.687,141.907L819.312,143.126L817.75,145.095L818.545,146.958L817.375,150.095L815.75,154.22L815.75,156.47L817.0,158.97L817.405,161.313L814.0,162.094L810.625,162.219L807.875,160.969L805.875,156.969L800.75,154.719L794.5,152.219L790.625,150.594L787.125,151.344L784.625,152.094L786.125,155.719L787.25,157.219L785.5,159.969L781.375,163.594L778.25,167.094L777.5,172.969L776.375,179.344L778.5,183.594L780.875,185.594L782.75,190.219L783.605,194.99L780.875,197.094L776.75,194.969L771.75,191.719L769.25,189.719L766.875,191.219L763.875,191.719L760.5,191.219L757.5,189.719L754.375,187.844L757.125,181.969L755.25,181.094L754.125,175.719L754.5,173.094L757.75,170.469L759.25,168.969L756.25,166.469L753.875,168.219L753.125,167.594L753.125,165.094L750.875,162.719L750.75,161.094L753.375,159.719L756.0,156.969L756.625,153.969L756.875,152.094L759.875,150.094L762.625,147.344L766.875,146.594L772.25,146.219L777.625,144.844L781.125,142.344L785.625,141.594L790.125,141.719L791.75,141.719L796.75,140.844L800.5,139.094L802.875,139.094L804.25,134.469L808.625,133.594L813.375,132.219L818.375,129.969L821.625,126.344L824.375,123.719L827.875,123.844L831.125,126.219L835.25,128.469L839.75,129.969L844.75,132.719L846.875,133.969Z",
          "type": "path"
         },
         {
          "fillcolor": "PaleTurquoise",
          "line": {
           "color": "LightSeaGreen"
          },
          "path": "M696.473,63.903C 696.473,63.903 695.017,64.664 694.133,64.88C 693.309,65.082 692.163,65.237 691.319,65.162C 690.707,65.106 689.909,64.85 689.348,64.599C 688.344,64.148 687.253,63.086 686.252,62.628C 685.45,62.262 684.277,62.05 683.437,61.784C 682.673,61.542 681.604,61.329 680.904,60.939C 680.328,60.618 679.719,59.958 679.216,59.532C 678.621,59.029 677.845,58.34 677.245,57.843C 676.829,57.498 676.266,57.048 675.838,56.717C 675.504,56.459 675.093,56.055 674.712,55.873C 674.083,55.573 673.155,55.352 672.46,55.31C 671.78,55.269 670.888,55.549 670.208,55.591C 669.365,55.644 668.23,55.703 667.394,55.591C 666.44,55.464 665.205,55.07 664.297,54.747C 663.514,54.468 662.47,54.06 661.764,53.621C 661.204,53.272 660.678,52.481 660.076,52.214C 659.53,51.971 658.689,52.057 658.105,51.932C 657.503,51.804 656.713,51.576 656.134,51.37C 655.529,51.154 654.765,50.754 654.164,50.525C 653.914,50.43 653.584,50.276 653.319,50.244C 652.226,50.109 650.755,50.405 649.66,50.525C 649.066,50.59 648.274,50.924 647.689,50.806C 647.207,50.709 646.746,50.126 646.282,49.962C 645.72,49.762 644.885,49.514 644.311,49.68C 643.564,49.898 643.007,50.966 642.341,51.369C 641.951,51.604 641.341,51.729 640.933,51.931C 640.493,52.15 640.015,52.836 639.508,52.748L637.456,55.549L637.015,57.405L638.517,60.763L640.375,63.656L642.187,64.656L644.187,65.781L648.562,66.656L652.75,66.781L655.688,64.906L657.25,63.281L658.25,62.531L659.25,61.031L659.812,59.969L660.374,60.157L664.249,60.595L664.249,61.533L666.749,62.783L669.811,63.908L672.623,64.72L673.311,65.595L669.061,73.345L665.123,78.783L663.154,77.533L663.279,76.721L658.591,75.971L656.0,76.125L654.844,77.125L654.625,78.969L655.001,80.386L655.852,82.894C 656.651,82.952 657.608,82.243 658.385,82.05C 658.884,81.926 659.561,81.748 660.074,81.769C 661.466,81.824 663.287,82.37 664.558,82.888L664.856,87.193L667.773,89.137L671.55,90.299L674.374,92.844L675.624,94.469L675.374,95.469L671.749,95.594L672.249,98.219L673.249,100.469L674.874,101.469L677.499,101.344L679.499,100.719L681.874,101.969L686.249,103.969L686.874,107.469L685.749,113.844L683.999,117.844L683.374,122.094L685.98,126.967L685.803,129.884L686.864,132.801L688.632,134.392L690.046,135.54L687.307,136.513L686.07,139.784L684.291,142.603C 685.896,142.845 687.982,143.534 689.466,144.196C 690.102,144.479 690.823,145.099 691.456,145.39C 692.485,145.863 694.025,146.078 695.039,146.584C 695.883,147.006 697.133,150.376 697.118,153.116L699.06,152.046L700.421,150.254L701.64,149.753L702.262,147.657L703.376,144.413L705.403,142.69L706.316,137.723L707.43,136.202L712.6,135.594L716.553,135.594L717.871,133.364L718.378,129.309L716.857,128.296L713.004,125.255L711.18,123.937L709.254,120.592L709.356,118.159L711.079,116.334L714.932,115.422L717.77,114.105L720.709,114.612L725.169,116.74L727.095,118.767L730.035,120.491L735.407,119.984L738.143,119.072L741.792,115.626L742.907,112.382L746.658,115.525L748.887,116.133L750.408,116.234L751.118,118.059L752.537,119.58L756.895,119.175L758.922,120.391L762.673,123.027L766.018,123.331L768.856,122.115L773.012,120.493L777.168,119.986L780.006,118.769L779.601,116.641L778.689,112.282L776.155,109.343L773.519,109.546L771.897,110.357L769.059,109.749L769.262,108.533L770.376,108.026L772.505,106.911L773.722,104.782L775.951,104.377L778.891,103.87L781.526,103.566L782.641,102.451L785.378,103.972L784.161,106.405L785.885,106.81L784.972,108.736L784.668,109.041L787.506,111.575L789.838,111.98L792.474,115.629L792.981,118.163L796.021,119.075L797.643,119.683L798.353,116.439L799.367,112.993L802.51,111.676L805.449,108.939L807.071,107.622L818.68,91.489L768.956,63.368L754.586,63.087L750.113,63.219L746.674,62.322L743.833,61.425L743.234,59.78L741.14,59.032L734.112,55.742L717.961,53.499L712.129,55.593ZM816.907,110.153L816.502,111.774L814.981,114.917L812.244,117.046L809.71,116.539L807.582,114.714L807.683,111.775L809.407,108.633L811.637,107.011L814.07,107.923Z",
          "type": "path"
         },
         {
          "fillcolor": "PaleTurquoise",
          "line": {
           "color": "LightSeaGreen"
          },
          "path": "M641.996,223.203L641.528,221.635L640.372,219.197L640.56,217.291L642.622,215.791L644.747,213.166L646.185,210.478L646.935,208.916L649.185,208.666L658.667,205.528L665.343,205.124L665.343,204.968L665.247,200.666L664.747,198.978L665.997,196.916L667.935,194.916L670.31,194.166L672.872,194.728L675.122,195.978L679.122,196.54L681.372,196.54L682.934,195.602L685.122,193.977L689.779,192.357L695.524,190.854L695.436,187.849L697.115,184.136L696.674,182.988L695.26,183.429L694.641,181.396L696.674,179.098L699.591,176.358L703.745,175.651L704.629,171.762L703.833,165.928L700.739,161.067L698.176,155.588L697.122,153.181C 697.13,150.448 695.88,147.077 695.036,146.656C 694.022,146.149 692.482,145.934 691.453,145.462C 690.82,145.171 690.099,144.551 689.463,144.268C 687.98,143.606 685.894,142.917 684.288,142.675L686.067,139.856L687.304,136.585L690.043,135.612L688.629,134.464L686.861,132.873L685.8,129.956L685.977,127.039L683.371,122.166L683.996,117.916L685.746,113.916L686.871,107.541L686.246,104.041L681.871,102.041L679.496,100.791L677.496,101.416L674.871,101.541L673.246,100.541L672.246,98.291L671.746,95.666L675.371,95.541L675.621,94.541L674.371,92.916L671.547,90.371L667.77,89.209L664.853,87.265L664.555,82.96C 663.284,82.441 661.462,81.896 660.071,81.841C 659.557,81.82 658.881,81.998 658.382,82.122C 657.605,82.314 656.648,83.023 655.849,82.966L654.998,80.458L654.622,79.041L654.841,77.197L655.997,76.197L658.591,76.041L663.279,76.791L663.154,77.603L665.123,78.853L669.061,73.415L673.311,65.665L672.623,64.79L669.811,63.978L666.749,62.853L664.249,61.603L664.249,60.665L660.374,60.227L659.812,60.039L659.25,61.101L658.25,62.601L657.25,63.351L655.688,64.976L652.75,66.851L648.562,66.726L644.187,65.851L642.187,64.726L640.375,63.726L638.517,60.833L637.015,57.475L637.456,55.619L639.526,52.846C 639.289,52.817 639.138,52.445 638.963,52.284C 638.476,51.839 637.785,51.294 637.274,50.876C 636.856,50.534 636.295,50.082 635.867,49.75C 635.533,49.492 635.127,49.078 634.741,48.906C 634.348,48.73 633.764,48.64 633.334,48.625C 632.653,48.6 631.756,48.808 631.082,48.906C 630.574,48.98 629.726,48.796 629.394,49.187C 629.23,49.38 629.41,49.779 629.394,50.032C 629.351,50.712 629.21,51.61 629.113,52.284C 629.039,52.792 629.041,53.504 628.831,53.972C 628.611,54.466 627.916,54.881 627.705,55.379C 627.44,56.006 627.392,56.951 627.424,57.631C 627.461,58.408 627.551,59.586 627.952,60.245C 628.33,60.727 629.325,61.013 629.676,61.571C 630.046,62.161 630.189,63.129 630.238,63.823C 630.3,64.67 630.383,65.904 629.957,66.638C 629.593,67.266 628.7,67.909 627.987,68.045C 627.644,68.109 627.195,67.86 626.861,67.764C 626.604,67.689 626.193,67.682 626.016,67.482C 625.731,67.16 625.845,66.491 625.735,66.075C 625.597,65.559 625.706,64.396 625.172,64.387C 624.451,64.373 624.506,65.94 624.327,66.639C 624.18,67.217 624.056,68.012 624.046,68.609C 624.034,69.374 624.142,70.401 624.327,71.142C 624.438,71.583 624.78,72.109 624.89,72.55C 625.076,73.291 625.167,74.319 625.171,75.083C 625.176,75.932 625.149,77.089 624.89,77.897C 624.683,78.545 624.177,79.327 623.764,79.868C 623.256,80.532 622.355,81.219 621.712,81.874C 620.988,82.728 619.827,83.877 619.26,84.935C 618.718,85.948 618.852,87.698 618.134,88.594C 617.709,89.125 616.473,89.114 616.164,89.72C 615.817,90.402 616.509,91.491 616.445,92.253C 616.393,92.866 616.164,93.678 615.882,94.224C 615.634,94.704 615.211,95.339 614.756,95.631C 614.463,95.819 613.939,96.074 613.63,95.912C 612.991,95.577 613.039,94.336 612.786,93.66C 612.532,92.985 612.332,92.015 611.941,91.409C 611.489,90.706 610.663,89.907 609.97,89.438C 609.438,89.078 608.597,88.834 608.0,88.593C 607.33,88.324 606.428,87.989 605.748,87.748C 604.992,87.481 604.005,87.032 603.215,86.904C 602.548,86.796 601.637,86.952 600.963,86.904C 600.367,86.861 599.548,86.402 599.016,86.619C 598.49,86.821 598.322,87.738 597.867,88.03C 596.695,88.782 594.715,88.818 593.363,89.156C 592.35,89.409 591.017,89.838 589.985,90.0C 588.731,90.197 587.033,90.31 585.763,90.282C 584.998,90.264 583.963,90.217 583.23,90.0C 582.686,89.84 582.058,89.388 581.528,89.146L580.223,91.204L580.869,91.947L580.611,95.825L578.284,101.77L574.148,105.906L570.788,108.75L570.788,112.887L568.978,116.247L566.91,122.71L568.72,128.139L570.271,129.431L570.659,131.112L571.177,133.956L572.081,138.997L572.34,139.901L574.537,140.935L578.156,143.003L578.802,146.105L578.027,147.915L571.952,155.153L572.34,157.35L579.191,160.969L578.617,163.555L579.09,171.324L580.8,173.403L582.17,174.524L584.892,175.025L586.867,172.227L587.824,172.673L586.063,175.691L584.301,178.877L581.925,181.528L579.549,182.625L576.263,183.282C 576.669,183.988 577.535,184.99 577.884,185.706C 578.318,186.595 578.705,187.862 579.01,188.803C 579.199,189.387 579.384,190.188 579.573,190.773C 579.878,191.713 580.483,192.905 580.699,193.87C 580.902,194.78 581.173,196.054 580.955,196.956C 580.93,196.946 581.155,197.479 581.262,197.81C 581.542,198.675 581.984,199.81 582.388,200.625C 582.826,201.507 583.617,202.568 584.077,203.439C 584.641,204.507 585.107,206.084 585.756,207.108L590.049,206.984L591.471,208.147L595.348,209.31L598.451,209.052L603.104,208.793L606.206,207.63L608.403,205.692L610.471,204.916L613.702,205.175L617.838,204.916L618.872,205.95L620.165,207.631L622.62,207.243L623.654,209.699L625.076,209.44L626.369,209.957L626.498,212.025L627.016,214.351L627.662,216.419L627.792,218.616L628.567,220.038L629.859,220.555L633.478,220.944L634.383,221.073L635.158,223.917L635.933,224.821L639.036,225.08L641.996,223.203",
          "type": "path"
         },
         {
          "fillcolor": "PaleTurquoise",
          "line": {
           "color": "LightSeaGreen"
          },
          "path": "M621.639,81.848C 620.834,82.739 619.827,83.807 619.259,84.865C 618.717,85.878 618.851,87.628 618.133,88.524C 617.708,89.055 616.472,89.044 616.163,89.65C 615.816,90.332 616.508,91.421 616.444,92.183C 616.392,92.796 616.163,93.608 615.881,94.154C 615.633,94.634 615.21,95.269 614.755,95.561C 614.462,95.749 613.938,96.004 613.629,95.842C 612.99,95.507 613.038,94.266 612.785,93.59C 612.531,92.915 612.331,91.945 611.94,91.339C 611.488,90.636 610.662,89.837 609.969,89.368C 609.437,89.008 608.596,88.764 607.999,88.523C 607.329,88.254 606.427,87.919 605.747,87.678C 604.991,87.411 604.004,86.962 603.214,86.834C 602.547,86.726 601.636,86.882 600.962,86.834C 600.366,86.791 599.547,86.332 599.015,86.549L599.57,84.248L596.821,84.671L593.86,83.825L592.802,82.555L593.437,80.229L593.86,78.326L594.918,76.0L597.244,74.52L599.147,73.462L601.896,71.982L605.281,70.291L608.03,70.079L609.51,71.348L611.624,72.828L613.528,73.463L615.642,74.521L616.7,76.212L617.335,77.904L616.488,79.384L617.335,80.653L619.238,81.499L620.718,81.711ZM638.762,52.031C 638.276,51.587 637.785,51.223 637.274,50.805C 636.856,50.463 636.295,50.011 635.867,49.679C 635.533,49.421 635.127,49.007 634.741,48.835C 634.348,48.659 633.764,48.569 633.334,48.554C 632.653,48.529 631.756,48.737 631.082,48.835C 630.574,48.909 629.726,48.725 629.394,49.116C 629.23,49.309 629.41,49.708 629.394,49.961C 629.351,50.641 629.21,51.539 629.113,52.213C 629.039,52.721 629.041,53.433 628.831,53.901C 628.611,54.395 627.916,54.81 627.705,55.308C 627.44,55.935 627.392,56.88 627.424,57.56C 627.461,58.337 627.535,59.515 627.945,60.174L626.538,58.657L625.692,57.811L624.106,56.86L622.626,56.331L621.568,56.648L620.088,57.388L617.339,57.283L613.849,57.178L612.263,57.601L611.84,58.447L610.446,59.176L609.549,60.223L607.904,60.822L607.305,62.916L607.904,63.812L607.604,64.261L601.174,64.112L597.884,64.859L597.136,65.906L596.688,66.654L595.641,66.355L595.341,65.308L595.641,63.812L595.341,61.719L594.294,61.12L591.752,61.12L588.611,61.12L586.966,59.625L585.022,58.129L583.227,57.681L583.527,55.288L584.873,52.596L585.172,50.802L584.275,47.96L585.471,45.567L587.714,43.473L589.808,41.529L591.603,39.735L592.799,37.641L593.397,35.398L594.444,33.005L595.341,30.762L596.987,28.967L598.632,27.472L600.576,25.976L602.969,24.78L605.661,24.182L607.604,24.182L609.25,23.733L611.044,22.537L612.839,21.641L615.53,22.239L617.474,22.09L618.82,20.744L618.521,18.8L617.923,17.154L616.876,16.258L617.175,14.314L618.82,13.866L621.662,13.866L625.101,14.762L626.746,15.51L630.036,16.856L629.588,18.502L629.439,19.997L629.588,22.091L630.036,24.035L630.933,26.428L632.429,27.774L634.522,28.222L635.419,27.175L636.766,24.633L635.569,20.445L635.27,18.352L635.569,16.856L637.663,18.651L639.607,20.445L641.253,21.941L642.449,23.137L642.897,24.333L642.897,26.128L642.598,29.118L642.897,30.314L644.841,30.165L645.588,29.118L647.532,28.221L649.476,28.072L652.018,29.268L652.915,31.96L652.018,32.707L650.373,35.101L649.476,37.344L649.924,39.587L651.868,41.232L653.214,43.176L652.915,45.27L651.27,45.569L649.774,45.27L648.578,43.774L647.531,43.027L644.69,42.727L642.596,42.877L640.652,43.176L639.755,44.073L638.708,45.568L639.007,47.213L638.559,49.157L638.26,50.803ZM686.254,62.625C 685.453,62.258 684.277,62.049 683.437,61.783C 682.673,61.541 681.604,61.328 680.904,60.938C 680.328,60.617 679.719,59.957 679.216,59.531C 678.621,59.028 677.845,58.339 677.245,57.842C 676.829,57.497 676.266,57.047 675.838,56.716C 675.504,56.458 675.093,56.054 674.712,55.872C 674.083,55.572 673.155,55.351 672.46,55.309C 671.78,55.268 670.888,55.548 670.208,55.59C 669.365,55.643 668.23,55.702 667.4,55.59L668.318,53.793L668.916,52.148L669.963,50.204L670.412,48.709L669.365,47.513L667.869,46.616L666.075,46.317L664.579,45.718L663.683,44.522L664.131,43.326L663.982,41.831L665.328,40.784L666.824,39.588L668.02,38.84L669.066,38.541L670.562,38.84L670.711,39.588L671.459,41.233L672.506,41.682L674.3,42.578L676.843,43.475L678.039,43.774L680.432,44.522L682.526,46.168L684.171,47.064L684.619,48.56L683.872,49.158L682.676,49.458L681.33,49.158L680.133,50.354L680.133,52.149L682.077,54.392L683.273,57.083L683.872,57.98L685.218,59.476L686.115,60.971Z",
          "type": "path"
         },
         {
          "fillcolor": "PaleTurquoise",
          "line": {
           "color": "LightSeaGreen"
          },
          "path": "M709.086,218.561C 709.649,220.515 712.045,222.274 713.556,223.635C 716.568,226.349 721.265,229.117 724.534,231.517C 725.215,232.016 726.067,232.761 726.786,233.205C 727.75,233.801 729.053,234.673 730.164,234.894C 731.326,235.124 732.803,234.08 733.946,233.766C 734.856,233.516 737.183,232.887 737.183,232.887L749.905,236.757L749.905,239.798L750.108,243.244L750.513,250.948L750.715,253.684L747.573,257.739L745.039,258.652L741.491,259.766L740.477,260.374L740.172,262.3L740.882,264.327L742.199,266.051L744.835,266.862L750.106,267.167L752.335,266.153L754.464,265.038L756.795,264.328L758.822,265.038L761.559,266.964L762.573,271.931L763.89,279.128L764.296,289.467L762.066,292.103L761.255,293.015L763.383,294.84L765.208,296.969L766.829,300.617L766.138,303.921L763.075,304.609L760.346,307.43L757.618,310.534L756.018,312.603L754.795,315.99L752.443,315.332L747.458,315.52L744.824,316.273L742.942,318.06L740.308,320.976L737.579,323.234L735.887,324.55L734.099,323.516L732.783,321.258L730.714,317.966L727.798,316.555L724.882,316.837L722.06,318.53C 722.06,318.53 721.307,321.258 721.213,321.634C 721.119,322.011 719.237,325.585 719.237,325.585L717.92,330.477L717.262,333.581L714.628,336.402L710.772,337.813L703.716,339.224L700.612,340.164L696.472,341.952L692.709,341.952L691.486,339.13L687.723,338.283L684.357,337.926L683.512,334.254L682.015,330.13L681.616,328.633L681.649,327.303L685.375,326.239L689.698,324.843L694.753,322.714L698.678,320.054L700.94,317.26L701.073,314.4L700.408,310.808L697.748,306.418L695.685,303.745L698.971,302.15L699.767,300.825L702.242,299.763L701.535,299.056L700.916,297.465L700.651,296.139L700.828,294.548L701.976,292.693L703.92,291.101L702.184,289.966L699.059,287.216L696.621,284.028L695.683,282.528L696.933,280.903L695.621,279.653L693.433,277.091L693.0,275.781L692.062,276.093L691.437,274.905L690.0,272.344L688.562,270.969L687.312,269.281L688.75,268.156L688.438,263.281L690.313,263.093L692.251,263.468L694.876,263.656L699.188,259.718L701.98,254.599L704.19,248.588L702.687,248.147L700.832,247.793L699.417,246.556L699.771,245.053L701.892,243.197L703.483,242.402L704.102,240.81L703.306,237.894L701.185,235.684L708.256,220.304Z",
          "type": "path"
         },
         {
          "fillcolor": "PaleTurquoise",
          "line": {
           "color": "LightSeaGreen"
          },
          "path": "M684.389,337.887L680.297,342.049L677.476,342.425L674.654,343.742L672.585,345.435L673.901,350.327L672.396,354.654L669.198,357.852L668.258,362.179L665.436,364.813L661.862,364.625L659.98,361.427L656.593,361.803L656.029,364.437L654.524,369.517L650.385,371.775L646.998,375.349L641.919,375.537L639.097,377.23L637.404,380.804L637.78,383.062L639.849,387.577L637.968,388.706L635.523,392.093L635.523,398.302L638.344,402.065L641.731,407.144L640.417,413.347L638.909,415.987L635.899,418.526L631.572,418.808L630.443,417.116L627.809,415.987L620.377,415.234L618.308,413.729L613.981,412.694L608.713,413.729L605.42,416.927L604.009,420.314L604.668,424.546L604.386,427.086L603.163,428.591L598.144,430.238L594.402,430.471L591.645,430.003L589.386,428.757L587.127,427.433L585.803,425.485L584.634,422.758L583.699,420.577L581.206,416.526L580.271,414.501L581.985,409.516L584.167,403.829L584.712,393.156L584.4,390.819L582.134,389.363L580.349,388.886L578.402,385.678L577.466,383.263L576.843,379.757L576.61,377.81L578.714,378.043L581.83,378.589L584.4,379.524L586.97,379.836L588.84,378.667L589.696,377.031L589.696,373.993L589.541,370.955L588.372,367.139L586.581,363.789L586.113,358.491L586.346,356.544L588.451,352.561L591.242,352.277L592.705,352.46L594.532,352.917L595.629,353.647L598.646,350.814L598.463,349.9L597.0,347.524L595.538,346.245L595.903,344.325L591.699,343.32L591.791,342.223L593.619,342.314L594.807,341.857L595.356,340.303L594.442,338.841L593.254,337.744L594.808,333.265L597.368,330.523L601.206,328.512L600.841,325.953L598.738,325.312L597.459,324.764L593.143,324.755L593.125,318.091L594.687,314.029L594.0,312.844L593.312,313.032L593.124,311.532L591.312,311.657L593.687,308.219L596.062,307.031L599.812,305.656L603.124,303.656L605.312,301.844L606.624,301.282L609.749,299.22L612.187,296.158L615.812,293.533L617.0,292.033L616.75,289.221L616.938,286.783L618.5,284.845L619.875,283.407L619.625,282.282L618.991,280.27L621.375,279.469L623.5,282.719L623.875,288.094L624.375,293.906L629.25,293.531L632.438,294.719L634.009,294.905L636.838,294.464L642.671,292.961L643.555,300.032L643.201,302.419L644.704,305.07L647.179,303.833L649.212,303.037L652.483,299.855L655.046,298.441L658.67,297.38L659.818,297.821L661.851,299.765L663.265,299.588L665.209,298.086L666.358,297.202L668.833,296.848L672.015,297.82L673.253,299.853L672.899,302.947L672.014,306.218L672.987,308.427L675.815,306.659L676.522,314.968L678.114,313.731L679.175,311.787L680.677,310.638L686.511,308.87L695.697,303.743L697.752,306.42L700.412,310.81L701.077,314.402L700.944,317.262L698.682,320.056L694.757,322.716L689.702,324.845L685.379,326.241L681.653,327.305L681.62,328.635L682.019,330.132L683.516,334.256L684.38,337.947",
          "type": "path"
         },
         {
          "fillcolor": "PaleTurquoise",
          "line": {
           "color": "LightSeaGreen"
          },
          "path": "M640.417,413.354L638.907,415.987L635.897,418.526L631.57,418.808L630.441,417.116L627.807,415.987L620.375,415.234L618.306,413.729L613.979,412.694L608.711,413.729L605.418,416.927L604.007,420.314L604.666,424.546L604.384,427.086L603.161,428.591L598.142,430.238L594.397,430.464L592.812,433.821L589.151,437.171L588.216,439.819L586.969,442.078L585.411,442.546L582.373,442.234L578.478,442.234L576.453,441.688L576.686,445.973L576.608,448.855L575.023,455.192L581.169,452.239L586.245,451.393L590.474,452.873L593.858,459.218L594.281,461.967L593.858,467.466L593.858,473.387L593.858,479.944L594.493,487.134L593.646,492.633L590.897,497.92L587.936,501.516L587.09,506.38L590.686,511.244L591.955,515.051L591.532,517.165L592.378,520.126L597.031,524.145L602.952,527.529L608.874,530.702L612.258,535.777L617.968,544.237L621.352,547.409L621.776,551.216L625.995,555.667L627.939,559.705L630.332,560.004L633.322,560.602L635.416,562.397L638.258,564.043L642.146,564.491L644.389,566.136L646.1,566.949L649.025,568.229L654.709,563.294L658.179,565.682L661.289,567.331L664.279,569.874L665.925,568.977L668.168,567.033L669.215,565.837L670.71,566.286L675.795,571.519L679.384,575.856L681.478,578.847L681.777,581.988L679.833,584.082L678.188,585.278L677.399,585.478L677.188,587.064L676.659,590.66L675.073,592.034L671.054,594.572L668.516,596.793L667.565,599.437L668.834,602.186L670.209,602.186L672.958,602.61L676.659,603.984L679.092,606.628L682.158,609.272L684.59,611.916L686.758,612.419L689.031,613.714L689.454,616.569L689.877,621.962L692.627,625.875L694.31,628.09L695.588,629.682L695.588,631.796L697.279,636.237L700.24,641.101L699.817,643.851L697.068,646.388L694.53,650.407L694.53,652.522L696.01,652.733L698.547,650.196L701.932,650.407L704.469,652.945L707.43,653.58L710.603,653.368L712.506,654.214L712.929,657.387L715.678,658.233L719.485,656.33L720.332,651.254L720.966,648.294L722.658,644.698L723.716,640.469L726.888,638.354L729.003,636.028L729.849,633.067L729.003,632.432C 729.003,632.432 726.677,629.471 725.83,628.413C 724.984,627.356 722.446,625.876 722.446,625.876L718.005,625.876L715.891,624.184L715.256,621.858L715.679,618.685L714.199,616.148L712.508,614.033L711.238,610.437L710.815,608.746L712.295,606.843L714.198,604.94L716.524,604.305L716.578,602.137L716.313,596.903L715.255,595.634L713.986,593.096L714.197,588.867L715.889,584.426L718.215,582.946L722.234,581.466L726.463,579.986L728.366,578.717L729.846,576.391L730.692,573.218L730.481,569.834L728.789,566.238L728.155,563.701L729.635,560.105L735.768,557.567L739.997,553.548L742.535,551.011L744.438,550.165L746.553,546.569L748.704,545.557L744.825,541.854L740.685,536.022L737.111,532.635L732.219,529.061L731.466,525.297L732.219,520.218L730.337,515.138L727.327,510.059L726.01,506.484L727.703,503.474L729.396,498.582L729.208,493.314L730.336,490.304L732.594,488.422L734.663,485.035L733.534,479.203L733.722,474.876L735.227,470.925L735.791,467.915L732.969,464.528L732.217,461.142L734.098,457.379L734.569,452.11L731.277,448.442L727.797,447.313L725.633,447.125L722.341,443.833L719.895,440.164L717.167,433.956L716.791,428.97L717.638,421.728L719.801,420.128L722.811,416.93L722.247,414.861L721.213,414.297L717.356,413.357L714.252,409.312L712.37,407.43L707.855,408.747L704.092,408.37L703.528,406.018L703.151,402.82L702.681,398.117L702.117,394.919L701.459,395.671L699.766,396.895L693.839,397.365L690.547,399.999L689.418,402.445L691.394,406.49L692.241,408.183L692.146,410.817L689.607,413.262L686.878,415.144L684.15,416.367L680.293,417.025L676.437,418.06L674.461,418.06L672.956,417.213L669.193,420.035L665.806,419.471L662.514,417.589L660.256,416.366L655.647,415.519L652.073,416.272L648.459,416.108L644.335,414.246ZM706.584,607.156L707.642,608.213L708.7,608.002L709.546,606.944L710.392,605.675L710.181,604.088L709.334,603.772L707.643,605.463Z",
          "type": "path"
         }
        ],
        "template": {
         "data": {
          "bar": [
           {
            "error_x": {
             "color": "#2a3f5f"
            },
            "error_y": {
             "color": "#2a3f5f"
            },
            "marker": {
             "line": {
              "color": "#E5ECF6",
              "width": 0.5
             }
            },
            "type": "bar"
           }
          ],
          "barpolar": [
           {
            "marker": {
             "line": {
              "color": "#E5ECF6",
              "width": 0.5
             }
            },
            "type": "barpolar"
           }
          ],
          "carpet": [
           {
            "aaxis": {
             "endlinecolor": "#2a3f5f",
             "gridcolor": "white",
             "linecolor": "white",
             "minorgridcolor": "white",
             "startlinecolor": "#2a3f5f"
            },
            "baxis": {
             "endlinecolor": "#2a3f5f",
             "gridcolor": "white",
             "linecolor": "white",
             "minorgridcolor": "white",
             "startlinecolor": "#2a3f5f"
            },
            "type": "carpet"
           }
          ],
          "choropleth": [
           {
            "colorbar": {
             "outlinewidth": 0,
             "ticks": ""
            },
            "type": "choropleth"
           }
          ],
          "contour": [
           {
            "colorbar": {
             "outlinewidth": 0,
             "ticks": ""
            },
            "colorscale": [
             [
              0,
              "#0d0887"
             ],
             [
              0.1111111111111111,
              "#46039f"
             ],
             [
              0.2222222222222222,
              "#7201a8"
             ],
             [
              0.3333333333333333,
              "#9c179e"
             ],
             [
              0.4444444444444444,
              "#bd3786"
             ],
             [
              0.5555555555555556,
              "#d8576b"
             ],
             [
              0.6666666666666666,
              "#ed7953"
             ],
             [
              0.7777777777777778,
              "#fb9f3a"
             ],
             [
              0.8888888888888888,
              "#fdca26"
             ],
             [
              1,
              "#f0f921"
             ]
            ],
            "type": "contour"
           }
          ],
          "contourcarpet": [
           {
            "colorbar": {
             "outlinewidth": 0,
             "ticks": ""
            },
            "type": "contourcarpet"
           }
          ],
          "heatmap": [
           {
            "colorbar": {
             "outlinewidth": 0,
             "ticks": ""
            },
            "colorscale": [
             [
              0,
              "#0d0887"
             ],
             [
              0.1111111111111111,
              "#46039f"
             ],
             [
              0.2222222222222222,
              "#7201a8"
             ],
             [
              0.3333333333333333,
              "#9c179e"
             ],
             [
              0.4444444444444444,
              "#bd3786"
             ],
             [
              0.5555555555555556,
              "#d8576b"
             ],
             [
              0.6666666666666666,
              "#ed7953"
             ],
             [
              0.7777777777777778,
              "#fb9f3a"
             ],
             [
              0.8888888888888888,
              "#fdca26"
             ],
             [
              1,
              "#f0f921"
             ]
            ],
            "type": "heatmap"
           }
          ],
          "heatmapgl": [
           {
            "colorbar": {
             "outlinewidth": 0,
             "ticks": ""
            },
            "colorscale": [
             [
              0,
              "#0d0887"
             ],
             [
              0.1111111111111111,
              "#46039f"
             ],
             [
              0.2222222222222222,
              "#7201a8"
             ],
             [
              0.3333333333333333,
              "#9c179e"
             ],
             [
              0.4444444444444444,
              "#bd3786"
             ],
             [
              0.5555555555555556,
              "#d8576b"
             ],
             [
              0.6666666666666666,
              "#ed7953"
             ],
             [
              0.7777777777777778,
              "#fb9f3a"
             ],
             [
              0.8888888888888888,
              "#fdca26"
             ],
             [
              1,
              "#f0f921"
             ]
            ],
            "type": "heatmapgl"
           }
          ],
          "histogram": [
           {
            "marker": {
             "colorbar": {
              "outlinewidth": 0,
              "ticks": ""
             }
            },
            "type": "histogram"
           }
          ],
          "histogram2d": [
           {
            "colorbar": {
             "outlinewidth": 0,
             "ticks": ""
            },
            "colorscale": [
             [
              0,
              "#0d0887"
             ],
             [
              0.1111111111111111,
              "#46039f"
             ],
             [
              0.2222222222222222,
              "#7201a8"
             ],
             [
              0.3333333333333333,
              "#9c179e"
             ],
             [
              0.4444444444444444,
              "#bd3786"
             ],
             [
              0.5555555555555556,
              "#d8576b"
             ],
             [
              0.6666666666666666,
              "#ed7953"
             ],
             [
              0.7777777777777778,
              "#fb9f3a"
             ],
             [
              0.8888888888888888,
              "#fdca26"
             ],
             [
              1,
              "#f0f921"
             ]
            ],
            "type": "histogram2d"
           }
          ],
          "histogram2dcontour": [
           {
            "colorbar": {
             "outlinewidth": 0,
             "ticks": ""
            },
            "colorscale": [
             [
              0,
              "#0d0887"
             ],
             [
              0.1111111111111111,
              "#46039f"
             ],
             [
              0.2222222222222222,
              "#7201a8"
             ],
             [
              0.3333333333333333,
              "#9c179e"
             ],
             [
              0.4444444444444444,
              "#bd3786"
             ],
             [
              0.5555555555555556,
              "#d8576b"
             ],
             [
              0.6666666666666666,
              "#ed7953"
             ],
             [
              0.7777777777777778,
              "#fb9f3a"
             ],
             [
              0.8888888888888888,
              "#fdca26"
             ],
             [
              1,
              "#f0f921"
             ]
            ],
            "type": "histogram2dcontour"
           }
          ],
          "mesh3d": [
           {
            "colorbar": {
             "outlinewidth": 0,
             "ticks": ""
            },
            "type": "mesh3d"
           }
          ],
          "parcoords": [
           {
            "line": {
             "colorbar": {
              "outlinewidth": 0,
              "ticks": ""
             }
            },
            "type": "parcoords"
           }
          ],
          "pie": [
           {
            "automargin": true,
            "type": "pie"
           }
          ],
          "scatter": [
           {
            "marker": {
             "colorbar": {
              "outlinewidth": 0,
              "ticks": ""
             }
            },
            "type": "scatter"
           }
          ],
          "scatter3d": [
           {
            "line": {
             "colorbar": {
              "outlinewidth": 0,
              "ticks": ""
             }
            },
            "marker": {
             "colorbar": {
              "outlinewidth": 0,
              "ticks": ""
             }
            },
            "type": "scatter3d"
           }
          ],
          "scattercarpet": [
           {
            "marker": {
             "colorbar": {
              "outlinewidth": 0,
              "ticks": ""
             }
            },
            "type": "scattercarpet"
           }
          ],
          "scattergeo": [
           {
            "marker": {
             "colorbar": {
              "outlinewidth": 0,
              "ticks": ""
             }
            },
            "type": "scattergeo"
           }
          ],
          "scattergl": [
           {
            "marker": {
             "colorbar": {
              "outlinewidth": 0,
              "ticks": ""
             }
            },
            "type": "scattergl"
           }
          ],
          "scattermapbox": [
           {
            "marker": {
             "colorbar": {
              "outlinewidth": 0,
              "ticks": ""
             }
            },
            "type": "scattermapbox"
           }
          ],
          "scatterpolar": [
           {
            "marker": {
             "colorbar": {
              "outlinewidth": 0,
              "ticks": ""
             }
            },
            "type": "scatterpolar"
           }
          ],
          "scatterpolargl": [
           {
            "marker": {
             "colorbar": {
              "outlinewidth": 0,
              "ticks": ""
             }
            },
            "type": "scatterpolargl"
           }
          ],
          "scatterternary": [
           {
            "marker": {
             "colorbar": {
              "outlinewidth": 0,
              "ticks": ""
             }
            },
            "type": "scatterternary"
           }
          ],
          "surface": [
           {
            "colorbar": {
             "outlinewidth": 0,
             "ticks": ""
            },
            "colorscale": [
             [
              0,
              "#0d0887"
             ],
             [
              0.1111111111111111,
              "#46039f"
             ],
             [
              0.2222222222222222,
              "#7201a8"
             ],
             [
              0.3333333333333333,
              "#9c179e"
             ],
             [
              0.4444444444444444,
              "#bd3786"
             ],
             [
              0.5555555555555556,
              "#d8576b"
             ],
             [
              0.6666666666666666,
              "#ed7953"
             ],
             [
              0.7777777777777778,
              "#fb9f3a"
             ],
             [
              0.8888888888888888,
              "#fdca26"
             ],
             [
              1,
              "#f0f921"
             ]
            ],
            "type": "surface"
           }
          ],
          "table": [
           {
            "cells": {
             "fill": {
              "color": "#EBF0F8"
             },
             "line": {
              "color": "white"
             }
            },
            "header": {
             "fill": {
              "color": "#C8D4E3"
             },
             "line": {
              "color": "white"
             }
            },
            "type": "table"
           }
          ]
         },
         "layout": {
          "annotationdefaults": {
           "arrowcolor": "#2a3f5f",
           "arrowhead": 0,
           "arrowwidth": 1
          },
          "coloraxis": {
           "colorbar": {
            "outlinewidth": 0,
            "ticks": ""
           }
          },
          "colorscale": {
           "diverging": [
            [
             0,
             "#8e0152"
            ],
            [
             0.1,
             "#c51b7d"
            ],
            [
             0.2,
             "#de77ae"
            ],
            [
             0.3,
             "#f1b6da"
            ],
            [
             0.4,
             "#fde0ef"
            ],
            [
             0.5,
             "#f7f7f7"
            ],
            [
             0.6,
             "#e6f5d0"
            ],
            [
             0.7,
             "#b8e186"
            ],
            [
             0.8,
             "#7fbc41"
            ],
            [
             0.9,
             "#4d9221"
            ],
            [
             1,
             "#276419"
            ]
           ],
           "sequential": [
            [
             0,
             "#0d0887"
            ],
            [
             0.1111111111111111,
             "#46039f"
            ],
            [
             0.2222222222222222,
             "#7201a8"
            ],
            [
             0.3333333333333333,
             "#9c179e"
            ],
            [
             0.4444444444444444,
             "#bd3786"
            ],
            [
             0.5555555555555556,
             "#d8576b"
            ],
            [
             0.6666666666666666,
             "#ed7953"
            ],
            [
             0.7777777777777778,
             "#fb9f3a"
            ],
            [
             0.8888888888888888,
             "#fdca26"
            ],
            [
             1,
             "#f0f921"
            ]
           ],
           "sequentialminus": [
            [
             0,
             "#0d0887"
            ],
            [
             0.1111111111111111,
             "#46039f"
            ],
            [
             0.2222222222222222,
             "#7201a8"
            ],
            [
             0.3333333333333333,
             "#9c179e"
            ],
            [
             0.4444444444444444,
             "#bd3786"
            ],
            [
             0.5555555555555556,
             "#d8576b"
            ],
            [
             0.6666666666666666,
             "#ed7953"
            ],
            [
             0.7777777777777778,
             "#fb9f3a"
            ],
            [
             0.8888888888888888,
             "#fdca26"
            ],
            [
             1,
             "#f0f921"
            ]
           ]
          },
          "colorway": [
           "#636efa",
           "#EF553B",
           "#00cc96",
           "#ab63fa",
           "#FFA15A",
           "#19d3f3",
           "#FF6692",
           "#B6E880",
           "#FF97FF",
           "#FECB52"
          ],
          "font": {
           "color": "#2a3f5f"
          },
          "geo": {
           "bgcolor": "white",
           "lakecolor": "white",
           "landcolor": "#E5ECF6",
           "showlakes": true,
           "showland": true,
           "subunitcolor": "white"
          },
          "hoverlabel": {
           "align": "left"
          },
          "hovermode": "closest",
          "mapbox": {
           "style": "light"
          },
          "paper_bgcolor": "white",
          "plot_bgcolor": "#E5ECF6",
          "polar": {
           "angularaxis": {
            "gridcolor": "white",
            "linecolor": "white",
            "ticks": ""
           },
           "bgcolor": "#E5ECF6",
           "radialaxis": {
            "gridcolor": "white",
            "linecolor": "white",
            "ticks": ""
           }
          },
          "scene": {
           "xaxis": {
            "backgroundcolor": "#E5ECF6",
            "gridcolor": "white",
            "gridwidth": 2,
            "linecolor": "white",
            "showbackground": true,
            "ticks": "",
            "zerolinecolor": "white"
           },
           "yaxis": {
            "backgroundcolor": "#E5ECF6",
            "gridcolor": "white",
            "gridwidth": 2,
            "linecolor": "white",
            "showbackground": true,
            "ticks": "",
            "zerolinecolor": "white"
           },
           "zaxis": {
            "backgroundcolor": "#E5ECF6",
            "gridcolor": "white",
            "gridwidth": 2,
            "linecolor": "white",
            "showbackground": true,
            "ticks": "",
            "zerolinecolor": "white"
           }
          },
          "shapedefaults": {
           "line": {
            "color": "#2a3f5f"
           }
          },
          "ternary": {
           "aaxis": {
            "gridcolor": "white",
            "linecolor": "white",
            "ticks": ""
           },
           "baxis": {
            "gridcolor": "white",
            "linecolor": "white",
            "ticks": ""
           },
           "bgcolor": "#E5ECF6",
           "caxis": {
            "gridcolor": "white",
            "linecolor": "white",
            "ticks": ""
           }
          },
          "title": {
           "x": 0.05
          },
          "xaxis": {
           "automargin": true,
           "gridcolor": "white",
           "linecolor": "white",
           "ticks": "",
           "title": {
            "standoff": 15
           },
           "zerolinecolor": "white",
           "zerolinewidth": 2
          },
          "yaxis": {
           "automargin": true,
           "gridcolor": "white",
           "linecolor": "white",
           "ticks": "",
           "title": {
            "standoff": 15
           },
           "zerolinecolor": "white",
           "zerolinewidth": 2
          }
         }
        },
        "width": 990,
        "xaxis": {
         "range": [
          0,
          1100
         ],
         "showgrid": false,
         "showticklabels": false,
         "zeroline": false
        },
        "yaxis": {
         "range": [
          700,
          0
         ],
         "showgrid": false,
         "showticklabels": false,
         "zeroline": false
        }
       }
      },
      "text/html": [
       "<div>\n",
       "        \n",
       "        \n",
       "            <div id=\"7ee8dba3-b9df-4329-9bbc-44e267413984\" class=\"plotly-graph-div\" style=\"height:630px; width:990px;\"></div>\n",
       "            <script type=\"text/javascript\">\n",
       "                require([\"plotly\"], function(Plotly) {\n",
       "                    window.PLOTLYENV=window.PLOTLYENV || {};\n",
       "                    \n",
       "                if (document.getElementById(\"7ee8dba3-b9df-4329-9bbc-44e267413984\")) {\n",
       "                    Plotly.newPlot(\n",
       "                        '7ee8dba3-b9df-4329-9bbc-44e267413984',\n",
       "                        [],\n",
       "                        {\"height\": 630, \"plot_bgcolor\": \"rgba(0,0,0,0)\", \"shapes\": [{\"fillcolor\": \"PaleTurquoise\", \"line\": {\"color\": \"LightSeaGreen\"}, \"path\": \"M570.112,346.181L560.261,337.928L561.54,336.1L563.003,332.627L562.637,328.788L562.637,324.218L563.735,316.175L564.465,310.509L565.562,303.745L563.369,303.38L560.627,304.477L557.52,303.014L555.509,302.101L554.595,299.359L554.23,297.713L555.509,295.52L558.069,290.584L557.886,288.208L553.682,286.745L546.553,285.283L539.488,287.461L533.758,289.67L531.93,288.208L527.726,288.573L522.608,292.777L524.984,297.895L521.877,300.455L519.318,303.38L517.855,306.853L515.662,311.241L513.834,310.692L514.2,308.133L511.275,306.305L509.812,308.316L506.887,311.606L505.242,313.068L504.693,320.197L503.963,322.574L502.5,325.499L500.124,327.326L498.844,330.251L498.844,332.993L503.414,340.122L503.779,341.768L500.672,344.509L499.181,347.436L501.206,347.744L508.996,348.835L511.8,349.614L518.811,355.222L525.043,357.404L530.496,355.066L533.456,354.131L539.064,353.976L542.492,353.353L547.166,355.222L551.996,358.338L558.384,353.664L561.812,350.548L565.434,349.028L569.407,347.314ZM593.147,324.78L597.459,324.767L598.738,325.315L600.841,325.956L601.206,328.515L597.368,330.526L594.808,333.268L593.254,337.747L594.442,338.844L595.356,340.306L594.807,341.86L593.619,342.317L591.791,342.226L591.699,343.323L595.903,344.328L595.538,346.248L597.0,347.527L598.463,349.903L598.646,350.817L595.629,353.65L594.532,352.92L592.705,352.463L591.242,352.28L588.448,352.571L582.762,349.848L578.672,353.08L577.208,351.174L580.349,348.578L580.995,347.156L580.995,345.993L579.831,344.7L578.28,343.925L575.825,342.115L574.403,339.53L572.722,337.333L571.817,334.748L571.042,330.352L570.784,326.475L570.525,323.115L571.429,321.434L573.11,321.434L574.532,322.597L574.661,323.502L573.239,324.148L573.369,325.182L575.179,325.828L576.73,325.569L578.927,324.277L580.737,322.08L583.968,325.311Z\", \"type\": \"path\"}, {\"fillcolor\": \"PaleTurquoise\", \"line\": {\"color\": \"LightSeaGreen\"}, \"path\": \"M593.144,324.772L593.125,318.094L594.687,314.032L594.0,312.844L593.312,313.032L593.124,311.532L591.312,311.657L593.687,308.219L596.062,307.031L599.812,305.656L603.124,303.656L605.312,301.844L606.624,301.282L609.749,299.22L612.187,296.158L615.812,293.533L617.0,292.033L616.75,289.221L616.938,286.783L618.5,284.845L619.875,283.407L619.625,282.282L618.994,280.277L611.823,282.973L604.134,284.21L594.942,281.381L594.432,278.812L592.589,277.488C 592.004,276.976 590.777,277.563 590.0,277.577C 589.115,277.593 587.937,277.539 587.053,277.577C 586.436,277.604 585.617,277.729 585.0,277.756C 584.277,277.787 583.306,277.852 582.589,277.755L579.705,278.392L576.216,278.392L575.828,274.126L573.372,274.256L571.045,275.548L567.943,278.522L564.97,277.358L562.773,278.78L561.739,277.746L559.671,278.005L555.664,277.876L549.848,275.679L546.745,277.359L543.514,276.842L537.44,279.686L539.482,287.468L546.552,285.285L553.681,286.747L557.885,288.21L558.068,290.586L555.508,295.522L554.229,297.715L554.594,299.361L555.508,302.103L557.519,303.016L560.626,304.479L563.368,303.382L565.561,303.747L564.464,310.511L563.734,316.177L562.636,324.22L562.636,328.79L563.002,332.629L561.539,336.102L560.26,337.93L570.108,346.186L575.831,349.809L577.217,351.179L580.352,348.578L580.998,347.156L580.998,345.993L579.834,344.7L578.283,343.925L575.828,342.115L574.406,339.53L572.725,337.333L571.82,334.748L571.045,330.352L570.787,326.475L570.528,323.115L571.432,321.434L573.113,321.434L574.535,322.597L574.664,323.502L573.242,324.148L573.372,325.182L575.182,325.828L576.733,325.569L578.93,324.277L580.74,322.08L583.971,325.311Z\", \"type\": \"path\"}, {\"fillcolor\": \"PaleTurquoise\", \"line\": {\"color\": \"LightSeaGreen\"}, \"path\": \"M641.996,223.203L639.033,225.009L635.93,224.75L635.155,223.846L634.38,221.002L633.475,220.873L629.856,220.484L628.564,219.967L627.789,218.545L627.659,216.348L627.013,214.28L626.495,211.954L626.366,209.886L625.073,209.369L623.651,209.628L622.617,207.172L620.162,207.56L618.869,205.879L617.835,204.845L613.699,205.104L610.468,204.845L608.4,205.621L606.203,207.559L603.101,208.722L598.448,208.981L595.345,209.239L591.468,208.076L590.046,206.913L585.753,207.037C 585.105,206.013 584.639,204.436 584.074,203.368C 583.613,202.497 582.822,201.435 582.385,200.554C 581.981,199.739 581.539,198.604 581.259,197.739C 581.153,197.408 580.982,196.894 580.98,196.894C 580.798,197.746 579.944,198.643 579.571,199.428C 579.18,200.249 578.422,201.333 578.445,202.242C 578.476,203.451 579.668,204.786 580.133,205.901C 580.411,206.567 580.821,207.449 580.978,208.153C 581.215,209.228 581.217,210.712 581.259,211.812C 581.305,212.994 581.087,214.583 581.259,215.752C 581.387,216.625 581.89,217.712 582.104,218.567C 582.312,219.402 582.387,220.567 582.666,221.381C 582.911,222.096 583.775,222.878 583.792,223.633C 583.812,224.464 582.893,225.366 582.666,226.166C 582.319,227.395 582.49,229.171 582.097,230.406L584.847,234.922L586.675,237.663L588.686,238.304L590.148,236.933L591.062,236.659L591.519,238.213L591.844,241.223L594.441,239.872L597.285,238.321L598.965,237.933L600.387,242.844L601.292,245.041L602.972,245.687L606.979,247.238L609.435,246.204L612.408,245.946L616.027,245.816L616.802,249.177L619.517,249.306L622.102,248.013L624.17,246.462L626.496,245.687L627.918,244.783L631.408,245.687L634.252,246.204L635.415,245.429L635.544,244.137L635.803,241.422L637.095,239.742L639.034,238.32L640.326,236.123L641.102,231.986L643.04,227.204L642.781,225.911Z\", \"type\": \"path\"}, {\"fillcolor\": \"PaleTurquoise\", \"line\": {\"color\": \"LightSeaGreen\"}, \"path\": \"M499.186,347.442L500.67,344.508L503.777,341.767L503.412,340.121L498.842,332.992L498.842,330.25L500.122,327.325L502.498,325.498L503.961,322.573L504.691,320.196L505.24,313.067L506.885,311.605L509.81,308.315L511.273,306.304L514.198,308.132L513.832,310.691L515.66,311.24L517.853,306.852L519.316,303.379L521.875,300.454L524.982,297.894L522.606,292.776L527.724,288.572L531.928,288.207L533.756,289.669L539.48,287.465L537.44,279.683L543.514,276.839L546.745,277.356L549.848,275.676L555.664,277.873L559.671,278.002L561.739,277.743L562.773,278.777L564.97,277.355L567.943,278.519L571.045,275.545L573.372,274.253L575.828,274.123L576.216,278.389L579.705,278.389L582.589,277.752C 583.306,277.849 584.277,277.784 585.0,277.753C 585.617,277.727 586.436,277.602 587.053,277.574C 587.937,277.536 589.115,277.59 590.0,277.574C 590.776,277.56 592.004,276.973 592.589,277.485L594.442,278.823L596.203,277.946L599.471,278.381L600.751,277.97L601.848,276.873L601.664,270.201L600.11,269.424L598.511,268.464L596.865,266.637L593.894,263.986L592.307,261.974L590.626,261.522L589.204,261.845L586.619,261.974L583.566,261.335L579.545,260.421L577.26,258.867L576.803,258.227L578.265,256.673L579.636,255.119L580.642,252.651L580.733,251.921L584.297,248.63L588.228,243.694L589.964,242.415L591.837,241.182L591.518,238.211L591.061,236.657L590.147,236.931L588.685,238.302L586.674,237.661L584.846,234.92L581.998,230.293L577.16,231.817L571.762,233.138L569.449,233.469L567.907,230.935L565.813,226.748L563.831,222.562L561.627,216.723L560.856,212.205L559.093,206.917L556.999,200.087L556.008,195.46L555.787,192.155L555.127,190.062L554.466,189.621L550.169,188.409L549.178,186.646L545.763,185.875L543.56,185.985L539.042,191.823L536.509,193.256L535.517,195.9L534.746,199.867L534.415,202.29L533.313,204.494L531.44,206.036L529.458,206.366L527.145,205.706L525.382,204.163L525.161,202.842L525.161,201.299L527.695,200.087L527.364,198.655L525.601,199.095L520.534,199.646L515.246,200.086L512.602,199.535L512.492,196.671L511.61,194.468L511.28,193.917L509.628,193.586L507.094,193.035L504.561,193.806L503.349,194.688L502.798,196.891L502.027,199.204L499.383,199.975L496.849,200.196L493.985,199.975L492.112,199.975L492.333,198.764L492.553,195.018L492.553,192.264L491.892,190.281L490.35,187.417L488.587,188.078L485.612,188.959L484.18,188.959L482.307,188.959L480.985,187.747L479.664,187.527L479.554,189.62L479.554,198.323L479.003,199.425L478.121,200.417L476.799,201.188L472.833,200.968L470.961,200.086L467.655,199.646L463.359,200.197L461.376,200.748L459.393,202.07L455.217,202.426L455.207,203.501L454.986,205.925L456.088,210.112L458.733,215.62L460.715,218.265L462.367,220.689L462.698,222.452L462.037,227.519L462.037,230.824L464.24,234.13L465.231,236.663L464.24,239.197L462.367,241.29L461.486,243.824L462.257,247.569L462.477,249.663L462.587,252.527L462.036,254.951L461.596,259.468L460.494,262.222L462.697,264.316L465.01,267.07L465.891,269.053L466.222,272.027L466.993,275.222L470.188,274.782L473.713,275.002L476.137,275.773L476.797,278.748L478.119,282.493L478.34,284.806L476.797,288.001L474.704,291.416L473.933,294.831L472.831,296.925L470.518,299.348L466.773,298.908L464.79,300.781L462.146,302.213L459.282,304.526L461.045,305.848L462.036,307.942L461.926,313.009L460.714,315.542L457.189,315.433L457.629,322.593L458.951,326.229L459.942,328.322L465.781,332.509L471.29,335.704L477.569,340.992L481.535,345.728L485.116,351.399L488.038,350.036L494.659,348.089Z\", \"type\": \"path\"}, {\"fillcolor\": \"PaleTurquoise\", \"line\": {\"color\": \"LightSeaGreen\"}, \"path\": \"M581.528,89.076L580.223,91.134L580.869,91.877L580.611,95.755L578.284,101.7L574.148,105.836L570.788,108.68L570.788,112.817L568.978,116.177L566.91,122.64L568.72,128.069L570.271,129.361L570.659,131.042L571.177,133.886L572.081,138.927L572.34,139.831L574.537,140.865L578.156,142.933L578.802,146.035L578.027,147.845L571.952,155.083L572.34,157.28L579.191,160.899L578.617,163.485L579.09,171.254L580.8,173.333L582.17,174.454L584.892,174.955L586.867,172.157L587.824,172.603L586.063,175.621L584.301,178.807L581.925,181.458L579.549,182.555L576.263,183.212C 576.669,183.918 577.535,184.92 577.884,185.636C 578.318,186.525 578.705,187.792 579.01,188.733C 579.199,189.317 579.384,190.118 579.573,190.703C 579.878,191.643 580.483,192.835 580.699,193.8C 580.902,194.71 581.173,195.984 580.98,196.896C 580.8,197.748 579.946,198.645 579.573,199.43C 579.182,200.251 578.424,201.335 578.447,202.244C 578.478,203.453 579.67,204.788 580.135,205.903C 580.413,206.569 580.823,207.451 580.98,208.155C 581.217,209.23 581.219,210.714 581.261,211.814C 581.307,212.996 581.089,214.585 581.261,215.754C 581.389,216.627 581.892,217.714 582.106,218.569C 582.314,219.404 582.389,220.569 582.668,221.383C 582.913,222.098 583.777,222.88 583.794,223.635C 583.814,224.466 582.895,225.368 582.668,226.168C 582.321,227.397 582.492,229.173 582.092,230.361L577.163,231.821L571.765,233.142L569.452,233.473L567.91,230.939L565.816,226.752L563.834,222.566L561.63,216.727L560.859,212.209L559.096,206.921L557.002,200.091L556.011,195.464L555.79,192.159L555.13,190.066L554.469,189.625L550.172,188.413L549.181,186.65L545.766,185.879L543.563,185.989L539.045,191.827L536.512,193.26L535.52,195.904L534.749,199.871L534.418,202.294L533.316,204.498L531.443,206.04L529.461,206.37L527.148,205.71L525.385,204.167L525.164,202.846L525.164,201.303L527.698,200.091L527.367,198.659L525.604,199.099L520.537,199.65L515.249,200.09L512.605,199.539L512.495,196.675L511.613,194.472L511.283,193.921L509.631,193.59L507.097,193.039L504.564,193.81L503.352,194.692L502.801,196.895L502.03,199.208L499.386,199.979L496.852,200.2L493.988,199.979L492.115,199.979L492.336,198.768L492.556,195.022L492.556,192.268L491.895,190.285L490.353,187.421L488.59,188.082L485.615,188.963L484.183,188.963L482.31,188.963L480.988,187.751L479.667,187.531L479.557,189.624L479.557,198.327L479.006,199.429L478.124,200.421L476.802,201.192L472.836,200.972L470.964,200.09L467.658,199.65L463.362,200.201L461.379,200.752L459.396,202.074L455.205,202.414L454.769,198.935L454.714,193.482L455.485,190.176L455.964,189.074C 456.792,188.779 457.539,187.696 458.101,186.976C 458.944,185.896 459.79,184.262 460.45,183.062C 460.829,182.372 461.163,181.353 461.624,180.713C 462.158,179.973 463.26,179.314 463.776,178.561C 464.103,178.084 464.211,177.261 464.559,176.8C 465.112,176.069 466.327,175.553 466.907,174.843C 467.456,174.172 468.158,173.157 468.277,172.299C 468.425,171.227 467.362,169.851 467.495,168.777C 467.575,168.126 468.188,167.412 468.383,166.765L470.247,168.087L472.175,169.629L474.544,170.566L477.573,171.227L483.412,171.723L487.213,171.998L488.865,171.723L490.132,171.227L491.344,169.464L492.336,165.993L494.264,160.54L496.137,156.739L498.065,152.222L497.625,150.074L494.87,147.43L492.502,147.044L490.685,146.218L488.647,145.006L485.397,143.243L483.524,141.426L485.948,139.993L485.838,137.404L485.122,134.375L483.524,133.935L482.808,131.566L482.752,129.803L480.604,129.583L479.53,129.39L476.803,127.6L476.252,124.075L476.473,121.762L473.609,121.432L471.185,121.322L469.312,120.22L466.889,117.025L465.786,112.949L462.702,107.441L460.168,104.026L458.075,101.381L457.083,100.169L455.431,99.067L453.889,98.957L452.456,99.839L451.685,101.271L451.134,103.695L450.583,105.678L449.812,108.102L447.609,110.195L445.296,111.847L441.881,112.068L441.66,109.755L441.99,108.212L441.33,107.001L439.787,106.23L436.537,103.366L433.673,101.879L430.754,100.832L430.461,99.199C 431.227,99.021 432.361,98.837 433.203,98.656C 434.305,98.419 435.788,98.148 436.863,97.811C 437.73,97.54 438.817,96.979 439.677,96.685C 440.84,96.288 442.472,96.005 443.617,95.559C 444.497,95.217 445.682,94.726 446.432,94.152C 447.239,93.534 448.162,92.492 448.684,91.619C 449.19,90.77 449.446,89.441 449.809,88.522C 450.046,87.924 450.293,87.084 450.654,86.552C 450.855,86.255 451.168,85.844 451.499,85.707C 451.889,85.545 452.495,85.609 452.906,85.707C 453.641,85.881 454.437,86.607 455.158,86.833C 455.728,87.011 456.531,87.121 457.129,87.114C 457.643,87.108 458.323,86.971 458.817,86.833C 459.255,86.71 459.817,86.472 460.224,86.27C 460.665,86.051 461.165,85.583 461.631,85.426C 462.356,85.181 463.401,85.123 464.165,85.144C 464.678,85.159 465.369,85.253 465.853,85.426C 466.495,85.654 467.342,86.071 467.824,86.552C 468.306,87.033 468.646,87.912 468.95,88.522C 469.236,89.098 469.548,89.898 469.794,90.493C 469.968,90.913 470.24,91.461 470.357,91.9C 470.511,92.477 470.513,93.287 470.638,93.871C 470.766,94.472 470.919,95.295 471.2,95.841C 471.448,96.321 471.892,96.927 472.326,97.249C 473.056,97.79 474.42,97.821 475.141,98.374C 475.476,98.631 475.589,99.353 475.985,99.5C 476.715,99.771 477.877,99.378 478.519,98.938C 479.021,98.594 479.298,97.75 479.645,97.25C 480.057,96.651 480.406,95.611 481.052,95.279C 481.728,94.931 482.825,95.248 483.585,95.279C 484.601,95.321 485.949,95.476 486.963,95.56C 487.976,95.645 489.361,95.567 490.341,95.841C 490.886,95.994 491.487,96.522 492.029,96.686C 492.68,96.883 493.601,96.925 494.281,96.967C 495.377,97.035 496.85,97.102 497.94,96.967C 498.631,96.882 499.568,96.713 500.192,96.405C 500.676,96.165 501.177,95.617 501.599,95.279C 502.021,94.941 502.624,94.535 503.006,94.153C 503.389,93.77 503.677,93.038 504.132,92.746C 504.425,92.558 504.913,92.413 505.258,92.465C 505.745,92.537 506.257,93.034 506.665,93.309C 507.016,93.544 507.391,94.02 507.791,94.154C 508.593,94.421 509.762,94.154 510.606,94.154C 510.944,94.154 511.438,94.32 511.732,94.154C 512.16,93.912 512.339,93.178 512.576,92.747C 512.848,92.25 513.291,91.609 513.421,91.058C 513.557,90.483 513.421,89.679 513.421,89.088C 513.421,88.919 513.363,88.684 513.421,88.525C 513.646,87.905 514.232,87.116 514.828,86.837C 515.211,86.657 515.816,86.889 516.235,86.837C 516.926,86.752 517.835,86.516 518.487,86.274C 518.665,86.209 518.894,86.098 519.05,85.993C 519.892,85.423 520.806,84.397 521.583,83.741C 521.996,83.392 522.48,82.794 522.99,82.615C 523.707,82.364 524.769,82.708 525.523,82.615C 525.869,82.573 526.323,82.455 526.649,82.334C 527.358,82.072 528.225,81.546 528.901,81.208C 529.408,80.955 530.236,80.806 530.589,80.363C 530.808,80.092 530.693,79.536 530.871,79.237C 531.515,78.16 532.977,77.195 533.967,76.423C 534.447,76.048 535.207,75.708 535.656,75.297C 536.054,74.932 536.277,74.083 536.782,73.89C 537.261,73.706 538.057,73.867 538.47,74.171C 538.774,74.396 538.787,75.01 539.033,75.297C 539.505,75.85 540.344,76.4 541.003,76.704C 541.319,76.85 541.783,76.943 542.129,76.985C 542.465,77.027 542.919,77.016 543.255,76.985C 544.195,76.901 545.411,76.507 546.352,76.423C 546.941,76.37 547.739,76.328 548.322,76.423C 548.849,76.509 549.484,76.901 550.011,76.985C 550.761,77.107 551.79,76.892 552.544,76.985C 553.235,77.071 554.236,77.133 554.796,77.548C 555.192,77.841 555.485,78.488 555.641,78.955C 555.908,79.761 555.559,81.003 555.922,81.77C 556.382,82.741 557.695,83.542 558.455,84.303C 559.384,85.232 559.862,87.117 561.552,87.399C 563.24,87.68 562.912,88.412 563.522,88.806C 564.507,89.444 565.774,90.777 566.9,90.777C 568.026,90.777 569.452,91.256 570.559,91.34C 571.57,91.417 572.923,91.34 573.937,91.34C 574.866,91.34 576.301,91.911 577.034,91.34C 577.308,91.125 577.143,90.517 577.315,90.214C 577.668,89.59 578.341,88.799 579.003,88.525C 579.315,88.396 579.798,88.462 580.129,88.525C 580.58,88.61 581.114,88.89 581.528,89.076Z\", \"type\": \"path\"}, {\"fillcolor\": \"PaleTurquoise\", \"line\": {\"color\": \"LightSeaGreen\"}, \"path\": \"M353.717,141.851L354.13,143.88L355.221,145.827L360.44,150.501L362.038,152.916L364.959,153.462L366.832,153.166L367.062,151.514L367.918,149.489L369.477,148.476L372.67,148.321L376.253,148.399L376.721,150.58L380.071,152.839L382.876,150.58L386.459,149.489L387.005,147.698L388.251,144.27L395.885,143.179L396.976,139.284L404.22,138.738L404.454,135.778L406.168,132.896L407.414,129.157L406.791,126.508L404.766,123.86L404.921,120.277L409.751,120.121L412.399,119.966L414.581,117.473L415.827,117.941L417.852,120.901L422.136,121.602L425.408,121.29L428.29,122.614L427.822,123.86L425.641,128.145L423.849,130.482L421.357,132.974L420.811,136.09L420.578,140.141L419.565,142.634L417.306,143.802L415.358,144.659L410.295,144.971L410.529,150.034L411.152,153.695L412.087,157.824L415.826,157.824L421.357,157.512L427.433,156.656L429.692,158.058L430.783,160.317L432.574,162.732L434.756,164.757L436.548,166.237L439.04,167.327L441.611,167.717L443.948,167.484L443.948,165.225L444.337,162.81L447.453,160.473L452.205,158.681L455.711,157.201L458.749,155.176L462.41,151.515L465.058,148.322L467.863,147.699L472.381,148.244L475.809,146.608L479.938,143.57L480.25,140.922C 479.86,140.922 478.926,138.818 478.926,138.818L477.446,136.948L477.758,133.911L478.771,131.651L479.487,129.318L476.801,127.605L476.25,124.08L476.471,121.767L473.607,121.437L471.183,121.327L469.31,120.225L466.887,117.03L465.784,112.954L462.7,107.446L460.166,104.031L458.073,101.386L457.081,100.174L455.429,99.072L453.887,98.962L452.454,99.844L451.683,101.276L451.132,103.7L450.581,105.683L449.81,108.107L447.607,110.2L445.294,111.852L441.879,112.073L441.658,109.76L441.988,108.217L441.328,107.006L439.785,106.235L436.535,103.371L433.671,101.884L430.752,100.837L430.385,99.224C 429.45,99.446 428.167,99.669 427.29,100.069C 426.736,100.321 426.151,100.933 425.602,101.195C 424.565,101.687 423.041,101.987 421.943,102.321C 421.099,102.577 420.009,103.178 419.129,103.166C 418.327,103.153 417.335,102.628 416.595,102.321C 415.723,101.96 414.525,101.495 413.781,100.914C 413.168,100.435 412.585,99.546 412.093,98.943C 411.484,98.197 410.636,97.224 410.122,96.41C 409.619,95.611 409.459,94.276 408.906,93.655L406.326,95.665L406.949,100.495L405.235,102.209L401.964,102.832L400.095,100.495L397.758,100.807L397.29,96.445L394.36,95.135L391.569,96.551L388.731,96.897L385.547,97.633L381.951,98.847L379.202,102.442L379.837,106.883L381.74,109.209L381.74,113.017L379.377,116.402C 380.562,116.483 380.645,116.491 381.319,116.543L383.423,117.867L383.579,119.503L383.734,120.905L382.255,123.242L381.476,124.878L380.307,126.202L379.139,126.047L376.957,125.969L375.088,125.736L372.128,126.982L370.024,127.294L367.999,126.593L366.597,126.048L365.786,124.578L364.186,125.919L362.706,127.399L360.802,131.42L361.923,132.123L363.637,131.422L364.728,132.59L367.532,134.694L370.18,137.342L371.349,139.679L371.193,142.094L370.415,143.964L369.48,144.899L367.142,145.132L364.338,143.73L360.521,142.795ZM353.056,136.69L353.721,141.855L348.132,141.31L344.003,137.493L344.128,134.646C 345.186,134.775 346.481,135.437 347.52,135.637C 348.756,135.875 350.479,135.723 351.7,136.034C 352.14,136.148 352.707,136.453 353.056,136.69Z\", \"type\": \"path\"}, {\"fillcolor\": \"PaleTurquoise\", \"line\": {\"color\": \"LightSeaGreen\"}, \"path\": \"M575.026,455.193L576.611,448.856L576.689,445.974L576.456,441.689L578.481,442.235L582.376,442.235L585.414,442.547L586.972,442.079L588.219,439.82L589.154,437.172L592.815,433.822L594.449,430.465L591.646,430.005L589.387,428.759L587.128,427.435L585.804,425.487L584.635,422.76L583.7,420.579L581.207,416.528L580.272,414.503L581.986,409.518L584.168,403.831L584.713,393.158L584.401,390.821L582.135,389.365L580.345,388.879L576.455,393.236L573.962,396.664L571.625,400.715L570.379,406.323L570.379,411.621L569.6,414.736L566.016,418.008L562.901,420.189L559.317,422.059L557.915,424.396L550.437,429.07L545.607,430.784L535.325,433.432L530.027,434.367L526.444,430.939L520.056,429.693L514.135,425.797L509.617,424.084L505.721,424.396L500.736,422.059L496.997,420.034L493.881,420.189L491.077,422.059L487.181,424.084L482.819,425.797L482.041,435.769L475.029,439.197L472.848,442.157L467.551,446.519L461.786,447.454L452.282,447.922L439.35,459.14L424.549,471.291L420.031,464.437L412.241,458.828L406.632,457.738L403.984,460.386L401.803,464.437L398.842,468.176L393.857,468.02L389.339,468.02L387.002,469.266L385.132,471.136L389.651,474.096L388.56,475.81L385.912,478.615L381.705,480.64L377.343,482.042L369.241,479.393L364.412,478.303C 364.412,478.303 356.466,480.328 355.843,480.64C 355.22,480.952 349.144,485.625 349.144,485.625L344.625,488.741L340.107,491.545L337.302,490.455L335.9,488.273L335.9,481.885L331.849,481.106L327.954,483.599L325.306,485.624L324.527,489.986L323.281,493.881L320.32,495.906L314.466,495.778L310.24,498.727L307.412,501.379L309.533,505.975L307.765,509.158L305.821,512.87L301.932,518.527L297.159,522.946L291.149,528.78L285.669,533.199L278.496,537.535L272.704,541.684L272.034,542.349C 271.331,540.308 269.806,537.797 269.266,535.707C 269.078,534.979 269.089,533.962 268.99,533.217C 268.777,531.634 268.761,529.439 268.159,527.958C 267.51,526.357 265.845,524.658 264.839,523.254C 264.181,522.336 263.44,520.992 262.625,520.21C 262.193,519.795 261.36,519.552 260.965,519.103C 260.228,518.268 259.744,516.805 259.304,515.783C 258.92,514.889 258.366,513.695 258.198,512.738C 258.025,511.758 258.198,510.414 258.198,509.418C 258.198,508.671 258.306,507.666 258.198,506.927C 258.072,506.07 257.675,504.971 257.368,504.16C 256.947,503.048 256.222,501.634 255.707,500.562C 255.306,499.725 254.837,498.568 254.323,497.794C 253.9,497.156 253.076,496.501 252.663,495.856C 252.021,494.856 251.638,493.263 251.003,492.258C 250.31,491.161 249.2,489.804 248.235,488.937C 247.567,488.337 246.319,487.967 245.745,487.277C 245.34,486.791 245.16,485.923 244.914,485.339C 244.494,484.345 243.87,483.043 243.53,482.019C 243.315,481.369 243.314,480.401 242.977,479.805C 242.572,479.089 241.601,478.468 241.039,477.867C 240.436,477.222 239.649,476.346 239.101,475.653C 238.764,475.226 238.047,474.177 237.975,474.057L234.63,465.991L221.159,464.976L222.06,473.597L222.906,479.096L221.426,481.634L219.1,483.96L215.081,485.229L215.927,487.344L218.465,490.516L220.157,494.112L221.426,496.015L223.117,496.438L226.713,498.976L228.193,501.09L229.673,502.994L232.634,503.84L234.537,506.589L234.537,511.665L233.691,516.317L230.941,520.97L226.712,526.68L223.751,532.602L224.386,537.889L224.809,543.599L221.213,545.714L218.252,549.943L217.406,552.269L219.521,553.961L221.847,556.71L227.557,556.498L230.518,556.075L233.479,555.652L237.708,557.344L242.784,558.613L244.475,561.574L242.996,564.112L243.63,570.245L243.207,573.418L241.092,575.109L240.458,579.761L240.669,582.722L243.207,582.299L244.687,580.608L246.167,577.647L246.802,576.167L250.397,575.955L252.3,576.59L254.203,580.397L256.107,581.032L258.856,585.051L262.451,590.972L267.104,596.683L270.488,602.816L271.546,607.257L270.066,611.276L273.45,612.122L276.834,612.968L277.257,617.832L277.257,622.485L280.006,625.445C 280.006,625.445 283.39,630.31 284.447,631.579C 285.504,632.848 286.773,635.598 286.773,635.598L289.1,639.405L290.58,643.634L291.426,645.537L293.117,645.326L295.232,641.307L297.77,638.558L302.634,638.134L306.863,641.518L309.189,644.479L311.092,644.902L311.092,640.462L311.304,637.712L313.841,635.386L316.591,635.386L320.398,634.963L322.71,634.624L325.701,634.025L327.496,632.231L329.889,628.642L331.085,625.95L335.593,626.599L340.656,627.745L344.668,627.533L349.03,629.24L352.918,631.035L354.713,629.539L356.508,628.643L359.199,628.044L360.695,625.053L364.583,623.259L369.368,620.567L371.462,619.671L370.864,618.774L372.359,614.288L374.453,613.988L376.547,612.493L378.641,611.596L382.23,610.998L384.921,610.998L387.613,609.203L387.014,606.81L388.809,603.221L390.4,602.818L392.303,601.972L395.475,603.452L398.859,607.259L402.667,607.894L408.8,606.836L413.875,607.47L416.836,609.374L418.316,611.277L421.277,613.391L424.661,615.506L425.931,620.793L427.622,621.639L428.68,621.216L433.544,618.89L436.717,618.678L440.946,619.948L445.598,624.389L449.617,621.639L454.058,622.486L457.865,622.697L460.614,621.217L460.614,620.159L459.98,612.546L461.249,607.894L465.268,603.453L469.497,600.703L486.839,599.646L489.589,597.108L492.126,591.821L494.241,587.168L497.202,584.631L495.299,581.035L495.51,572.998L496.78,570.884L500.587,567.288L506.297,564.327L510.738,563.904L514.545,563.904L515.18,560.943L517.295,557.348L520.467,554.598L523.428,553.752L523.64,552.061L522.793,547.408L525.966,544.447L525.331,540.429L523.005,538.102L521.525,533.027L521.102,529.22L517.929,524.779L513.911,521.395L508.412,518.645L508.835,515.05L511.796,512.3L515.392,506.802L518.776,503.418L521.948,502.148L525.755,502.571L529.562,504.051L533.581,502.994L538.233,497.072L540.137,493.899L540.137,491.996L542.04,490.516L545.847,489.247L548.173,485.44L551.557,483.325L559.17,480.153L560.862,476.769L559.804,473.808L556.42,472.961L553.882,470.635L554.94,466.406L556.843,463.868L561.284,462.81L566.148,459.426Z\", \"type\": \"path\"}, {\"fillcolor\": \"PaleTurquoise\", \"line\": {\"color\": \"LightSeaGreen\"}, \"path\": \"M320.34,422.462L323.148,418.825L327.92,415.112L331.456,413.168L336.759,413.698L340.295,411.577L336.936,406.274L337.29,399.379L337.644,394.075L338.175,391.424L341.18,389.48L344.892,391.071L346.483,390.717L349.489,390.894L350.019,385.944L349.842,377.989L347.19,375.338L342.948,371.626L340.12,369.858L335.146,368.014C 334.552,367.395 333.077,367.356 332.643,366.619C 332.222,365.903 332.394,364.643 332.643,363.851C 332.948,362.884 334.16,362.005 334.581,361.083C 334.865,360.46 335.276,359.539 335.135,358.869C 334.94,357.942 333.668,357.199 333.197,356.378C 332.53,355.215 331.718,353.557 331.537,352.228C 331.435,351.483 331.431,350.383 331.813,349.737C 332.331,348.866 334.064,348.672 334.581,347.8C 334.965,347.153 334.782,346.057 334.857,345.309C 334.95,344.397 334.849,343.137 335.134,342.265C 335.435,341.344 336.404,340.383 336.794,339.497C 337.145,338.704 337.305,337.535 337.624,336.729C 338.035,335.694 338.69,334.351 339.285,333.409C 339.789,332.608 340.507,331.538 341.222,330.918L340.473,330.435L338.175,329.021C 338.175,329.021 335.523,326.9 335.699,326.193C 335.875,325.486 336.583,323.895 336.583,323.895L338.528,321.243L339.235,322.834L341.71,324.779L342.606,326.215C 343.24,324.761 345.53,323.887 346.481,322.617C 346.703,322.319 347.093,321.877 347.034,321.51C 346.94,320.931 345.905,320.656 345.65,320.126C 345.325,319.448 345.416,318.387 345.374,317.636C 345.333,316.89 345.66,315.835 345.374,315.145C 345.015,314.278 343.967,313.414 343.16,312.931C 342.416,312.487 341.259,312.142 340.392,312.101C 339.546,312.061 338.317,312.167 337.624,312.655C 337.228,312.934 337.256,313.893 336.794,314.039C 336.015,314.285 335.043,313.281 334.304,312.932C 333.8,312.695 333.196,312.17 332.643,312.102C 331.884,312.008 330.857,312.355 330.153,312.656C 329.878,312.773 329.616,313.149 329.323,313.21C 328.414,313.398 327.134,313.018 326.279,312.656C 324.963,312.099 323.796,310.211 322.404,309.888C 321.912,309.775 321.24,310.259 320.744,310.165C 320.268,310.074 319.716,309.663 319.36,309.334C 318.836,308.85 317.976,307.397 318.007,307.408L313.779,307.102L314.84,298.97L314.486,293.136L312.895,287.303L314.663,285.004L318.728,282.353L318.021,278.818L314.486,274.928L312.188,276.342L303.172,280.585L293.449,282.176L289.029,282.353L282.175,284.378L281.429,283.943L277.539,282.706L272.313,280.055L267.11,275.2C 267.11,275.223 267.985,273.293 268.379,272.473C 268.748,271.706 269.279,270.702 269.649,269.936C 270.043,269.117 270.398,267.931 270.918,267.186C 271.38,266.524 272.197,265.794 272.821,265.283C 273.529,264.703 274.583,264.076 275.359,263.592C 276.107,263.125 277.098,262.486 277.897,262.112C 278.569,261.797 279.499,261.427 280.223,261.265C 280.907,261.113 281.855,261.149 282.549,261.054C 283.252,260.958 284.856,260.622 284.856,260.622L287.76,259.249L288.695,254.419L289.007,250.68L288.072,247.409L281.529,243.047L274.517,239.308L272.803,238.217L266.883,238.373L258.47,239.463L253.328,241.956L248.966,244.138L245.538,245.696L241.955,247.254L241.332,243.515L243.513,240.711L244.604,236.504L244.137,230.584L242.384,226.806L248.188,226.144L251.459,224.04L256.211,219.834L258.938,217.185L264.858,217.809L267.974,217.497L269.532,215.004L269.844,212.511L275.765,211.576L279.504,206.591L282.619,199.736L283.243,196.308L290.721,197.867L303.808,196.932L302.562,190.388L306.301,188.206L305.989,183.844L307.547,180.417L311.286,179.793L315.337,179.793L318.453,183.221L324.373,184.468L331.54,184.156L337.772,182.91L343.069,180.105L348.366,175.743L352.105,170.758L353.663,171.381L354.599,176.367L358.961,176.055L367.997,176.991L373.294,177.614L379.526,179.795L382.954,177.303L386.069,173.564L392.613,173.564L394.409,173.767L392.145,177.225L390.12,179.017L388.641,181.198L386.304,182.757L380.228,184.471L377.345,185.561L374.853,187.665L374.152,190.548L373.529,191.638L372.127,192.106L367.842,193.041L364.181,193.509L364.103,196.624L360.598,199.585L356.625,202.0L350.626,204.726L345.251,206.908L346.108,213.763L347.744,215.71L351.094,216.723L352.418,217.346L353.587,222.098L354.493,223.818C 354.924,223.461 355.715,223.324 356.167,222.999C 356.548,222.725 356.887,222.158 357.273,221.892C 357.948,221.429 359.108,221.274 359.764,220.786C 360.378,220.329 361.073,219.529 361.424,218.848C 361.738,218.24 361.641,217.23 361.978,216.634C 362.209,216.226 362.642,215.683 363.085,215.528C 363.794,215.279 364.829,215.897 365.575,215.804C 366.279,215.716 367.176,215.33 367.789,214.974C 368.35,214.648 368.915,213.956 369.449,213.59C 370.154,213.107 371.142,212.515 371.94,212.206C 372.616,211.944 373.716,212.094 374.242,211.615L374.54,215.789L374.852,219.84L377.89,224.514L376.02,228.175L374.384,228.643L371.502,228.487L367.451,228.254L365.426,230.902L363.946,233.083L363.946,235.966L363.245,238.07L358.649,238.382L356.389,238.615L354.987,237.446L352.105,236.979L351.014,237.757L350.859,240.017L351.872,242.432L353.196,245.314L355.455,249.131L356.0,249.832L356.857,249.209L359.895,247.027L362.31,245.703L364.725,245.002L364.647,247.339L364.414,249.131L365.738,250.922L368.542,250.767L371.425,249.676L373.139,248.352L373.529,246.248L372.438,244.69L371.425,242.82L371.892,241.73L375.631,239.938L378.747,238.146L381.785,236.121L383.889,232.148L384.98,227.786L385.525,224.436L388.563,223.501L390.667,222.722L393.237,223.267L395.807,224.904L397.989,227.007L403.364,228.02L408.739,228.332L411.777,227.397L415.438,224.281L417.775,221.166L417.853,218.906L417.463,216.024L415.126,213.765L412.634,212.518L410.764,210.571L409.128,208.156L406.558,203.093L406.713,201.847L406.168,199.822L404.064,198.653L402.662,197.563L400.793,197.64L398.923,197.251L398.923,194.524L398.067,191.876L398.457,189.539L398.379,187.902L398.145,186.033L400.56,186.266L408.117,187.045L410.142,186.733L413.18,185.487L416.218,184.474L418.243,183.305L421.671,183.695L422.761,185.019L425.566,188.914L427.358,193.354L430.786,193.822L434.291,193.432L437.875,191.718L439.199,190.862L441.03,193.677C 441.616,193.18 442.308,192.364 442.926,191.865C 443.403,191.482 444.146,191.113 444.6,190.704C 445.001,190.341 445.325,189.636 445.774,189.334C 446.083,189.127 446.58,188.983 446.948,188.942C 448.063,188.821 449.545,189.315 450.667,189.334C 451.49,189.348 452.583,189.168 453.406,189.139C 454.169,189.112 455.245,189.431 455.942,189.139L455.486,190.186L454.715,193.492L454.77,198.945L455.211,202.415L455.211,203.517L454.99,205.941L456.092,210.128L458.737,215.636L460.719,218.281L462.371,220.705L462.702,222.468L462.041,227.535L462.041,230.84L464.244,234.146L465.235,236.679L464.244,239.213L462.371,241.306L461.49,243.84L462.261,247.585L462.481,249.679L462.591,252.543L462.04,254.967L461.6,259.484L460.498,262.238L462.701,264.332L465.014,267.086L465.895,269.069L466.226,272.043L466.997,275.238L470.192,274.798L473.717,275.018L476.141,275.789L476.801,278.764L478.123,282.509L478.344,284.822L476.801,288.017L474.708,291.432L473.937,294.847L472.835,296.941L470.522,299.364L466.777,298.924L464.794,300.797L462.15,302.229L459.286,304.542L461.049,305.864L462.04,307.958L461.93,313.025L460.718,315.558L457.193,315.449L457.633,322.609L458.955,326.245L459.946,328.338L465.785,332.525L471.294,335.72L477.573,341.008L481.539,345.744L485.12,351.415L488.042,350.052L494.663,348.105L499.184,347.451L501.207,347.755L508.997,348.846L511.801,349.625L518.812,355.233L525.044,357.415L530.497,355.077L533.457,354.142L539.065,353.987L542.493,353.364L547.167,355.233L551.997,358.349L558.385,353.675L561.813,350.559L565.435,349.039L569.408,347.325L570.112,346.193L575.835,349.818L577.203,351.186L578.679,353.089L582.769,349.857L588.457,352.576L586.352,356.556L586.119,358.503L586.587,363.801L588.378,367.151L589.547,370.967L589.702,374.005L589.702,377.043L588.846,378.679L586.976,379.848L584.406,379.536L581.836,378.601L578.72,378.055L576.616,377.822L576.849,379.769L577.472,383.275L578.408,385.69L580.36,388.893L576.461,393.246L573.968,396.674L571.631,400.725L570.385,406.333L570.385,411.631L569.606,414.746L566.022,418.018L562.907,420.199L559.323,422.069L557.921,424.406L550.443,429.08L545.613,430.794L535.331,433.442L530.033,434.377L526.45,430.949L520.062,429.703L514.141,425.807L509.623,424.094L505.727,424.406L500.742,422.069L497.003,420.044L493.887,420.199L491.083,422.069L487.187,424.094L482.825,425.807L482.047,435.779L475.035,439.207L472.854,442.167L467.557,446.529L461.792,447.464L452.288,447.932L439.356,459.15L424.555,471.301L420.037,464.447L412.247,458.838L406.638,457.748L403.99,460.396L401.809,464.447L398.848,468.186L393.863,468.03L389.345,468.03L387.008,469.276L385.138,471.146L389.657,474.106L388.566,475.82L385.918,478.625L381.711,480.65L377.349,482.052L369.247,479.403L364.418,478.313C 364.418,478.313 356.472,480.338 355.849,480.65C 355.226,480.962 349.15,485.635 349.15,485.635L344.631,488.751L340.113,491.555L337.308,490.465L335.906,488.283L335.906,481.895L331.855,481.116L327.96,483.609L325.312,485.634L324.533,489.996L323.287,493.891L320.326,495.916L314.467,495.792L315.551,492.904L314.137,486.54L314.314,483.712L310.955,480.706L310.955,473.282L312.724,470.099L312.547,466.741L310.425,463.736L310.248,460.2L311.486,458.609C 311.486,458.609 314.491,458.609 315.198,458.079C 315.905,457.549 317.673,455.604 317.673,455.604C 317.673,455.604 317.496,452.245 317.673,451.184C 317.85,450.123 317.143,445.881 317.143,445.881L320.326,441.815L322.624,438.457L322.27,432.8L321.563,426.613ZM417.891,226.687L419.215,225.558L420.812,224.622L422.097,224.817L423.617,226.336L423.539,227.427L422.643,229.297C 422.643,229.297 421.358,230.621 421.202,230.66C 421.047,230.698 419.021,231.556 419.021,231.556L417.658,231.439L416.957,230.465L416.957,228.361Z\", \"type\": \"path\"}, {\"fillcolor\": \"PaleTurquoise\", \"line\": {\"color\": \"LightSeaGreen\"}, \"path\": \"M394.405,173.715L392.145,177.221L390.12,179.013L388.641,181.194L386.304,182.753L380.228,184.467L377.345,185.557L374.853,187.661L374.152,190.544L373.529,191.634L372.127,192.102L367.842,193.037L364.181,193.505L364.103,196.62L360.598,199.581L356.625,201.996L350.626,204.722L345.251,206.904L346.108,213.759L347.744,215.706L351.094,216.719L352.418,217.342L353.587,222.094L354.493,223.814C 354.924,223.457 355.715,223.32 356.167,222.995C 356.548,222.721 356.887,222.154 357.273,221.888C 357.948,221.425 359.108,221.27 359.764,220.782C 360.378,220.325 361.073,219.525 361.424,218.844C 361.738,218.236 361.641,217.226 361.978,216.63C 362.209,216.222 362.642,215.679 363.085,215.524C 363.794,215.275 364.829,215.893 365.575,215.8C 366.279,215.712 367.176,215.326 367.789,214.97C 368.35,214.644 368.915,213.952 369.449,213.586C 370.154,213.103 371.142,212.511 371.94,212.202C 372.616,211.94 373.716,212.09 374.242,211.611L374.54,215.785L374.852,219.836L377.89,224.51L376.02,228.171L374.384,228.639L371.502,228.483L367.451,228.25L365.426,230.898L363.946,233.079L363.946,235.962L363.245,238.066L358.649,238.378L356.389,238.611L354.987,237.442L352.105,236.975L351.014,237.753L350.859,240.013L351.872,242.428L353.196,245.31L355.455,249.127L356.0,249.828L356.857,249.205L359.895,247.023L362.31,245.699L364.725,244.998L364.647,247.335L364.414,249.127L365.738,250.918L368.542,250.763L371.425,249.672L373.139,248.348L373.529,246.244L372.438,244.686L371.425,242.816L371.892,241.726L375.631,239.934L378.747,238.142L381.785,236.117L383.889,232.144L384.98,227.782L385.525,224.432L388.563,223.497L390.667,222.718L393.237,223.263L395.807,224.9L397.989,227.003L403.364,228.016L408.739,228.328L411.777,227.393L415.438,224.277L417.775,221.162L417.853,218.902L417.463,216.02L415.126,213.761L412.634,212.514L410.764,210.567L409.128,208.152L406.558,203.089L406.713,201.843L406.168,199.818L404.064,198.649L402.662,197.559L400.793,197.636L398.923,197.247L398.923,194.52L398.067,191.872L398.457,189.535L398.379,187.898L398.145,186.029L400.56,186.262L408.117,187.041L410.142,186.729L413.18,185.483L416.218,184.47L418.243,183.301L421.671,183.691L422.761,185.015L425.566,188.91L427.358,193.35L430.786,193.818L434.291,193.428L437.875,191.714L439.199,190.858L441.03,193.673C 441.616,193.176 442.308,192.36 442.926,191.861C 443.403,191.478 444.146,191.109 444.6,190.7C 445.001,190.337 445.325,189.632 445.774,189.33C 446.083,189.123 446.58,188.979 446.948,188.938C 448.063,188.817 449.545,189.311 450.667,189.33C 451.49,189.344 452.583,189.164 453.406,189.135C 454.169,189.108 455.245,189.427 455.95,189.135C 456.794,188.785 457.541,187.702 458.102,186.983C 458.945,185.903 459.791,184.269 460.451,183.069C 460.83,182.379 461.164,181.36 461.625,180.72C 462.159,179.98 463.261,179.321 463.777,178.568C 464.104,178.091 464.212,177.268 464.56,176.807C 465.113,176.076 466.328,175.56 466.908,174.85C 467.457,174.179 468.159,173.164 468.278,172.306C 468.426,171.234 467.363,169.858 467.496,168.784C 467.576,168.133 468.189,167.419 468.384,166.772L470.248,168.094L472.176,169.636L474.545,170.573L477.574,171.234L483.413,171.73L487.214,172.005L488.866,171.73L490.133,171.234L491.345,169.471L492.337,166.0L494.265,160.547L496.138,156.746L498.066,152.229L497.626,150.081L494.871,147.437L492.503,147.051L490.686,146.225L488.648,145.013L485.398,143.25L483.525,141.433L485.949,140.0L485.839,137.411L485.123,134.382L483.525,133.942L482.809,131.573L482.753,129.81L480.605,129.59L479.49,129.37L478.774,131.652L477.761,133.912L477.449,136.949L478.929,138.819C 478.929,138.819 479.864,140.923 480.253,140.923L479.941,143.571L475.812,146.609L472.384,148.245L467.866,147.7L465.061,148.323L462.413,151.516L458.752,155.177L455.714,157.202L452.208,158.682L447.456,160.474L444.34,162.811L443.951,165.226L443.951,167.485L441.614,167.718L439.043,167.328L436.551,166.238L434.759,164.758L432.577,162.733L430.786,160.318L429.695,158.059L427.436,156.657L421.36,157.513L415.829,157.825L412.09,157.825L411.155,153.696L410.532,150.035L410.298,144.972L415.361,144.66L417.309,143.803L419.568,142.635L420.581,140.142L420.814,136.091L421.36,132.975L423.852,130.483L425.644,128.146L427.825,123.861L428.293,122.615L425.411,121.291L422.139,121.603L417.855,120.902L415.83,117.942L414.584,117.474L412.402,119.967L409.754,120.122L404.924,120.278L404.769,123.861L406.794,126.509L407.417,129.158L406.171,132.897L404.457,135.779L404.223,138.739L396.979,139.285L395.888,143.18L388.254,144.271L387.008,147.699L386.462,149.49L382.879,150.581L380.074,152.84L376.724,150.581L376.256,148.4L372.673,148.322L369.48,148.477L367.921,149.49L367.065,151.515L366.792,153.074L369.714,157.981L375.945,159.383L381.398,157.981L385.76,158.449L385.76,162.889L386.15,165.927L387.63,169.51L388.331,171.068L395.107,170.991L394.679,173.756M360.805,131.413L361.92,132.117L363.634,131.416L364.725,132.584L367.529,134.688L370.177,137.336L371.346,139.673L371.19,142.088L370.412,143.958L369.477,144.893L367.139,145.126L364.335,143.724L360.518,142.789L353.682,141.835L353.078,136.713L353.056,136.69L356.782,134.795ZM417.891,226.687L419.215,225.558L420.812,224.622L422.097,224.817L423.617,226.336L423.539,227.427L422.643,229.297C 422.643,229.297 421.358,230.621 421.202,230.66C 421.047,230.698 419.021,231.556 419.021,231.556L417.658,231.439L416.957,230.465L416.957,228.361ZM379.351,116.389L381.317,116.537L383.421,117.861L383.577,119.497L383.732,120.899L382.253,123.236L381.474,124.872L380.305,126.196L379.137,126.041L376.955,125.963L375.086,125.73L372.126,126.976L370.022,127.288L367.997,126.587L366.595,126.042L365.802,124.645L366.299,124.01L367.991,122.318L365.453,119.992L363.127,118.512L361.224,117.878L363.55,115.128L365.453,114.917L367.356,115.974L369.894,118.512C 369.894,118.512 370.529,120.204 372.009,120.415C 373.489,120.627 377.084,119.146 377.084,119.146Z\", \"type\": \"path\"}, {\"fillcolor\": \"PaleTurquoise\", \"line\": {\"color\": \"LightSeaGreen\"}, \"path\": \"M344.099,134.651C 342.321,134.425 339.953,134.712 338.164,134.841C 337.086,134.918 335.643,135.036 334.582,135.238C 333.913,135.366 333.051,135.663 332.393,135.836C 331.678,136.023 330.708,136.21 330.004,136.433C 329.211,136.684 328.164,137.064 327.416,137.428C 326.79,137.734 325.958,138.173 325.426,138.622C 325.005,138.977 324.558,139.571 324.141,140.101L320.829,138.178L319.138,135.852L314.908,136.275L310.679,134.372L306.66,133.102L305.391,132.044L305.391,127.815L306.871,124.431L308.985,121.259L308.985,117.875L305.813,119.144L302.429,118.086L300.737,115.971L297.565,113.645L294.604,113.645L291.009,115.125L286.99,117.028L281.068,115.759L275.781,114.49L272.185,112.798L266.898,113.221L264.784,114.491L263.726,116.394L263.091,119.143L265.629,123.162L267.109,126.969L266.051,129.083L263.09,129.93L259.495,132.468L257.591,134.159L255.054,134.794L253.784,136.697L252.726,141.349L251.035,142.195L248.497,144.31L247.863,148.329L245.113,150.867L243.844,154.039L244.69,158.058L253.996,158.481L258.015,158.693L261.822,157.213L264.994,155.733L269.647,154.463L274.299,154.886L276.202,156.578L278.528,158.904L281.066,163.557L279.586,165.248L279.375,167.363L278.105,169.477L273.664,170.535L271.338,172.65L270.069,175.611L269.57,178.292C 269.183,178.492 267.546,179.501 267.052,179.818C 266.455,180.203 265.536,180.522 264.838,180.648C 264.103,180.782 263.056,180.413 262.347,180.648C 261.56,180.911 260.84,181.873 260.133,182.309C 259.659,182.602 259.008,182.984 258.473,183.139C 257.671,183.37 256.358,182.895 255.705,183.415C 255.5,183.579 255.471,183.986 255.429,184.245C 255.375,184.573 255.302,185.046 255.429,185.352C 255.654,185.894 256.588,186.194 256.813,186.736C 257.29,187.886 256.865,189.643 256.813,190.887C 256.771,191.885 256.515,193.208 256.536,194.207C 256.551,194.876 256.827,195.752 256.813,196.421C 256.802,196.926 256.803,197.653 256.536,198.082C 256.158,198.687 255.126,198.983 254.599,199.465C 254.035,199.983 253.487,200.868 252.938,201.403C 251.712,202.597 249.888,203.985 248.51,205.001C 247.306,205.889 245.462,206.757 244.36,207.769C 243.184,208.847 241.927,210.596 241.039,211.92C 240.562,212.63 240.115,213.69 239.655,214.41C 239.048,215.362 238.302,216.724 237.441,217.454C 236.875,217.934 235.95,218.391 235.227,218.561C 234.743,218.675 234.027,218.371 233.567,218.561C 233.024,218.786 232.183,219.358 232.183,219.945C 232.183,220.532 232.992,221.211 233.567,221.329C 234.005,221.419 234.561,220.556 234.951,220.775C 235.39,221.023 235.185,221.932 235.227,222.435C 235.268,222.932 235.423,223.638 235.22,224.154L239.849,224.075L242.381,226.811L248.185,226.139L251.456,224.035L256.208,219.829L258.935,217.18L264.855,217.804L267.971,217.492L269.529,214.999L269.841,212.506L275.762,211.571L279.501,206.586L282.616,199.731L283.24,196.303L290.718,197.862L303.805,196.927L302.559,190.383L306.298,188.201L305.986,183.839L307.544,180.412L311.283,179.788L315.334,179.788L318.45,183.216L324.37,184.463L331.537,184.151L337.769,182.905L343.066,180.1L348.363,175.738L352.102,170.753L353.66,171.376L354.596,176.362L358.958,176.05L367.994,176.986L373.291,177.609L379.523,179.79L382.951,177.298L386.066,173.559L392.61,173.559L394.773,173.825L395.102,170.989L388.326,171.066L387.625,169.508L386.145,165.925L385.755,162.887L385.755,158.447L381.393,157.979L375.94,159.381L369.709,157.979L366.787,153.168L364.957,153.461L362.036,152.915L360.438,150.5L355.219,145.826L354.128,143.879L353.75,141.814L348.13,141.309L344.001,137.492Z\", \"type\": \"path\"}, {\"fillcolor\": \"PaleTurquoise\", \"line\": {\"color\": \"LightSeaGreen\"}, \"path\": \"M272.333,280.071L277.539,282.708L281.429,283.945L282.193,284.363L281.252,288.188L281.252,293.667L282.49,295.258L286.909,303.036L289.737,308.87L286.732,311.521L283.02,314.349L282.49,319.653L280.898,323.011L277.893,325.84L276.125,327.961L274.181,326.724L275.772,322.658L275.595,317.709L273.12,315.941L270.821,313.465L266.756,310.107L265.165,305.865L263.928,301.092L260.745,299.501L260.568,299.324L254.521,294.335L254.52,294.326ZM215.49,357.837L213.546,361.02L214.076,363.848L216.374,365.616L218.143,364.025L219.027,360.49L218.85,357.484ZM227.512,359.605L231.401,354.656L233.522,350.943L232.815,349.352L234.406,348.468L236.705,351.474L239.887,354.656L240.948,356.247L238.12,361.551L236.176,364.556L234.054,364.202L231.756,361.904ZM224.329,360.49L226.981,360.844L229.279,362.435L227.335,365.263L225.036,366.324L223.975,364.733ZM88.75,490.774L94.631,494.161L88.402,506.382L87.714,506.034L83.261,503.325L78.134,500.32L73.954,497.542L72.751,497.499L75.5,492.846L78.038,488.828L78.25,484.809L76.77,481.425L70.213,474.657L63.445,469.793L58.581,466.62L60.696,463.025L61.542,458.796L61.119,451.394L63.657,446.953L67.252,441.454L70.213,437.013L72.963,434.052L76.77,430.88L75.5,424.958L73.386,422.209L67.675,415.864L70.213,412.269L75.077,407.828L85.228,398.522L97.917,386.89L102.146,382.449L106.587,378.43L111.663,376.316L121.814,369.547L129.216,362.779L129.85,360.03L131.754,358.972L136.618,357.914L140.213,355.8L143.174,352.627L146.135,348.398L144.866,345.226L141.481,343.534L140.002,341.843L139.155,339.728L141.27,338.248L141.693,333.172L141.905,330.846L144.019,328.943L147.258,325.169L163.691,322.837L172.883,316.827L178.539,314.175L186.317,312.054L190.03,307.282L196.57,303.039L201.874,298.09L205.056,296.853L207.354,302.332L205.94,306.398L209.123,308.342L209.83,315.59L212.481,317.534L214.982,325.35L215.481,336.48L217.431,338.04L221.496,341.045L219.905,342.107L224.501,345.465L229.451,347.586L231.572,347.94L233.87,346.703L236.169,344.228L238.997,345.996L242.886,347.587L245.892,347.587L248.013,345.466L249.074,341.576L249.074,337.687L249.958,335.389L248.721,334.682L246.953,334.859L246.423,336.627L243.947,336.45L245.716,331.677L245.893,329.733L248.191,324.254L250.842,321.955L247.484,316.829L244.125,318.243L243.948,317.182L249.075,314.353L246.6,311.702L244.478,311.879L239.263,307.153L246.915,300.855L252.256,308.343L257.029,313.646L261.094,317.005L263.216,317.889L263.216,323.192L264.807,326.728L264.63,332.916L260.564,335.921L259.68,340.163L258.089,345.82L255.614,348.648L251.194,353.598L250.31,356.249L252.961,358.547L252.431,362.26L244.122,372.513L237.935,379.231L237.581,383.827L236.167,386.478L232.808,386.655L231.217,385.241L229.096,385.064L226.445,387.008L222.909,390.367L221.318,390.897L221.318,397.085L222.202,402.741L222.202,411.58L222.909,413.701L226.091,412.287L227.86,411.58L229.274,414.055L232.632,412.287L235.46,411.757L238.643,414.585L241.825,416.0L244.831,416.707L246.293,417.815L245.361,419.358L242.355,422.009L240.587,424.484L239.35,426.075L237.759,426.252L236.875,428.021L237.052,430.672L233.516,429.611L230.334,426.606L226.445,426.429L225.56,428.727L225.03,431.732L228.036,433.676L228.92,435.62L230.511,438.979L234.046,439.509L237.936,437.388L239.88,434.382L243.769,431.024L245.184,431.554L247.659,434.029L252.078,437.919L256.144,439.863L260.74,441.1L261.094,444.813L262.685,451.707L263.923,456.834L263.216,458.955L267.458,457.541L270.64,454.89C 270.64,454.89 273.823,451.177 273.646,450.293C 273.469,449.409 276.828,445.874 276.828,445.874L280.186,442.691L283.899,441.807L290.086,441.1L293.799,438.802L297.864,434.382L300.515,430.14L303.874,428.372L306.702,426.781L310.06,423.952L313.773,425.896L320.371,422.446L321.552,426.604L322.259,432.791L322.613,438.448L320.315,441.806L317.132,445.872C 317.132,445.872 317.839,450.114 317.662,451.175C 317.485,452.236 317.662,455.595 317.662,455.595C 317.662,455.595 315.894,457.539 315.187,458.07C 314.48,458.601 311.475,458.6 311.475,458.6L310.237,460.191L310.414,463.727L312.536,466.732L312.713,470.09L310.944,473.273L310.944,480.697L314.303,483.703L314.126,486.531L315.54,492.895L314.465,495.771L310.236,498.728L307.408,501.38L309.529,505.976L307.761,509.159L305.817,512.871L301.928,518.528L297.155,522.947L291.145,528.781L285.665,533.2L278.492,537.536L272.7,541.685L272.03,542.35C 271.327,540.309 269.802,537.798 269.262,535.708C 269.074,534.98 269.085,533.963 268.986,533.218C 268.773,531.635 268.757,529.44 268.155,527.959C 267.506,526.358 265.841,524.659 264.835,523.255C 264.177,522.337 263.436,520.993 262.621,520.211C 262.189,519.796 261.356,519.553 260.961,519.104C 260.224,518.269 259.74,516.806 259.3,515.784C 258.916,514.89 258.362,513.696 258.194,512.739C 258.021,511.759 258.194,510.415 258.194,509.419C 258.194,508.672 258.302,507.667 258.194,506.928C 258.068,506.071 257.671,504.972 257.364,504.161C 256.943,503.049 256.218,501.635 255.703,500.563C 255.302,499.726 254.833,498.569 254.319,497.795C 253.896,497.157 253.072,496.502 252.659,495.857C 252.017,494.857 251.634,493.264 250.999,492.259C 250.306,491.162 249.196,489.805 248.231,488.938C 247.563,488.338 246.315,487.968 245.741,487.278C 245.336,486.792 245.156,485.924 244.91,485.34C 244.49,484.346 243.866,483.044 243.526,482.02C 243.311,481.37 243.31,480.402 242.973,479.806C 242.568,479.09 241.597,478.469 241.035,477.868C 240.432,477.223 239.645,476.347 239.097,475.654C 238.76,475.227 238.043,474.178 237.971,474.058L234.626,465.992L221.201,464.941L187.584,457.525L153.322,459.217L116.1,472.54L98.343,487.14L91.203,484.037L85.905,481.048L81.133,479.634L80.072,483.7L82.547,484.761L86.436,486.529L86.082,489.711L88.733,490.773\", \"type\": \"path\"}, {\"fillcolor\": \"PaleTurquoise\", \"line\": {\"color\": \"LightSeaGreen\"}, \"path\": \"M254.552,294.311L260.569,299.325L260.746,299.502L263.929,301.093L265.166,305.866L266.757,310.108L270.822,313.466L273.121,315.942L275.596,317.71L275.773,322.659L274.182,326.725L276.126,327.962L277.894,325.841L280.899,323.012L282.491,319.654L283.021,314.35L286.733,311.522L289.738,308.871L286.91,303.037L282.491,295.259L281.253,293.668L281.253,288.189L282.169,284.379L289.031,282.355L293.451,282.178L303.174,280.587L312.19,276.344L314.488,274.93L318.023,278.82L318.73,282.355L314.665,285.006L312.897,287.305L314.488,293.138L314.842,298.972L313.781,307.104L318.009,307.41C 317.978,307.399 318.837,308.851 319.362,309.336C 319.717,309.665 320.27,310.076 320.746,310.167C 321.242,310.261 321.914,309.776 322.406,309.89C 323.798,310.212 324.965,312.101 326.281,312.658C 327.135,313.019 328.416,313.399 329.325,313.212C 329.618,313.151 329.88,312.775 330.155,312.658C 330.859,312.357 331.886,312.011 332.645,312.104C 333.198,312.172 333.802,312.697 334.306,312.934C 335.045,313.284 336.017,314.288 336.796,314.041C 337.258,313.895 337.231,312.937 337.626,312.657C 338.318,312.17 339.548,312.063 340.394,312.103C 341.26,312.144 342.417,312.489 343.162,312.933C 343.969,313.415 345.016,314.28 345.376,315.147C 345.662,315.837 345.335,316.892 345.376,317.638C 345.418,318.389 345.327,319.45 345.652,320.128C 345.907,320.657 346.942,320.933 347.036,321.512C 347.096,321.879 346.705,322.322 346.483,322.619C 345.532,323.889 343.242,324.763 342.608,326.217L341.712,324.781L339.237,322.836L338.53,321.245L336.585,323.897C 336.585,323.897 335.878,325.488 335.701,326.195C 335.524,326.902 338.177,329.023 338.177,329.023L340.475,330.437L341.224,330.92C 340.509,331.54 339.791,332.61 339.287,333.411C 338.692,334.353 338.037,335.696 337.626,336.731C 337.307,337.537 337.147,338.706 336.796,339.499C 336.405,340.385 335.437,341.346 335.136,342.267C 334.851,343.139 334.951,344.399 334.859,345.311C 334.784,346.059 334.966,347.155 334.583,347.802C 334.066,348.673 332.333,348.867 331.815,349.739C 331.432,350.385 331.437,351.485 331.539,352.23C 331.72,353.559 332.532,355.217 333.199,356.38C 333.67,357.201 334.941,357.944 335.137,358.871C 335.279,359.541 334.867,360.462 334.583,361.085C 334.162,362.007 332.95,362.886 332.645,363.853C 332.396,364.645 332.224,365.905 332.645,366.621C 333.079,367.357 334.554,367.396 335.148,368.016L340.122,369.86L342.95,371.628L347.192,375.34L349.844,377.991L350.021,385.946L349.491,390.896L346.485,390.719L344.894,391.073L341.182,389.482L338.177,391.426L337.646,394.077L337.292,399.381L336.938,406.276L340.297,411.579L336.761,413.7L331.458,413.17L327.922,415.114L323.15,418.827L320.379,422.439L313.78,425.897L310.067,423.953L306.709,426.782L303.881,428.373L300.522,430.141L297.871,434.383L293.806,438.803L290.093,441.101L283.906,441.808L280.193,442.692L276.835,445.875C 276.835,445.875 273.477,449.41 273.653,450.294C 273.829,451.178 270.647,454.891 270.647,454.891L267.465,457.542L263.223,458.956L263.93,456.835L262.692,451.708L261.101,444.814L260.747,441.101L256.151,439.864L252.085,437.92L247.666,434.03L245.191,431.555L243.776,431.025L239.887,434.383L237.943,437.389L234.053,439.51L230.518,438.98L228.927,435.621L228.043,433.677L225.037,431.733L225.567,428.728L226.452,426.43L230.341,426.607L233.523,429.612L237.059,430.673L236.882,428.022L237.766,426.253L239.357,426.076L240.594,424.485L242.362,422.01L245.368,419.359L246.3,417.816L244.838,416.708L241.832,416.001L238.65,414.586L235.467,411.758L232.639,412.288L229.281,414.056L227.867,411.581L226.098,412.288L222.916,413.702L222.209,411.581L222.209,402.742L221.325,397.086L221.325,390.898L222.916,390.368L226.452,387.009L229.103,385.065L231.224,385.242L232.815,386.656L236.174,386.479L237.588,383.828L237.942,379.232L244.129,372.514L252.438,362.261L252.968,358.548L250.317,356.25L251.201,353.599L255.621,348.649L258.096,345.821L259.687,340.164L260.571,335.922L264.637,332.917L264.814,326.729L263.223,323.193L263.223,317.89L261.101,317.006L257.036,313.647L252.263,308.344L246.904,300.873ZM239.271,307.148L244.482,311.876L246.604,311.699L249.079,314.35L243.952,317.179L244.129,318.24L247.488,316.826L250.846,321.952L248.195,324.251L245.897,329.73L245.72,331.674L243.951,336.447L246.427,336.624L246.957,334.856L248.725,334.679L249.962,335.386L249.078,337.684L249.078,341.573L248.017,345.463L245.896,347.584L242.89,347.584L239.001,345.993L236.173,344.225L233.874,346.7L231.576,347.937L229.455,347.583L224.505,345.462L219.909,342.104L221.5,341.042L217.435,338.037L215.485,336.477L214.965,325.305ZM215.49,357.837L213.546,361.02L214.076,363.848L216.374,365.616L218.143,364.025L219.027,360.49L218.85,357.484ZM224.329,360.49L226.981,360.844L229.279,362.435L227.335,365.263L225.036,366.324L223.975,364.733ZM227.512,359.605L231.401,354.656L233.522,350.943L232.815,349.352L234.406,348.468L236.705,351.474L239.887,354.656L240.948,356.247L238.12,361.551L236.176,364.556L234.054,364.202L231.756,361.904Z\", \"type\": \"path\"}, {\"fillcolor\": \"PaleTurquoise\", \"line\": {\"color\": \"LightSeaGreen\"}, \"path\": \"M394.357,95.13L397.287,96.44L397.755,100.802L400.092,100.49L401.961,102.827L405.232,102.204L406.946,100.49L406.323,95.66L408.938,93.623L410.5,91.862L411.347,89.747L411.981,88.478L414.096,88.69L415.999,87.21L415.999,86.152L415.576,85.306L413.884,84.671L413.673,82.345L415.576,80.442L415.788,79.172L414.308,78.961L411.981,80.652L409.867,81.71L407.052,82.834L403.947,83.18L401.453,84.371L398.024,88.055L397.278,92.205Z\", \"type\": \"path\"}, {\"fillcolor\": \"PaleTurquoise\", \"line\": {\"color\": \"LightSeaGreen\"}, \"path\": \"M91.214,484.048L98.351,487.142L94.631,494.161L88.746,490.774L86.09,489.712L86.444,486.53L82.555,484.762L80.08,483.701L81.141,479.635L85.913,481.049ZM73.955,497.541L72.752,497.498L70.214,499.824L69.58,505.111L68.31,506.591L66.83,509.552L66.83,512.936L68.522,515.051L68.733,518.646L67.675,520.761L65.349,521.819L61.754,523.088C 61.754,523.088 59.216,523.3 57.946,523.723C 56.677,524.146 56.043,524.358 56.043,524.358L54.14,526.049L52.026,526.261L48.853,526.049L47.373,525.838L45.47,526.472L43.99,528.164L42.721,530.067L41.663,531.547L38.914,532.182L36.799,535.565L36.164,537.469L38.067,538.526L39.97,539.161L40.605,540.641L40.394,544.237L39.124,547.409L37.644,550.793L37.221,553.119L41.45,552.908L45.68,553.754L49.909,554.812L51.812,551.639L53.504,550.16L54.984,549.948L57.733,550.794L62.385,551.006L66.192,551.852L69.577,552.275L71.903,551.217L73.806,549.526L76.767,547.834L79.516,546.565L82.265,544.662L85.226,541.278L87.764,538.317L90.725,534.933L92.84,532.818L96.224,531.972L99.185,530.492L102.78,529.012L105.741,527.532L107.433,524.994L108.913,523.303L108.701,520.765L108.489,518.862L106.586,517.804L105.317,517.804L104.894,519.073L102.991,519.708L100.03,519.708L98.127,517.805L94.954,515.479L93.032,511.508L88.398,506.385L87.71,506.037L83.257,503.328L78.13,500.323Z\", \"type\": \"path\"}, {\"fillcolor\": \"PaleTurquoise\", \"line\": {\"color\": \"LightSeaGreen\"}, \"path\": \"M284.856,260.622C 284.856,260.622 283.252,260.958 282.549,261.054C 281.855,261.149 280.906,261.113 280.223,261.265C 279.498,261.427 278.569,261.796 277.897,262.112C 277.098,262.486 276.107,263.126 275.359,263.592C 274.583,264.076 273.529,264.703 272.821,265.283C 272.197,265.795 271.38,266.524 270.918,267.186C 270.398,267.931 270.043,269.117 269.649,269.936C 269.28,270.703 268.749,271.707 268.379,272.473C 267.985,273.292 267.11,275.223 267.11,275.2L272.297,280.037L254.551,294.302L246.879,300.86L239.277,307.143L214.965,325.429L212.485,317.533L209.834,315.589L209.127,308.341L205.944,306.397L207.358,302.331L205.06,296.852L201.878,298.089L196.574,303.038L190.034,307.281L186.321,312.053L178.543,314.174L172.887,316.826L163.695,322.836L147.262,325.168C 147.979,322.076 147.407,318.368 147.407,318.368L148.042,312.234L145.504,309.908L142.755,306.101L140.217,302.929L144.024,297.218L149.735,290.873L152.907,287.489L154.598,287.913L157.348,286.855L162.0,285.163L167.711,283.049L173.844,280.722L176.593,279.242L182.303,279.031L184.207,277.761L187.167,273.109L190.128,267.187L193.512,265.284L196.05,265.073L198.588,264.015L198.8,262.112L198.165,260.209L195.627,259.362L195.627,257.459L196.473,255.556L199.857,255.556L200.915,253.865L201.761,252.173L202.185,249.212L203.242,248.366L207.05,248.578L210.434,247.731L211.28,245.828L209.377,241.809L210.326,241.535C 210.93,241.155 211.758,240.656 212.263,240.151C 212.768,239.646 213.122,238.698 213.647,238.213C 214.002,237.885 214.56,237.494 215.031,237.383C 216.085,237.134 217.588,237.954 218.629,237.659C 219.716,237.351 220.746,236.091 221.673,235.445C 222.902,234.59 224.628,233.578 225.824,232.677C 226.954,231.827 228.37,230.577 229.422,229.633C 231.213,228.025 234.285,226.312 235.227,224.156L239.856,224.077L242.427,226.852L244.141,230.581L244.608,236.501L243.517,240.708L241.336,243.512L241.959,247.251L245.542,245.693L248.97,244.135L253.332,241.953L258.474,239.46L266.887,238.37L272.807,238.214L274.521,239.305L281.533,243.044L288.076,247.406L289.011,250.677L288.699,254.416L287.764,259.246Z\", \"type\": \"path\"}, {\"fillcolor\": \"PaleTurquoise\", \"line\": {\"color\": \"LightSeaGreen\"}, \"path\": \"M684.342,337.91L687.729,338.286L691.492,339.133L692.715,341.955L696.478,341.955L700.618,340.167L703.722,339.227L710.778,337.816L714.634,336.405L717.268,333.584L717.926,330.48L719.243,325.588C 719.243,325.588 721.125,322.014 721.219,321.637C 721.313,321.261 722.066,318.533 722.066,318.533L724.888,316.84L727.804,316.558L730.72,317.969L732.789,321.261L734.105,323.519L735.893,324.553L737.585,323.237L740.314,320.979L742.948,318.063L744.83,316.276L747.464,315.523L752.449,315.335L754.801,315.993L756.024,312.606L757.624,310.537L760.352,307.433L763.081,304.612L766.132,303.911L769.979,308.02L771.094,307.412L772.918,306.094L774.945,305.79L777.479,305.892L780.318,306.906L784.068,307.818L789.745,308.528L796.232,308.933L800.49,309.947L803.632,311.163L808.498,313.799L811.944,315.523L812.654,314.915L813.566,313.394L813.768,311.468L813.059,309.035L816.607,308.933L816.505,306.703L815.491,304.676L815.795,301.635L817.519,297.378L821.269,293.222L825.223,286.329L826.439,283.592L828.568,282.578L831.978,280.734C 831.371,279.82 830.226,278.851 829.591,277.951C 829.036,277.164 828.408,276.036 827.999,275.165C 827.131,273.317 826.497,270.634 825.61,268.796C 824.702,266.914 822.859,264.741 822.027,262.824C 821.681,262.026 821.713,260.762 821.287,260.07L823.997,261.365L827.586,261.216L828.782,259.87L829.978,257.926L833.716,258.075L836.408,260.019L837.305,261.813L840.146,262.113L843.884,260.916L845.231,259.72L846.876,258.973L850.615,259.87L854.353,260.318L857.792,258.972L865.867,260.766L871.55,264.056L878.729,265.252L884.113,265.851L889.496,268.542L893.086,272.132L896.974,273.926L900.563,274.823L906.844,271.832L907.443,275.122L908.938,277.814L909.835,281.104L908.04,283.497L906.246,289.777L907.142,292.171L907.442,296.657L907.142,298.75L908.638,300.246L912.825,302.34L918.807,306.228L922.396,308.322L929.874,307.425L934.061,311.911L937.95,312.51L943.931,316.099L946.922,322.08L949.315,324.772L953.801,324.473L956.194,328.66L967.56,329.259L972.644,327.165L976.832,323.276L980.72,321.183L987.899,321.482L988.198,311.013L989.693,308.023L990.292,304.134L992.386,302.04L994.779,303.536L998.069,304.134L1003.154,304.134L1006.144,302.04L1006.444,298.451L1005.845,295.76L1007.939,295.46L1010.332,291.871L1012.127,287.086L1013.023,282.301L1017.211,280.506L1021.697,279.31L1023.791,279.909L1029.474,286.189L1029.578,290.354C 1030.058,290.629 1031.006,290.385 1031.636,290.629C 1032.916,291.128 1033.749,293.185 1035.013,293.726C 1036.181,294.225 1038.028,293.618 1039.236,294.007C 1039.994,294.252 1040.896,294.881 1041.488,295.414C 1042.203,296.06 1043.049,297.077 1043.458,297.948C 1043.79,298.652 1043.86,299.719 1044.021,300.481C 1044.199,301.324 1044.584,303.295 1044.584,303.295L1044.76,303.533C 1044.76,303.533 1044.372,304.54 1044.021,304.984C 1043.612,305.501 1042.742,305.874 1042.333,306.391C 1041.746,307.131 1041.312,308.344 1040.925,309.205C 1040.553,310.035 1040.079,311.154 1039.799,312.019C 1039.478,313.013 1039.147,314.371 1038.955,315.397C 1038.83,316.067 1038.929,317.018 1038.673,317.649L1039.794,320.133L1039.346,323.423L1039.945,325.366L1039.645,327.76L1038.749,331.648L1036.954,334.789L1035.907,337.78L1036.056,340.322L1034.411,342.565L1032.168,344.06L1030.373,345.706L1029.925,347.949L1030.523,351.388L1032.169,353.781L1034.112,356.922L1033.963,358.417L1030.973,360.063L1027.084,362.456L1024.542,364.699L1023.943,366.344L1024.84,368.587L1026.635,369.933L1027.382,372.176L1020.802,378.457L1019.456,380.103L1019.905,386.383L1021.101,388.029L1022.596,393.712L1023.493,396.853L1025.287,398.049L1028.129,397.6L1032.914,396.404L1037.551,398.199L1039.494,400.592L1042.784,404.181L1042.933,411.06L1042.037,416.294L1040.391,419.733L1039.344,423.471L1036.653,427.21L1033.961,426.91L1032.018,425.714L1028.428,424.817L1023.195,425.266L1020.353,424.369L1014.221,424.07L1011.38,425.117L1003.902,425.266L1003.304,423.322L1002.108,421.079L1000.761,418.089L997.92,416.443L993.732,416.144L992.087,415.545L990.292,413.9L990.591,411.208L992.984,409.265L992.835,405.826L992.387,404.18L990.293,401.489L989.246,398.647L988.798,397.301L986.106,397.152L985.209,399.096L985.209,400.143L984.313,401.788L982.817,401.788L980.275,400.741L978.032,400.592L974.742,401.489L973.845,403.583L971.303,404.33L969.657,405.976L965.769,407.172L964.722,407.77L962.031,407.172L958.741,407.77L957.245,411.06L957.993,415.846L955.002,417.192L952.759,419.136L951.863,422.276L947.226,427.061L946.628,429.753L946.628,434.389L946.329,438.127L945.432,439.773L943.637,443.212L944.385,449.044L945.132,451.437L944.385,453.831L944.085,458.167L946.329,461.457L948.123,464.896L950.067,465.345L952.908,466.691L955.151,466.392L959.189,465.943C 959.189,465.943 960.984,465.644 962.031,465.196C 963.078,464.747 965.47,463.85 965.47,463.85L966.217,465.793L967.264,468.036L969.956,471.027L970.703,473.27L970.105,474.616L966.216,477.607L963.375,478.803L961.58,480.448L961.431,481.047L960.587,484.6L959.529,488.619L958.26,492.638L958.895,496.022L961.009,500.463L963.97,504.482L966.508,506.596L969.469,510.403L971.372,513.787L973.487,517.594L969.891,521.402L965.45,527.112L963.547,527.535L960.163,527.323L956.356,526.266L952.972,526.477L951.28,528.803L950.222,530.073L948.953,528.593L946.838,527.113L947.05,523.306L947.685,518.019L946.627,514.212L941.974,511.039L936.476,508.713L934.784,507.655L935.207,503.426L935.207,500.253L933.727,498.35L933.516,494.121L934.996,493.486L934.573,488.834L930.765,485.238L928.862,482.489L926.959,479.739L924.845,477.836L922.307,479.106L919.558,480.586L915.962,479.739L912.578,480.586L909.617,482.066L907.714,483.123L905.176,484.181L898.831,484.181L894.812,485.451L893.121,488.623L890.583,490.315L888.257,491.795L885.931,492.218L881.278,489.892L877.894,487.777L874.51,489.892L873.03,492.218L872.607,498.14L872.819,501.312L871.761,504.273L869.858,505.753L868.378,505.118L864.359,504.272L859.918,505.963L855.266,507.233L852.093,507.656L849.556,506.81L844.692,506.598L841.308,504.695L835.174,501.734L832.002,498.562L829.253,494.755L828.406,492.005L826.715,487.141L823.965,485.238L820.37,482.912L816.986,481.009L817.832,478.048L818.255,473.184L815.506,467.474L814.448,463.878L814.448,459.226L814.871,455.842L816.563,451.401L817.62,445.691L817.409,442.095L815.506,439.557L810.642,439.134L808.95,440.614L806.201,443.786L805.778,446.959L804.086,449.497L803.663,450.555L800.914,449.92L799.222,448.017L795.415,444.844L795.415,442.095L795.204,439.134L791.608,437.865L785.475,438.711L780.399,439.557L775.747,441.46L772.574,444.844L772.786,448.44L773.42,453.727L772.363,456.053L768.979,458.168L766.652,460.283L766.864,465.146L774.266,471.703L774.266,480.797L774.9,486.719L776.803,490.103L777.227,496.66L774.689,501.735L770.67,509.983L766.651,514.847L766.228,522.037L766.017,524.364L763.902,525.421L760.729,527.959L760.306,530.285L758.403,533.246L756.923,534.516L754.597,538.534L753.962,541.918L753.751,544.668L748.712,545.56L744.833,541.857L740.693,536.025L737.119,532.638L732.227,529.064L731.474,525.3L732.227,520.221L730.345,515.141L727.335,510.062L726.018,506.487L727.711,503.477L729.404,498.585L729.216,493.317L730.344,490.307L732.602,488.425L734.671,485.038L733.542,479.206L733.73,474.879L735.235,470.928L735.799,467.918L732.977,464.531L732.225,461.145L734.106,457.382L734.577,452.113L731.285,448.445L727.805,447.316L725.641,447.128L722.349,443.836L719.903,440.167L717.175,433.959L716.799,428.973L717.646,421.731L719.809,420.131L722.819,416.933L722.255,414.864L721.221,414.3L717.364,413.36L714.26,409.315L712.378,407.433L707.863,408.75L704.1,408.373L703.536,406.021L703.159,402.823L702.689,398.12L702.125,394.922L701.467,395.674L699.774,396.898L693.847,397.368L690.555,400.002L689.426,402.448L691.402,406.493L692.249,408.186L692.154,410.82L689.615,413.265L686.886,415.147L684.158,416.37L680.301,417.028L676.445,418.063L674.469,418.063L672.964,417.216L669.201,420.038L665.814,419.474L662.522,417.592L660.264,416.369L655.655,415.522L652.081,416.275L648.467,416.111L644.343,414.249L640.418,413.366L641.733,407.15L638.346,402.071L635.525,398.308L635.525,392.099L637.97,388.712L639.851,387.583L637.782,383.068L637.406,380.81L639.099,377.236L641.921,375.543L647.0,375.355L650.387,371.781L654.526,369.523L656.031,364.443L656.595,361.809L659.982,361.433L661.864,364.631L665.438,364.819L668.26,362.185L669.2,357.858L672.398,354.66L673.903,350.333L672.587,345.441L674.656,343.748L677.478,342.431L680.299,342.055L684.391,337.893\", \"type\": \"path\"}, {\"fillcolor\": \"PaleTurquoise\", \"line\": {\"color\": \"LightSeaGreen\"}, \"path\": \"M861.615,151.858C 861.503,151.497 861.254,151.051 861.053,150.732C 860.539,149.917 859.787,148.854 859.082,148.198C 858.859,147.991 858.382,147.904 858.237,147.636C 857.959,147.115 858.173,146.253 858.237,145.665C 858.323,144.892 858.74,143.908 858.8,143.132C 858.905,141.782 858.777,139.957 858.519,138.628C 858.213,137.056 856.746,135.162 856.83,133.562C 856.884,132.543 858.296,131.485 858.237,130.466C 858.21,129.974 857.675,129.462 857.393,129.058C 857.084,128.615 856.729,127.932 856.267,127.651C 855.532,127.204 854.239,127.44 853.452,127.089C 852.681,126.744 851.868,125.917 851.201,125.4C 850.773,125.069 850.325,124.37 849.793,124.274C 849.53,124.227 849.199,124.464 848.949,124.556C 848.521,124.712 847.988,125.033 847.542,125.118C 847.459,125.134 847.345,125.118 847.26,125.118C 846.838,125.118 846.228,125.311 845.853,125.118C 845.207,124.786 844.858,123.746 844.446,123.147C 844.273,122.897 844.041,122.563 843.883,122.303C 843.336,121.397 842.828,120.054 842.195,119.206C 841.694,118.537 840.793,117.849 840.224,117.235C 839.696,116.664 838.905,115.951 838.536,115.265C 838.245,114.723 837.973,113.294 837.995,113.378L830.128,98.357L818.688,91.485L807.079,107.618L805.457,108.935L802.518,111.672L799.375,112.989L798.361,116.435L797.651,119.679L796.029,119.071L792.989,118.159L792.482,115.625L789.846,111.976L787.514,111.571L784.676,109.037L784.98,108.732L785.893,106.806L784.169,106.401L785.386,103.968L782.649,102.447L781.534,103.562L778.899,103.866L775.959,104.373L773.73,104.778L772.513,106.907L770.384,108.022L769.27,108.529L769.067,109.745L771.905,110.353L773.527,109.542L776.163,109.339L778.697,112.278L779.609,116.637L780.014,118.765L777.176,119.982L773.02,120.489L768.864,122.111L766.026,123.327L762.681,123.023L758.93,120.387L756.903,119.171L752.545,119.576L751.126,118.055L750.416,116.23L748.895,116.129L746.666,115.521L742.915,112.378L741.8,115.622L738.151,119.068L735.415,119.98L730.043,120.487L727.103,118.763L725.177,116.736L720.717,114.608L717.778,114.101L714.94,115.418L711.087,116.33L709.364,118.155L709.262,120.588L711.188,123.933L713.012,125.251L716.865,128.292L718.386,129.305L717.879,133.36L716.561,135.59L712.608,135.59L707.438,136.198L706.324,137.719L705.411,142.686L703.384,144.409L702.27,147.653L701.648,149.749L700.429,150.25L699.068,152.042L697.14,153.11L698.186,155.512L700.749,160.991L703.843,165.852L704.639,171.686L703.755,175.575L699.601,176.282L696.684,179.022L694.651,181.32L695.27,183.353L696.684,182.912L697.125,184.06L695.446,187.773L695.534,190.778L689.789,192.281L685.132,193.901L682.944,195.526L681.382,196.464L679.132,196.464L675.132,195.902L672.882,194.652L670.32,194.09L667.945,194.84L666.007,196.84L664.757,198.902L665.257,200.59L665.351,205.121L673.632,208.527L686.032,208.545L693.854,207.176L699.378,205.187L701.146,206.999L702.782,207.972L703.003,215.927L703.666,218.269L706.185,217.828L709.092,218.558C 709.622,220.52 712.052,222.271 713.563,223.632C 716.575,226.346 721.272,229.114 724.541,231.514C 725.222,232.013 726.074,232.758 726.793,233.202C 727.757,233.798 729.06,234.67 730.171,234.891C 731.333,235.121 732.81,234.077 733.953,233.763C 734.863,233.513 737.19,232.884 737.19,232.884L749.912,236.754L749.912,239.795L750.115,243.241L750.52,250.945L750.722,253.681L747.58,257.736L745.046,258.649L741.498,259.763L740.484,260.371L740.179,262.297L740.889,264.324L742.206,266.048L744.842,266.859L750.113,267.164L752.342,266.15L754.471,265.035L756.802,264.325L758.829,265.035L761.566,266.961L762.58,271.928L763.897,279.125L764.303,289.464L762.073,292.1L761.262,293.012L763.39,294.837L765.215,296.966L766.836,300.614L766.114,303.947L769.978,308.014L771.093,307.406L772.917,306.088L774.944,305.784L777.478,305.886L780.317,306.9L784.067,307.812L789.744,308.522L796.231,308.927L800.489,309.941L803.631,311.157L808.497,313.793L811.943,315.517L812.653,314.909L813.565,313.388L813.767,311.462L813.058,309.029L816.606,308.927L816.504,306.697L815.49,304.67L815.794,301.629L817.518,297.372L821.268,293.216L825.222,286.323L826.438,283.586L828.567,282.572L831.977,280.728C 831.37,279.814 830.225,278.845 829.59,277.945C 829.035,277.158 828.407,276.03 827.998,275.159C 827.13,273.311 826.496,270.628 825.609,268.79C 824.701,266.908 822.858,264.735 822.026,262.818C 821.68,262.02 821.712,260.756 821.237,260.029C 820.709,259.324 819.501,259.158 819.24,258.439C 819.014,257.819 819.3,256.826 819.676,256.284C 820.13,255.629 821.363,255.437 821.928,254.876C 822.709,254.101 823.253,252.672 823.899,251.78C 824.602,250.807 825.869,249.743 826.432,248.683C 826.846,247.905 827.054,246.721 827.276,245.869C 827.473,245.115 827.755,244.109 827.839,243.336C 827.941,242.412 827.997,241.154 827.839,240.239C 827.625,239.002 826.876,237.472 826.432,236.299C 826.11,235.448 825.627,234.334 825.306,233.484C 824.862,232.31 824.373,230.706 823.899,229.544C 823.442,228.425 822.552,227.044 822.21,225.885C 822.041,225.313 822.044,224.5 821.929,223.914C 821.728,222.89 821.314,221.556 821.084,220.536C 820.896,219.696 820.677,218.568 820.522,217.722C 820.336,216.711 820.083,215.364 819.959,214.344C 819.826,213.251 819.567,211.781 819.678,210.685C 819.74,210.074 819.959,209.261 820.24,208.714C 820.736,207.753 821.844,206.765 822.492,205.9C 823.11,205.075 823.868,203.927 824.463,203.086C 825.302,201.899 826.51,200.378 827.277,199.145C 827.937,198.087 828.877,196.676 829.248,195.486C 829.476,194.757 829.453,193.714 829.529,192.953C 829.623,192.025 829.468,190.724 829.811,189.857C 830.164,188.961 831.019,187.912 831.781,187.323C 832.291,186.93 833.219,186.84 833.752,186.479C 834.444,186.01 835.291,185.224 835.723,184.508C 836.315,183.524 836.522,181.95 836.848,180.849C 837.024,180.259 837.124,179.422 837.411,178.878C 837.72,178.295 838.273,177.562 838.818,177.19C 839.259,176.889 840.059,176.918 840.507,176.627C 841.66,175.88 842.879,174.418 843.603,173.25C 844.222,172.25 844.501,170.65 845.01,169.59C 845.518,168.533 846.453,167.261 846.981,166.213C 847.559,165.064 848.044,163.396 848.669,162.272C 849.171,161.372 850.088,160.328 850.64,159.458C 851.004,158.883 851.445,158.088 851.766,157.487C 852.122,156.821 852.213,155.567 852.892,155.235C 853.279,155.047 853.871,155.474 854.299,155.517C 855.308,155.617 856.666,155.588 857.677,155.517C 858.273,155.474 859.086,155.44 859.648,155.235C 860.396,154.962 861.564,154.55 861.9,153.828C 862.148,153.286 861.793,152.427 861.615,151.858ZM807.683,111.774L809.407,108.632L811.637,107.01L814.07,107.922L816.908,110.152L816.503,111.773L814.982,114.916L812.245,117.045L809.711,116.538L807.583,114.713ZM843.008,138.34L841.192,139.871L837.571,141.19L835.001,143.218L831.001,144.093L829.251,145.968L827.668,146.961L824.929,146.588L822.366,146.323L819.627,146.234L818.563,146.927L817.377,150.092L815.752,154.217L815.752,156.467L817.002,158.967L817.418,161.266L818.301,165.591L818.213,170.452L816.887,177.788L814.766,183.445L811.142,188.306L804.867,194.405L802.038,196.526L797.619,199.089L796.116,199.973L792.669,199.884L789.752,198.736L783.577,194.924L780.878,197.091L776.753,194.966L771.753,191.716L769.253,189.716L766.878,191.216L763.878,191.716L760.503,191.216L757.503,189.716L754.378,187.841L757.128,181.966L755.253,181.091L754.128,175.716L754.503,173.091L757.753,170.466L759.253,168.966L756.253,166.466L753.878,168.216L753.128,167.591L753.128,165.091L750.878,162.716L750.753,161.091L753.378,159.716L756.003,156.966L756.628,153.966L756.878,152.091L759.878,150.091L762.628,147.341L766.878,146.591L772.253,146.216L777.628,144.841L781.128,142.341L785.628,141.591L790.128,141.716L791.753,141.716L796.753,140.841L800.503,139.091L802.878,139.091L804.253,134.466L808.628,133.591L813.378,132.216L818.378,129.966L821.628,126.341L824.378,123.716L827.878,123.841L831.128,126.216L835.253,128.466L839.753,129.966L844.753,132.716L846.878,133.966Z\", \"type\": \"path\"}, {\"fillcolor\": \"PaleTurquoise\", \"line\": {\"color\": \"LightSeaGreen\"}, \"path\": \"M695.696,303.747L686.512,308.87L680.678,310.638L679.176,311.787L678.115,313.731L676.523,314.968L675.816,306.659L672.988,308.427L672.015,306.218L672.9,302.947L673.254,299.853L672.016,297.82L668.834,296.848L666.359,297.202L665.21,298.086L663.266,299.588L661.852,299.765L659.819,297.821L658.671,297.38L655.047,298.441L652.484,299.855L649.213,303.037L647.18,303.833L644.705,305.07L643.202,302.419L643.556,300.032L642.672,292.961L636.839,294.464L634.01,294.905L632.439,294.719L629.251,293.531L624.376,293.906L623.876,288.094L623.501,282.719L621.376,279.469L619.003,280.27L611.824,282.973L604.135,284.21L594.943,281.381L594.434,278.826L596.204,277.948L599.472,278.383L600.752,277.972L601.849,276.875L601.665,270.203L600.111,269.426L598.512,268.466L596.866,266.639L593.895,263.988L592.308,261.976L590.627,261.524L589.205,261.847L586.62,261.976L583.567,261.337L579.546,260.423L577.261,258.869L576.804,258.229L578.266,256.675L579.637,255.121L580.643,252.653L580.734,251.923L584.298,248.632L588.229,243.696L589.965,242.417L591.877,241.142L594.44,239.872L597.284,238.321L598.964,237.933L600.386,242.844L601.291,245.041L602.971,245.687L606.978,247.238L609.434,246.204L612.407,245.946L616.026,245.816L616.801,249.177L619.516,249.306L622.101,248.013L624.169,246.462L626.495,245.687L627.917,244.783L631.407,245.687L634.251,246.204L635.414,245.429L635.543,244.137L635.802,241.422L637.094,239.742L639.033,238.32L640.325,236.123L641.101,231.986L643.039,227.204L642.78,225.911L641.996,223.208L641.53,221.561L640.374,219.123L640.562,217.217L642.624,215.717L644.749,213.092L646.187,210.404L646.937,208.842L649.187,208.592L658.669,205.454L665.382,205.1L673.624,208.53L686.024,208.548L693.846,207.179L699.37,205.19L701.138,207.002L702.774,207.975L702.995,215.93L703.658,218.272L706.177,217.831L709.119,218.555L708.255,220.306L701.184,235.686L703.305,237.896L704.101,240.812L703.482,242.404L701.891,243.199L699.77,245.055L699.416,246.558L700.831,247.795L702.686,248.149L704.189,248.59L701.979,254.601L699.187,259.72L694.875,263.658L692.25,263.47L690.312,263.095L688.437,263.283L688.749,268.158L687.311,269.283L688.561,270.971L689.999,272.346L691.437,274.908L692.062,276.096L693.0,275.784L693.438,277.096L695.626,279.658L696.938,280.908L695.688,282.533L696.626,284.033L699.064,287.221L702.189,289.971L703.925,291.106L701.981,292.698L700.833,294.553L700.656,296.144L700.921,297.47L701.54,299.061L702.247,299.768L699.772,300.83L698.976,302.155Z\", \"type\": \"path\"}, {\"fillcolor\": \"PaleTurquoise\", \"line\": {\"color\": \"LightSeaGreen\"}, \"path\": \"M783.594,195.0L782.75,190.219L780.875,185.594L778.5,183.594L776.375,179.344L777.5,172.969L778.25,167.094L781.375,163.594L785.5,159.969L787.25,157.219L786.125,155.719L784.625,152.094L787.125,151.344L790.625,150.594L794.5,152.219L800.75,154.719L805.875,156.969L807.875,160.969L810.625,162.219L814.0,162.094L817.404,161.306L818.299,165.593L818.211,170.454L816.885,177.79L814.764,183.447L811.14,188.308L804.865,194.407L802.036,196.528L797.617,199.091L796.114,199.975L792.667,199.886L789.75,198.738ZM843.016,138.344L840.032,135.813L836.626,133.157L833.782,132.063L829.97,133.157L830.251,136.345L833.001,138.283L835.22,139.814L837.613,141.194L841.193,139.873ZM827.683,146.915L827.469,144.125L832.25,141.594L830.188,139.813L828.032,136.469L826.938,134.469L825.313,135.125L822.5,136.0L821.219,136.969L820.031,138.531L822.781,140.469L821.687,141.907L819.312,143.126L817.75,145.095L818.547,146.973L819.625,146.237L822.364,146.326L824.927,146.591Z\", \"type\": \"path\"}, {\"fillcolor\": \"PaleTurquoise\", \"line\": {\"color\": \"LightSeaGreen\"}, \"path\": \"M843.008,138.348L840.031,135.813L836.625,133.157L833.781,132.063L829.969,133.157L830.25,136.345L833.0,138.283L835.219,139.814L837.615,141.187L835.0,143.219L831.0,144.094L829.25,145.969L827.672,146.922L827.469,144.125L832.25,141.594L830.188,139.813L828.032,136.469L826.938,134.469L825.313,135.125L822.5,136.0L821.219,136.969L820.031,138.531L822.781,140.469L821.687,141.907L819.312,143.126L817.75,145.095L818.545,146.958L817.375,150.095L815.75,154.22L815.75,156.47L817.0,158.97L817.405,161.313L814.0,162.094L810.625,162.219L807.875,160.969L805.875,156.969L800.75,154.719L794.5,152.219L790.625,150.594L787.125,151.344L784.625,152.094L786.125,155.719L787.25,157.219L785.5,159.969L781.375,163.594L778.25,167.094L777.5,172.969L776.375,179.344L778.5,183.594L780.875,185.594L782.75,190.219L783.605,194.99L780.875,197.094L776.75,194.969L771.75,191.719L769.25,189.719L766.875,191.219L763.875,191.719L760.5,191.219L757.5,189.719L754.375,187.844L757.125,181.969L755.25,181.094L754.125,175.719L754.5,173.094L757.75,170.469L759.25,168.969L756.25,166.469L753.875,168.219L753.125,167.594L753.125,165.094L750.875,162.719L750.75,161.094L753.375,159.719L756.0,156.969L756.625,153.969L756.875,152.094L759.875,150.094L762.625,147.344L766.875,146.594L772.25,146.219L777.625,144.844L781.125,142.344L785.625,141.594L790.125,141.719L791.75,141.719L796.75,140.844L800.5,139.094L802.875,139.094L804.25,134.469L808.625,133.594L813.375,132.219L818.375,129.969L821.625,126.344L824.375,123.719L827.875,123.844L831.125,126.219L835.25,128.469L839.75,129.969L844.75,132.719L846.875,133.969Z\", \"type\": \"path\"}, {\"fillcolor\": \"PaleTurquoise\", \"line\": {\"color\": \"LightSeaGreen\"}, \"path\": \"M696.473,63.903C 696.473,63.903 695.017,64.664 694.133,64.88C 693.309,65.082 692.163,65.237 691.319,65.162C 690.707,65.106 689.909,64.85 689.348,64.599C 688.344,64.148 687.253,63.086 686.252,62.628C 685.45,62.262 684.277,62.05 683.437,61.784C 682.673,61.542 681.604,61.329 680.904,60.939C 680.328,60.618 679.719,59.958 679.216,59.532C 678.621,59.029 677.845,58.34 677.245,57.843C 676.829,57.498 676.266,57.048 675.838,56.717C 675.504,56.459 675.093,56.055 674.712,55.873C 674.083,55.573 673.155,55.352 672.46,55.31C 671.78,55.269 670.888,55.549 670.208,55.591C 669.365,55.644 668.23,55.703 667.394,55.591C 666.44,55.464 665.205,55.07 664.297,54.747C 663.514,54.468 662.47,54.06 661.764,53.621C 661.204,53.272 660.678,52.481 660.076,52.214C 659.53,51.971 658.689,52.057 658.105,51.932C 657.503,51.804 656.713,51.576 656.134,51.37C 655.529,51.154 654.765,50.754 654.164,50.525C 653.914,50.43 653.584,50.276 653.319,50.244C 652.226,50.109 650.755,50.405 649.66,50.525C 649.066,50.59 648.274,50.924 647.689,50.806C 647.207,50.709 646.746,50.126 646.282,49.962C 645.72,49.762 644.885,49.514 644.311,49.68C 643.564,49.898 643.007,50.966 642.341,51.369C 641.951,51.604 641.341,51.729 640.933,51.931C 640.493,52.15 640.015,52.836 639.508,52.748L637.456,55.549L637.015,57.405L638.517,60.763L640.375,63.656L642.187,64.656L644.187,65.781L648.562,66.656L652.75,66.781L655.688,64.906L657.25,63.281L658.25,62.531L659.25,61.031L659.812,59.969L660.374,60.157L664.249,60.595L664.249,61.533L666.749,62.783L669.811,63.908L672.623,64.72L673.311,65.595L669.061,73.345L665.123,78.783L663.154,77.533L663.279,76.721L658.591,75.971L656.0,76.125L654.844,77.125L654.625,78.969L655.001,80.386L655.852,82.894C 656.651,82.952 657.608,82.243 658.385,82.05C 658.884,81.926 659.561,81.748 660.074,81.769C 661.466,81.824 663.287,82.37 664.558,82.888L664.856,87.193L667.773,89.137L671.55,90.299L674.374,92.844L675.624,94.469L675.374,95.469L671.749,95.594L672.249,98.219L673.249,100.469L674.874,101.469L677.499,101.344L679.499,100.719L681.874,101.969L686.249,103.969L686.874,107.469L685.749,113.844L683.999,117.844L683.374,122.094L685.98,126.967L685.803,129.884L686.864,132.801L688.632,134.392L690.046,135.54L687.307,136.513L686.07,139.784L684.291,142.603C 685.896,142.845 687.982,143.534 689.466,144.196C 690.102,144.479 690.823,145.099 691.456,145.39C 692.485,145.863 694.025,146.078 695.039,146.584C 695.883,147.006 697.133,150.376 697.118,153.116L699.06,152.046L700.421,150.254L701.64,149.753L702.262,147.657L703.376,144.413L705.403,142.69L706.316,137.723L707.43,136.202L712.6,135.594L716.553,135.594L717.871,133.364L718.378,129.309L716.857,128.296L713.004,125.255L711.18,123.937L709.254,120.592L709.356,118.159L711.079,116.334L714.932,115.422L717.77,114.105L720.709,114.612L725.169,116.74L727.095,118.767L730.035,120.491L735.407,119.984L738.143,119.072L741.792,115.626L742.907,112.382L746.658,115.525L748.887,116.133L750.408,116.234L751.118,118.059L752.537,119.58L756.895,119.175L758.922,120.391L762.673,123.027L766.018,123.331L768.856,122.115L773.012,120.493L777.168,119.986L780.006,118.769L779.601,116.641L778.689,112.282L776.155,109.343L773.519,109.546L771.897,110.357L769.059,109.749L769.262,108.533L770.376,108.026L772.505,106.911L773.722,104.782L775.951,104.377L778.891,103.87L781.526,103.566L782.641,102.451L785.378,103.972L784.161,106.405L785.885,106.81L784.972,108.736L784.668,109.041L787.506,111.575L789.838,111.98L792.474,115.629L792.981,118.163L796.021,119.075L797.643,119.683L798.353,116.439L799.367,112.993L802.51,111.676L805.449,108.939L807.071,107.622L818.68,91.489L768.956,63.368L754.586,63.087L750.113,63.219L746.674,62.322L743.833,61.425L743.234,59.78L741.14,59.032L734.112,55.742L717.961,53.499L712.129,55.593ZM816.907,110.153L816.502,111.774L814.981,114.917L812.244,117.046L809.71,116.539L807.582,114.714L807.683,111.775L809.407,108.633L811.637,107.011L814.07,107.923Z\", \"type\": \"path\"}, {\"fillcolor\": \"PaleTurquoise\", \"line\": {\"color\": \"LightSeaGreen\"}, \"path\": \"M641.996,223.203L641.528,221.635L640.372,219.197L640.56,217.291L642.622,215.791L644.747,213.166L646.185,210.478L646.935,208.916L649.185,208.666L658.667,205.528L665.343,205.124L665.343,204.968L665.247,200.666L664.747,198.978L665.997,196.916L667.935,194.916L670.31,194.166L672.872,194.728L675.122,195.978L679.122,196.54L681.372,196.54L682.934,195.602L685.122,193.977L689.779,192.357L695.524,190.854L695.436,187.849L697.115,184.136L696.674,182.988L695.26,183.429L694.641,181.396L696.674,179.098L699.591,176.358L703.745,175.651L704.629,171.762L703.833,165.928L700.739,161.067L698.176,155.588L697.122,153.181C 697.13,150.448 695.88,147.077 695.036,146.656C 694.022,146.149 692.482,145.934 691.453,145.462C 690.82,145.171 690.099,144.551 689.463,144.268C 687.98,143.606 685.894,142.917 684.288,142.675L686.067,139.856L687.304,136.585L690.043,135.612L688.629,134.464L686.861,132.873L685.8,129.956L685.977,127.039L683.371,122.166L683.996,117.916L685.746,113.916L686.871,107.541L686.246,104.041L681.871,102.041L679.496,100.791L677.496,101.416L674.871,101.541L673.246,100.541L672.246,98.291L671.746,95.666L675.371,95.541L675.621,94.541L674.371,92.916L671.547,90.371L667.77,89.209L664.853,87.265L664.555,82.96C 663.284,82.441 661.462,81.896 660.071,81.841C 659.557,81.82 658.881,81.998 658.382,82.122C 657.605,82.314 656.648,83.023 655.849,82.966L654.998,80.458L654.622,79.041L654.841,77.197L655.997,76.197L658.591,76.041L663.279,76.791L663.154,77.603L665.123,78.853L669.061,73.415L673.311,65.665L672.623,64.79L669.811,63.978L666.749,62.853L664.249,61.603L664.249,60.665L660.374,60.227L659.812,60.039L659.25,61.101L658.25,62.601L657.25,63.351L655.688,64.976L652.75,66.851L648.562,66.726L644.187,65.851L642.187,64.726L640.375,63.726L638.517,60.833L637.015,57.475L637.456,55.619L639.526,52.846C 639.289,52.817 639.138,52.445 638.963,52.284C 638.476,51.839 637.785,51.294 637.274,50.876C 636.856,50.534 636.295,50.082 635.867,49.75C 635.533,49.492 635.127,49.078 634.741,48.906C 634.348,48.73 633.764,48.64 633.334,48.625C 632.653,48.6 631.756,48.808 631.082,48.906C 630.574,48.98 629.726,48.796 629.394,49.187C 629.23,49.38 629.41,49.779 629.394,50.032C 629.351,50.712 629.21,51.61 629.113,52.284C 629.039,52.792 629.041,53.504 628.831,53.972C 628.611,54.466 627.916,54.881 627.705,55.379C 627.44,56.006 627.392,56.951 627.424,57.631C 627.461,58.408 627.551,59.586 627.952,60.245C 628.33,60.727 629.325,61.013 629.676,61.571C 630.046,62.161 630.189,63.129 630.238,63.823C 630.3,64.67 630.383,65.904 629.957,66.638C 629.593,67.266 628.7,67.909 627.987,68.045C 627.644,68.109 627.195,67.86 626.861,67.764C 626.604,67.689 626.193,67.682 626.016,67.482C 625.731,67.16 625.845,66.491 625.735,66.075C 625.597,65.559 625.706,64.396 625.172,64.387C 624.451,64.373 624.506,65.94 624.327,66.639C 624.18,67.217 624.056,68.012 624.046,68.609C 624.034,69.374 624.142,70.401 624.327,71.142C 624.438,71.583 624.78,72.109 624.89,72.55C 625.076,73.291 625.167,74.319 625.171,75.083C 625.176,75.932 625.149,77.089 624.89,77.897C 624.683,78.545 624.177,79.327 623.764,79.868C 623.256,80.532 622.355,81.219 621.712,81.874C 620.988,82.728 619.827,83.877 619.26,84.935C 618.718,85.948 618.852,87.698 618.134,88.594C 617.709,89.125 616.473,89.114 616.164,89.72C 615.817,90.402 616.509,91.491 616.445,92.253C 616.393,92.866 616.164,93.678 615.882,94.224C 615.634,94.704 615.211,95.339 614.756,95.631C 614.463,95.819 613.939,96.074 613.63,95.912C 612.991,95.577 613.039,94.336 612.786,93.66C 612.532,92.985 612.332,92.015 611.941,91.409C 611.489,90.706 610.663,89.907 609.97,89.438C 609.438,89.078 608.597,88.834 608.0,88.593C 607.33,88.324 606.428,87.989 605.748,87.748C 604.992,87.481 604.005,87.032 603.215,86.904C 602.548,86.796 601.637,86.952 600.963,86.904C 600.367,86.861 599.548,86.402 599.016,86.619C 598.49,86.821 598.322,87.738 597.867,88.03C 596.695,88.782 594.715,88.818 593.363,89.156C 592.35,89.409 591.017,89.838 589.985,90.0C 588.731,90.197 587.033,90.31 585.763,90.282C 584.998,90.264 583.963,90.217 583.23,90.0C 582.686,89.84 582.058,89.388 581.528,89.146L580.223,91.204L580.869,91.947L580.611,95.825L578.284,101.77L574.148,105.906L570.788,108.75L570.788,112.887L568.978,116.247L566.91,122.71L568.72,128.139L570.271,129.431L570.659,131.112L571.177,133.956L572.081,138.997L572.34,139.901L574.537,140.935L578.156,143.003L578.802,146.105L578.027,147.915L571.952,155.153L572.34,157.35L579.191,160.969L578.617,163.555L579.09,171.324L580.8,173.403L582.17,174.524L584.892,175.025L586.867,172.227L587.824,172.673L586.063,175.691L584.301,178.877L581.925,181.528L579.549,182.625L576.263,183.282C 576.669,183.988 577.535,184.99 577.884,185.706C 578.318,186.595 578.705,187.862 579.01,188.803C 579.199,189.387 579.384,190.188 579.573,190.773C 579.878,191.713 580.483,192.905 580.699,193.87C 580.902,194.78 581.173,196.054 580.955,196.956C 580.93,196.946 581.155,197.479 581.262,197.81C 581.542,198.675 581.984,199.81 582.388,200.625C 582.826,201.507 583.617,202.568 584.077,203.439C 584.641,204.507 585.107,206.084 585.756,207.108L590.049,206.984L591.471,208.147L595.348,209.31L598.451,209.052L603.104,208.793L606.206,207.63L608.403,205.692L610.471,204.916L613.702,205.175L617.838,204.916L618.872,205.95L620.165,207.631L622.62,207.243L623.654,209.699L625.076,209.44L626.369,209.957L626.498,212.025L627.016,214.351L627.662,216.419L627.792,218.616L628.567,220.038L629.859,220.555L633.478,220.944L634.383,221.073L635.158,223.917L635.933,224.821L639.036,225.08L641.996,223.203\", \"type\": \"path\"}, {\"fillcolor\": \"PaleTurquoise\", \"line\": {\"color\": \"LightSeaGreen\"}, \"path\": \"M621.639,81.848C 620.834,82.739 619.827,83.807 619.259,84.865C 618.717,85.878 618.851,87.628 618.133,88.524C 617.708,89.055 616.472,89.044 616.163,89.65C 615.816,90.332 616.508,91.421 616.444,92.183C 616.392,92.796 616.163,93.608 615.881,94.154C 615.633,94.634 615.21,95.269 614.755,95.561C 614.462,95.749 613.938,96.004 613.629,95.842C 612.99,95.507 613.038,94.266 612.785,93.59C 612.531,92.915 612.331,91.945 611.94,91.339C 611.488,90.636 610.662,89.837 609.969,89.368C 609.437,89.008 608.596,88.764 607.999,88.523C 607.329,88.254 606.427,87.919 605.747,87.678C 604.991,87.411 604.004,86.962 603.214,86.834C 602.547,86.726 601.636,86.882 600.962,86.834C 600.366,86.791 599.547,86.332 599.015,86.549L599.57,84.248L596.821,84.671L593.86,83.825L592.802,82.555L593.437,80.229L593.86,78.326L594.918,76.0L597.244,74.52L599.147,73.462L601.896,71.982L605.281,70.291L608.03,70.079L609.51,71.348L611.624,72.828L613.528,73.463L615.642,74.521L616.7,76.212L617.335,77.904L616.488,79.384L617.335,80.653L619.238,81.499L620.718,81.711ZM638.762,52.031C 638.276,51.587 637.785,51.223 637.274,50.805C 636.856,50.463 636.295,50.011 635.867,49.679C 635.533,49.421 635.127,49.007 634.741,48.835C 634.348,48.659 633.764,48.569 633.334,48.554C 632.653,48.529 631.756,48.737 631.082,48.835C 630.574,48.909 629.726,48.725 629.394,49.116C 629.23,49.309 629.41,49.708 629.394,49.961C 629.351,50.641 629.21,51.539 629.113,52.213C 629.039,52.721 629.041,53.433 628.831,53.901C 628.611,54.395 627.916,54.81 627.705,55.308C 627.44,55.935 627.392,56.88 627.424,57.56C 627.461,58.337 627.535,59.515 627.945,60.174L626.538,58.657L625.692,57.811L624.106,56.86L622.626,56.331L621.568,56.648L620.088,57.388L617.339,57.283L613.849,57.178L612.263,57.601L611.84,58.447L610.446,59.176L609.549,60.223L607.904,60.822L607.305,62.916L607.904,63.812L607.604,64.261L601.174,64.112L597.884,64.859L597.136,65.906L596.688,66.654L595.641,66.355L595.341,65.308L595.641,63.812L595.341,61.719L594.294,61.12L591.752,61.12L588.611,61.12L586.966,59.625L585.022,58.129L583.227,57.681L583.527,55.288L584.873,52.596L585.172,50.802L584.275,47.96L585.471,45.567L587.714,43.473L589.808,41.529L591.603,39.735L592.799,37.641L593.397,35.398L594.444,33.005L595.341,30.762L596.987,28.967L598.632,27.472L600.576,25.976L602.969,24.78L605.661,24.182L607.604,24.182L609.25,23.733L611.044,22.537L612.839,21.641L615.53,22.239L617.474,22.09L618.82,20.744L618.521,18.8L617.923,17.154L616.876,16.258L617.175,14.314L618.82,13.866L621.662,13.866L625.101,14.762L626.746,15.51L630.036,16.856L629.588,18.502L629.439,19.997L629.588,22.091L630.036,24.035L630.933,26.428L632.429,27.774L634.522,28.222L635.419,27.175L636.766,24.633L635.569,20.445L635.27,18.352L635.569,16.856L637.663,18.651L639.607,20.445L641.253,21.941L642.449,23.137L642.897,24.333L642.897,26.128L642.598,29.118L642.897,30.314L644.841,30.165L645.588,29.118L647.532,28.221L649.476,28.072L652.018,29.268L652.915,31.96L652.018,32.707L650.373,35.101L649.476,37.344L649.924,39.587L651.868,41.232L653.214,43.176L652.915,45.27L651.27,45.569L649.774,45.27L648.578,43.774L647.531,43.027L644.69,42.727L642.596,42.877L640.652,43.176L639.755,44.073L638.708,45.568L639.007,47.213L638.559,49.157L638.26,50.803ZM686.254,62.625C 685.453,62.258 684.277,62.049 683.437,61.783C 682.673,61.541 681.604,61.328 680.904,60.938C 680.328,60.617 679.719,59.957 679.216,59.531C 678.621,59.028 677.845,58.339 677.245,57.842C 676.829,57.497 676.266,57.047 675.838,56.716C 675.504,56.458 675.093,56.054 674.712,55.872C 674.083,55.572 673.155,55.351 672.46,55.309C 671.78,55.268 670.888,55.548 670.208,55.59C 669.365,55.643 668.23,55.702 667.4,55.59L668.318,53.793L668.916,52.148L669.963,50.204L670.412,48.709L669.365,47.513L667.869,46.616L666.075,46.317L664.579,45.718L663.683,44.522L664.131,43.326L663.982,41.831L665.328,40.784L666.824,39.588L668.02,38.84L669.066,38.541L670.562,38.84L670.711,39.588L671.459,41.233L672.506,41.682L674.3,42.578L676.843,43.475L678.039,43.774L680.432,44.522L682.526,46.168L684.171,47.064L684.619,48.56L683.872,49.158L682.676,49.458L681.33,49.158L680.133,50.354L680.133,52.149L682.077,54.392L683.273,57.083L683.872,57.98L685.218,59.476L686.115,60.971Z\", \"type\": \"path\"}, {\"fillcolor\": \"PaleTurquoise\", \"line\": {\"color\": \"LightSeaGreen\"}, \"path\": \"M709.086,218.561C 709.649,220.515 712.045,222.274 713.556,223.635C 716.568,226.349 721.265,229.117 724.534,231.517C 725.215,232.016 726.067,232.761 726.786,233.205C 727.75,233.801 729.053,234.673 730.164,234.894C 731.326,235.124 732.803,234.08 733.946,233.766C 734.856,233.516 737.183,232.887 737.183,232.887L749.905,236.757L749.905,239.798L750.108,243.244L750.513,250.948L750.715,253.684L747.573,257.739L745.039,258.652L741.491,259.766L740.477,260.374L740.172,262.3L740.882,264.327L742.199,266.051L744.835,266.862L750.106,267.167L752.335,266.153L754.464,265.038L756.795,264.328L758.822,265.038L761.559,266.964L762.573,271.931L763.89,279.128L764.296,289.467L762.066,292.103L761.255,293.015L763.383,294.84L765.208,296.969L766.829,300.617L766.138,303.921L763.075,304.609L760.346,307.43L757.618,310.534L756.018,312.603L754.795,315.99L752.443,315.332L747.458,315.52L744.824,316.273L742.942,318.06L740.308,320.976L737.579,323.234L735.887,324.55L734.099,323.516L732.783,321.258L730.714,317.966L727.798,316.555L724.882,316.837L722.06,318.53C 722.06,318.53 721.307,321.258 721.213,321.634C 721.119,322.011 719.237,325.585 719.237,325.585L717.92,330.477L717.262,333.581L714.628,336.402L710.772,337.813L703.716,339.224L700.612,340.164L696.472,341.952L692.709,341.952L691.486,339.13L687.723,338.283L684.357,337.926L683.512,334.254L682.015,330.13L681.616,328.633L681.649,327.303L685.375,326.239L689.698,324.843L694.753,322.714L698.678,320.054L700.94,317.26L701.073,314.4L700.408,310.808L697.748,306.418L695.685,303.745L698.971,302.15L699.767,300.825L702.242,299.763L701.535,299.056L700.916,297.465L700.651,296.139L700.828,294.548L701.976,292.693L703.92,291.101L702.184,289.966L699.059,287.216L696.621,284.028L695.683,282.528L696.933,280.903L695.621,279.653L693.433,277.091L693.0,275.781L692.062,276.093L691.437,274.905L690.0,272.344L688.562,270.969L687.312,269.281L688.75,268.156L688.438,263.281L690.313,263.093L692.251,263.468L694.876,263.656L699.188,259.718L701.98,254.599L704.19,248.588L702.687,248.147L700.832,247.793L699.417,246.556L699.771,245.053L701.892,243.197L703.483,242.402L704.102,240.81L703.306,237.894L701.185,235.684L708.256,220.304Z\", \"type\": \"path\"}, {\"fillcolor\": \"PaleTurquoise\", \"line\": {\"color\": \"LightSeaGreen\"}, \"path\": \"M684.389,337.887L680.297,342.049L677.476,342.425L674.654,343.742L672.585,345.435L673.901,350.327L672.396,354.654L669.198,357.852L668.258,362.179L665.436,364.813L661.862,364.625L659.98,361.427L656.593,361.803L656.029,364.437L654.524,369.517L650.385,371.775L646.998,375.349L641.919,375.537L639.097,377.23L637.404,380.804L637.78,383.062L639.849,387.577L637.968,388.706L635.523,392.093L635.523,398.302L638.344,402.065L641.731,407.144L640.417,413.347L638.909,415.987L635.899,418.526L631.572,418.808L630.443,417.116L627.809,415.987L620.377,415.234L618.308,413.729L613.981,412.694L608.713,413.729L605.42,416.927L604.009,420.314L604.668,424.546L604.386,427.086L603.163,428.591L598.144,430.238L594.402,430.471L591.645,430.003L589.386,428.757L587.127,427.433L585.803,425.485L584.634,422.758L583.699,420.577L581.206,416.526L580.271,414.501L581.985,409.516L584.167,403.829L584.712,393.156L584.4,390.819L582.134,389.363L580.349,388.886L578.402,385.678L577.466,383.263L576.843,379.757L576.61,377.81L578.714,378.043L581.83,378.589L584.4,379.524L586.97,379.836L588.84,378.667L589.696,377.031L589.696,373.993L589.541,370.955L588.372,367.139L586.581,363.789L586.113,358.491L586.346,356.544L588.451,352.561L591.242,352.277L592.705,352.46L594.532,352.917L595.629,353.647L598.646,350.814L598.463,349.9L597.0,347.524L595.538,346.245L595.903,344.325L591.699,343.32L591.791,342.223L593.619,342.314L594.807,341.857L595.356,340.303L594.442,338.841L593.254,337.744L594.808,333.265L597.368,330.523L601.206,328.512L600.841,325.953L598.738,325.312L597.459,324.764L593.143,324.755L593.125,318.091L594.687,314.029L594.0,312.844L593.312,313.032L593.124,311.532L591.312,311.657L593.687,308.219L596.062,307.031L599.812,305.656L603.124,303.656L605.312,301.844L606.624,301.282L609.749,299.22L612.187,296.158L615.812,293.533L617.0,292.033L616.75,289.221L616.938,286.783L618.5,284.845L619.875,283.407L619.625,282.282L618.991,280.27L621.375,279.469L623.5,282.719L623.875,288.094L624.375,293.906L629.25,293.531L632.438,294.719L634.009,294.905L636.838,294.464L642.671,292.961L643.555,300.032L643.201,302.419L644.704,305.07L647.179,303.833L649.212,303.037L652.483,299.855L655.046,298.441L658.67,297.38L659.818,297.821L661.851,299.765L663.265,299.588L665.209,298.086L666.358,297.202L668.833,296.848L672.015,297.82L673.253,299.853L672.899,302.947L672.014,306.218L672.987,308.427L675.815,306.659L676.522,314.968L678.114,313.731L679.175,311.787L680.677,310.638L686.511,308.87L695.697,303.743L697.752,306.42L700.412,310.81L701.077,314.402L700.944,317.262L698.682,320.056L694.757,322.716L689.702,324.845L685.379,326.241L681.653,327.305L681.62,328.635L682.019,330.132L683.516,334.256L684.38,337.947\", \"type\": \"path\"}, {\"fillcolor\": \"PaleTurquoise\", \"line\": {\"color\": \"LightSeaGreen\"}, \"path\": \"M640.417,413.354L638.907,415.987L635.897,418.526L631.57,418.808L630.441,417.116L627.807,415.987L620.375,415.234L618.306,413.729L613.979,412.694L608.711,413.729L605.418,416.927L604.007,420.314L604.666,424.546L604.384,427.086L603.161,428.591L598.142,430.238L594.397,430.464L592.812,433.821L589.151,437.171L588.216,439.819L586.969,442.078L585.411,442.546L582.373,442.234L578.478,442.234L576.453,441.688L576.686,445.973L576.608,448.855L575.023,455.192L581.169,452.239L586.245,451.393L590.474,452.873L593.858,459.218L594.281,461.967L593.858,467.466L593.858,473.387L593.858,479.944L594.493,487.134L593.646,492.633L590.897,497.92L587.936,501.516L587.09,506.38L590.686,511.244L591.955,515.051L591.532,517.165L592.378,520.126L597.031,524.145L602.952,527.529L608.874,530.702L612.258,535.777L617.968,544.237L621.352,547.409L621.776,551.216L625.995,555.667L627.939,559.705L630.332,560.004L633.322,560.602L635.416,562.397L638.258,564.043L642.146,564.491L644.389,566.136L646.1,566.949L649.025,568.229L654.709,563.294L658.179,565.682L661.289,567.331L664.279,569.874L665.925,568.977L668.168,567.033L669.215,565.837L670.71,566.286L675.795,571.519L679.384,575.856L681.478,578.847L681.777,581.988L679.833,584.082L678.188,585.278L677.399,585.478L677.188,587.064L676.659,590.66L675.073,592.034L671.054,594.572L668.516,596.793L667.565,599.437L668.834,602.186L670.209,602.186L672.958,602.61L676.659,603.984L679.092,606.628L682.158,609.272L684.59,611.916L686.758,612.419L689.031,613.714L689.454,616.569L689.877,621.962L692.627,625.875L694.31,628.09L695.588,629.682L695.588,631.796L697.279,636.237L700.24,641.101L699.817,643.851L697.068,646.388L694.53,650.407L694.53,652.522L696.01,652.733L698.547,650.196L701.932,650.407L704.469,652.945L707.43,653.58L710.603,653.368L712.506,654.214L712.929,657.387L715.678,658.233L719.485,656.33L720.332,651.254L720.966,648.294L722.658,644.698L723.716,640.469L726.888,638.354L729.003,636.028L729.849,633.067L729.003,632.432C 729.003,632.432 726.677,629.471 725.83,628.413C 724.984,627.356 722.446,625.876 722.446,625.876L718.005,625.876L715.891,624.184L715.256,621.858L715.679,618.685L714.199,616.148L712.508,614.033L711.238,610.437L710.815,608.746L712.295,606.843L714.198,604.94L716.524,604.305L716.578,602.137L716.313,596.903L715.255,595.634L713.986,593.096L714.197,588.867L715.889,584.426L718.215,582.946L722.234,581.466L726.463,579.986L728.366,578.717L729.846,576.391L730.692,573.218L730.481,569.834L728.789,566.238L728.155,563.701L729.635,560.105L735.768,557.567L739.997,553.548L742.535,551.011L744.438,550.165L746.553,546.569L748.704,545.557L744.825,541.854L740.685,536.022L737.111,532.635L732.219,529.061L731.466,525.297L732.219,520.218L730.337,515.138L727.327,510.059L726.01,506.484L727.703,503.474L729.396,498.582L729.208,493.314L730.336,490.304L732.594,488.422L734.663,485.035L733.534,479.203L733.722,474.876L735.227,470.925L735.791,467.915L732.969,464.528L732.217,461.142L734.098,457.379L734.569,452.11L731.277,448.442L727.797,447.313L725.633,447.125L722.341,443.833L719.895,440.164L717.167,433.956L716.791,428.97L717.638,421.728L719.801,420.128L722.811,416.93L722.247,414.861L721.213,414.297L717.356,413.357L714.252,409.312L712.37,407.43L707.855,408.747L704.092,408.37L703.528,406.018L703.151,402.82L702.681,398.117L702.117,394.919L701.459,395.671L699.766,396.895L693.839,397.365L690.547,399.999L689.418,402.445L691.394,406.49L692.241,408.183L692.146,410.817L689.607,413.262L686.878,415.144L684.15,416.367L680.293,417.025L676.437,418.06L674.461,418.06L672.956,417.213L669.193,420.035L665.806,419.471L662.514,417.589L660.256,416.366L655.647,415.519L652.073,416.272L648.459,416.108L644.335,414.246ZM706.584,607.156L707.642,608.213L708.7,608.002L709.546,606.944L710.392,605.675L710.181,604.088L709.334,603.772L707.643,605.463Z\", \"type\": \"path\"}], \"template\": {\"data\": {\"bar\": [{\"error_x\": {\"color\": \"#2a3f5f\"}, \"error_y\": {\"color\": \"#2a3f5f\"}, \"marker\": {\"line\": {\"color\": \"#E5ECF6\", \"width\": 0.5}}, \"type\": \"bar\"}], \"barpolar\": [{\"marker\": {\"line\": {\"color\": \"#E5ECF6\", \"width\": 0.5}}, \"type\": \"barpolar\"}], \"carpet\": [{\"aaxis\": {\"endlinecolor\": \"#2a3f5f\", \"gridcolor\": \"white\", \"linecolor\": \"white\", \"minorgridcolor\": \"white\", \"startlinecolor\": \"#2a3f5f\"}, \"baxis\": {\"endlinecolor\": \"#2a3f5f\", \"gridcolor\": \"white\", \"linecolor\": \"white\", \"minorgridcolor\": \"white\", \"startlinecolor\": \"#2a3f5f\"}, \"type\": \"carpet\"}], \"choropleth\": [{\"colorbar\": {\"outlinewidth\": 0, \"ticks\": \"\"}, \"type\": \"choropleth\"}], \"contour\": [{\"colorbar\": {\"outlinewidth\": 0, \"ticks\": \"\"}, \"colorscale\": [[0.0, \"#0d0887\"], [0.1111111111111111, \"#46039f\"], [0.2222222222222222, \"#7201a8\"], [0.3333333333333333, \"#9c179e\"], [0.4444444444444444, \"#bd3786\"], [0.5555555555555556, \"#d8576b\"], [0.6666666666666666, \"#ed7953\"], [0.7777777777777778, \"#fb9f3a\"], [0.8888888888888888, \"#fdca26\"], [1.0, \"#f0f921\"]], \"type\": \"contour\"}], \"contourcarpet\": [{\"colorbar\": {\"outlinewidth\": 0, \"ticks\": \"\"}, \"type\": \"contourcarpet\"}], \"heatmap\": [{\"colorbar\": {\"outlinewidth\": 0, \"ticks\": \"\"}, \"colorscale\": [[0.0, \"#0d0887\"], [0.1111111111111111, \"#46039f\"], [0.2222222222222222, \"#7201a8\"], [0.3333333333333333, \"#9c179e\"], [0.4444444444444444, \"#bd3786\"], [0.5555555555555556, \"#d8576b\"], [0.6666666666666666, \"#ed7953\"], [0.7777777777777778, \"#fb9f3a\"], [0.8888888888888888, \"#fdca26\"], [1.0, \"#f0f921\"]], \"type\": \"heatmap\"}], \"heatmapgl\": [{\"colorbar\": {\"outlinewidth\": 0, \"ticks\": \"\"}, \"colorscale\": [[0.0, \"#0d0887\"], [0.1111111111111111, \"#46039f\"], [0.2222222222222222, \"#7201a8\"], [0.3333333333333333, \"#9c179e\"], [0.4444444444444444, \"#bd3786\"], [0.5555555555555556, \"#d8576b\"], [0.6666666666666666, \"#ed7953\"], [0.7777777777777778, \"#fb9f3a\"], [0.8888888888888888, \"#fdca26\"], [1.0, \"#f0f921\"]], \"type\": \"heatmapgl\"}], \"histogram\": [{\"marker\": {\"colorbar\": {\"outlinewidth\": 0, \"ticks\": \"\"}}, \"type\": \"histogram\"}], \"histogram2d\": [{\"colorbar\": {\"outlinewidth\": 0, \"ticks\": \"\"}, \"colorscale\": [[0.0, \"#0d0887\"], [0.1111111111111111, \"#46039f\"], [0.2222222222222222, \"#7201a8\"], [0.3333333333333333, \"#9c179e\"], [0.4444444444444444, \"#bd3786\"], [0.5555555555555556, \"#d8576b\"], [0.6666666666666666, \"#ed7953\"], [0.7777777777777778, \"#fb9f3a\"], [0.8888888888888888, \"#fdca26\"], [1.0, \"#f0f921\"]], \"type\": \"histogram2d\"}], \"histogram2dcontour\": [{\"colorbar\": {\"outlinewidth\": 0, \"ticks\": \"\"}, \"colorscale\": [[0.0, \"#0d0887\"], [0.1111111111111111, \"#46039f\"], [0.2222222222222222, \"#7201a8\"], [0.3333333333333333, \"#9c179e\"], [0.4444444444444444, \"#bd3786\"], [0.5555555555555556, \"#d8576b\"], [0.6666666666666666, \"#ed7953\"], [0.7777777777777778, \"#fb9f3a\"], [0.8888888888888888, \"#fdca26\"], [1.0, \"#f0f921\"]], \"type\": \"histogram2dcontour\"}], \"mesh3d\": [{\"colorbar\": {\"outlinewidth\": 0, \"ticks\": \"\"}, \"type\": \"mesh3d\"}], \"parcoords\": [{\"line\": {\"colorbar\": {\"outlinewidth\": 0, \"ticks\": \"\"}}, \"type\": \"parcoords\"}], \"pie\": [{\"automargin\": true, \"type\": \"pie\"}], \"scatter\": [{\"marker\": {\"colorbar\": {\"outlinewidth\": 0, \"ticks\": \"\"}}, \"type\": \"scatter\"}], \"scatter3d\": [{\"line\": {\"colorbar\": {\"outlinewidth\": 0, \"ticks\": \"\"}}, \"marker\": {\"colorbar\": {\"outlinewidth\": 0, \"ticks\": \"\"}}, \"type\": \"scatter3d\"}], \"scattercarpet\": [{\"marker\": {\"colorbar\": {\"outlinewidth\": 0, \"ticks\": \"\"}}, \"type\": \"scattercarpet\"}], \"scattergeo\": [{\"marker\": {\"colorbar\": {\"outlinewidth\": 0, \"ticks\": \"\"}}, \"type\": \"scattergeo\"}], \"scattergl\": [{\"marker\": {\"colorbar\": {\"outlinewidth\": 0, \"ticks\": \"\"}}, \"type\": \"scattergl\"}], \"scattermapbox\": [{\"marker\": {\"colorbar\": {\"outlinewidth\": 0, \"ticks\": \"\"}}, \"type\": \"scattermapbox\"}], \"scatterpolar\": [{\"marker\": {\"colorbar\": {\"outlinewidth\": 0, \"ticks\": \"\"}}, \"type\": \"scatterpolar\"}], \"scatterpolargl\": [{\"marker\": {\"colorbar\": {\"outlinewidth\": 0, \"ticks\": \"\"}}, \"type\": \"scatterpolargl\"}], \"scatterternary\": [{\"marker\": {\"colorbar\": {\"outlinewidth\": 0, \"ticks\": \"\"}}, \"type\": \"scatterternary\"}], \"surface\": [{\"colorbar\": {\"outlinewidth\": 0, \"ticks\": \"\"}, \"colorscale\": [[0.0, \"#0d0887\"], [0.1111111111111111, \"#46039f\"], [0.2222222222222222, \"#7201a8\"], [0.3333333333333333, \"#9c179e\"], [0.4444444444444444, \"#bd3786\"], [0.5555555555555556, \"#d8576b\"], [0.6666666666666666, \"#ed7953\"], [0.7777777777777778, \"#fb9f3a\"], [0.8888888888888888, \"#fdca26\"], [1.0, \"#f0f921\"]], \"type\": \"surface\"}], \"table\": [{\"cells\": {\"fill\": {\"color\": \"#EBF0F8\"}, \"line\": {\"color\": \"white\"}}, \"header\": {\"fill\": {\"color\": \"#C8D4E3\"}, \"line\": {\"color\": \"white\"}}, \"type\": \"table\"}]}, \"layout\": {\"annotationdefaults\": {\"arrowcolor\": \"#2a3f5f\", \"arrowhead\": 0, \"arrowwidth\": 1}, \"coloraxis\": {\"colorbar\": {\"outlinewidth\": 0, \"ticks\": \"\"}}, \"colorscale\": {\"diverging\": [[0, \"#8e0152\"], [0.1, \"#c51b7d\"], [0.2, \"#de77ae\"], [0.3, \"#f1b6da\"], [0.4, \"#fde0ef\"], [0.5, \"#f7f7f7\"], [0.6, \"#e6f5d0\"], [0.7, \"#b8e186\"], [0.8, \"#7fbc41\"], [0.9, \"#4d9221\"], [1, \"#276419\"]], \"sequential\": [[0.0, \"#0d0887\"], [0.1111111111111111, \"#46039f\"], [0.2222222222222222, \"#7201a8\"], [0.3333333333333333, \"#9c179e\"], [0.4444444444444444, \"#bd3786\"], [0.5555555555555556, \"#d8576b\"], [0.6666666666666666, \"#ed7953\"], [0.7777777777777778, \"#fb9f3a\"], [0.8888888888888888, \"#fdca26\"], [1.0, \"#f0f921\"]], \"sequentialminus\": [[0.0, \"#0d0887\"], [0.1111111111111111, \"#46039f\"], [0.2222222222222222, \"#7201a8\"], [0.3333333333333333, \"#9c179e\"], [0.4444444444444444, \"#bd3786\"], [0.5555555555555556, \"#d8576b\"], [0.6666666666666666, \"#ed7953\"], [0.7777777777777778, \"#fb9f3a\"], [0.8888888888888888, \"#fdca26\"], [1.0, \"#f0f921\"]]}, \"colorway\": [\"#636efa\", \"#EF553B\", \"#00cc96\", \"#ab63fa\", \"#FFA15A\", \"#19d3f3\", \"#FF6692\", \"#B6E880\", \"#FF97FF\", \"#FECB52\"], \"font\": {\"color\": \"#2a3f5f\"}, \"geo\": {\"bgcolor\": \"white\", \"lakecolor\": \"white\", \"landcolor\": \"#E5ECF6\", \"showlakes\": true, \"showland\": true, \"subunitcolor\": \"white\"}, \"hoverlabel\": {\"align\": \"left\"}, \"hovermode\": \"closest\", \"mapbox\": {\"style\": \"light\"}, \"paper_bgcolor\": \"white\", \"plot_bgcolor\": \"#E5ECF6\", \"polar\": {\"angularaxis\": {\"gridcolor\": \"white\", \"linecolor\": \"white\", \"ticks\": \"\"}, \"bgcolor\": \"#E5ECF6\", \"radialaxis\": {\"gridcolor\": \"white\", \"linecolor\": \"white\", \"ticks\": \"\"}}, \"scene\": {\"xaxis\": {\"backgroundcolor\": \"#E5ECF6\", \"gridcolor\": \"white\", \"gridwidth\": 2, \"linecolor\": \"white\", \"showbackground\": true, \"ticks\": \"\", \"zerolinecolor\": \"white\"}, \"yaxis\": {\"backgroundcolor\": \"#E5ECF6\", \"gridcolor\": \"white\", \"gridwidth\": 2, \"linecolor\": \"white\", \"showbackground\": true, \"ticks\": \"\", \"zerolinecolor\": \"white\"}, \"zaxis\": {\"backgroundcolor\": \"#E5ECF6\", \"gridcolor\": \"white\", \"gridwidth\": 2, \"linecolor\": \"white\", \"showbackground\": true, \"ticks\": \"\", \"zerolinecolor\": \"white\"}}, \"shapedefaults\": {\"line\": {\"color\": \"#2a3f5f\"}}, \"ternary\": {\"aaxis\": {\"gridcolor\": \"white\", \"linecolor\": \"white\", \"ticks\": \"\"}, \"baxis\": {\"gridcolor\": \"white\", \"linecolor\": \"white\", \"ticks\": \"\"}, \"bgcolor\": \"#E5ECF6\", \"caxis\": {\"gridcolor\": \"white\", \"linecolor\": \"white\", \"ticks\": \"\"}}, \"title\": {\"x\": 0.05}, \"xaxis\": {\"automargin\": true, \"gridcolor\": \"white\", \"linecolor\": \"white\", \"ticks\": \"\", \"title\": {\"standoff\": 15}, \"zerolinecolor\": \"white\", \"zerolinewidth\": 2}, \"yaxis\": {\"automargin\": true, \"gridcolor\": \"white\", \"linecolor\": \"white\", \"ticks\": \"\", \"title\": {\"standoff\": 15}, \"zerolinecolor\": \"white\", \"zerolinewidth\": 2}}}, \"width\": 990, \"xaxis\": {\"range\": [0, 1100], \"showgrid\": false, \"showticklabels\": false, \"zeroline\": false}, \"yaxis\": {\"range\": [700, 0], \"showgrid\": false, \"showticklabels\": false, \"zeroline\": false}},\n",
       "                        {\"responsive\": true}\n",
       "                    ).then(function(){\n",
       "                            \n",
       "var gd = document.getElementById('7ee8dba3-b9df-4329-9bbc-44e267413984');\n",
       "var x = new MutationObserver(function (mutations, observer) {{\n",
       "        var display = window.getComputedStyle(gd).display;\n",
       "        if (!display || display === 'none') {{\n",
       "            console.log([gd, 'removed!']);\n",
       "            Plotly.purge(gd);\n",
       "            observer.disconnect();\n",
       "        }}\n",
       "}});\n",
       "\n",
       "// Listen for the removal of the full notebook cells\n",
       "var notebookContainer = gd.closest('#notebook-container');\n",
       "if (notebookContainer) {{\n",
       "    x.observe(notebookContainer, {childList: true});\n",
       "}}\n",
       "\n",
       "// Listen for the clearing of the current output cell\n",
       "var outputEl = gd.closest('.output');\n",
       "if (outputEl) {{\n",
       "    x.observe(outputEl, {childList: true});\n",
       "}}\n",
       "\n",
       "                        })\n",
       "                };\n",
       "                });\n",
       "            </script>\n",
       "        </div>"
      ]
     },
     "metadata": {},
     "output_type": "display_data"
    }
   ],
   "source": [
    "fig = go.Figure(layout={'plot_bgcolor':'rgba(0,0,0,0)'})\n",
    "\n",
    "\n",
    "# Update axes properties\n",
    "fig.update_xaxes(\n",
    "    range=[0, 1100],\n",
    "    zeroline=False,\n",
    "    showgrid= False,\n",
    "    showticklabels=False,\n",
    ")\n",
    "\n",
    "# No idea why, but I have to revert y-axis\n",
    "fig.update_yaxes(\n",
    "    range=[700, 0],\n",
    "    zeroline=False,\n",
    "    showgrid= False,\n",
    "    showticklabels=False,\n",
    ")\n",
    "\n",
    "canton_shapes = []\n",
    "for c in cantons_border.keys():\n",
    "    canton_shapes.append(go.layout.Shape(type='path', path=cantons_border[c], fillcolor=\"PaleTurquoise\",\n",
    "        line_color=\"LightSeaGreen\"))\n",
    "\n",
    "# Add shapes\n",
    "fig.update_layout(shapes=canton_shapes, width=990, height=630\n",
    ")\n",
    "\n",
    "fig.show()"
   ]
  },
  {
   "cell_type": "code",
   "execution_count": 226,
   "metadata": {},
   "outputs": [],
   "source": [
    "folder_preprocessed_data = Path(os.getcwd()).parent / 'data' / 'preprocessed'"
   ]
  },
  {
   "cell_type": "code",
   "execution_count": 227,
   "metadata": {},
   "outputs": [],
   "source": [
    "with open(folder_preprocessed_data / 'canton_borders.json', 'w') as file:\n",
    "    file.write(json.dumps(cantons_border))"
   ]
  }
 ],
 "metadata": {
  "kernelspec": {
   "display_name": "Python 3",
   "language": "python",
   "name": "python3"
  },
  "language_info": {
   "codemirror_mode": {
    "name": "ipython",
    "version": 3
   },
   "file_extension": ".py",
   "mimetype": "text/x-python",
   "name": "python",
   "nbconvert_exporter": "python",
   "pygments_lexer": "ipython3",
   "version": "3.7.6"
  }
 },
 "nbformat": 4,
 "nbformat_minor": 4
}
